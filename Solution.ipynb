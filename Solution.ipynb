{
 "cells": [
  {
   "cell_type": "markdown",
   "id": "31adecdb",
   "metadata": {
    "id": "31adecdb"
   },
   "source": [
    "# Starbucks Challenge\n",
    "### Introduction\n",
    "This data set contains simulated data that mimics customer behavior on the Starbucks rewards mobile app. Once every few days, Starbucks sends out an offer to users of the mobile app. An offer can be merely an advertisement for a drink or an actual offer such as a discount or BOGO (buy one get one free). Some users might not receive any offer during certain weeks.\n",
    "\n",
    "Not all users receive the same offer, and that is the challenge to solve with this data set.\n",
    "\n",
    "Your task is to combine transaction, demographic and offer data to determine which demographic groups respond best to which offer type. This data set is a simplified version of the real Starbucks app because the underlying simulator only has one product whereas Starbucks actually sells dozens of products.\n",
    "\n",
    "Every offer has a validity period before the offer expires. As an example, a BOGO offer might be valid for only 5 days. You'll see in the data set that informational offers have a validity period even though these ads are merely providing information about a product; for example, if an informational offer has 7 days of validity, you can assume the customer is feeling the influence of the offer for 7 days after receiving the advertisement.\n",
    "\n",
    "You'll be given transactional data showing user purchases made on the app including the timestamp of purchase and the amount of money spent on a purchase. This transactional data also has a record for each offer that a user receives as well as a record for when a user actually views the offer. There are also records for when a user completes an offer.\n",
    "\n",
    "Keep in mind as well that someone using the app might make a purchase through the app without having received an offer or seen an offer.\n",
    "\n",
    "### Example\n",
    "To give an example, a user could receive a discount offer buy 10 dollars get 2 off on Monday. The offer is valid for 10 days from receipt. If the customer accumulates at least 10 dollars in purchases during the validity period, the customer completes the offer.\n",
    "\n",
    "However, there are a few things to watch out for in this data set. Customers do not opt into the offers that they receive; in other words, a user can receive an offer, never actually view the offer, and still complete the offer. For example, a user might receive the \"buy 10 dollars get 2 dollars off offer\", but the user never opens the offer during the 10 day validity period. The customer spends 15 dollars during those ten days. There will be an offer completion record in the data set; however, the customer was not influenced by the offer because the customer never viewed the offer.\n",
    "\n",
    "### Data\n",
    "The data is contained in three files:\n",
    " - portfolio.json - containing offer ids and meta data about each offer (duration, type, etc.)\n",
    " - profile.json - demographic data for each customer\n",
    " - transcript.json - records for transactions, offers received, offers viewed, and offers complete"
   ]
  },
  {
   "cell_type": "markdown",
   "id": "81446bb5",
   "metadata": {
    "id": "81446bb5"
   },
   "source": [
    "### portfolio.json\n",
    " - id (string) - offer id\n",
    " - offer_type (string) - type of offer ie BOGO, discount, informational\n",
    " - difficulty (int) - minimum required spend to complete an offer\n",
    " - reward (int) - reward given for completing an offer\n",
    " - duration (int) - time for offer to be open, in days\n",
    " - channels (list of strings)\n",
    "### profile.json\n",
    " - age (int) - age of the customer\n",
    " - became_member_on (int) - date when customer created an app account\n",
    " - gender (str) - gender of the customer (note some entries contain 'O' for other rather than M or F)\n",
    " - id (str) - customer id\n",
    " - income (float) - customer's income\n",
    "### transcript.json\n",
    " - event (str) - record description (ie transaction, offer received, offer viewed, etc.)\n",
    " - person (str) - customer id\n",
    " - time (int) - time in hours since start of test. The data begins at time t=0\n",
    " - value - (dict of strings) - either an offer id or transaction amount depending on the record\n"
   ]
  },
  {
   "cell_type": "code",
   "execution_count": 2,
   "id": "6dd239b7",
   "metadata": {
    "executionInfo": {
     "elapsed": 317,
     "status": "ok",
     "timestamp": 1682989549888,
     "user": {
      "displayName": "César Mosqueira",
      "userId": "11705195256143475621"
     },
     "user_tz": 300
    },
    "id": "6dd239b7"
   },
   "outputs": [],
   "source": [
    "import pandas as pd\n",
    "import json\n",
    "from pandas import json_normalize\n",
    "import matplotlib.pyplot as plt\n",
    "import seaborn as sb\n",
    "import datetime\n",
    "\n",
    "from sklearn.preprocessing import LabelEncoder, MinMaxScaler, StandardScaler\n",
    "\n",
    "from sklearn.cluster import KMeans, AgglomerativeClustering\n",
    "\n",
    "from sklearn.metrics import silhouette_samples, silhouette_score\n",
    "from sklearn.metrics import calinski_harabasz_score, roc_curve, auc \n",
    "from sklearn.metrics import accuracy_score, precision_score, recall_score, f1_score\n",
    "from sklearn.metrics import classification_report, confusion_matrix, ConfusionMatrixDisplay\n",
    "\n",
    "\n",
    "from sklearn.decomposition import PCA\n",
    "\n",
    "from sklearn.neighbors import KNeighborsClassifier\n",
    "from sklearn.model_selection import train_test_split\n",
    "from sklearn.svm import SVC\n",
    "from sklearn.linear_model import LogisticRegression\n",
    "from sklearn.ensemble import RandomForestClassifier\n",
    "from sklearn.tree import DecisionTreeClassifier\n",
    "from sklearn.ensemble import RandomForestClassifier\n",
    "\n",
    "# from tqdm.notebook import tqdm\n",
    "from tqdm import tqdm\n",
    "\n",
    "from IPython import get_ipython\n",
    "import sys\n",
    "import gc\n",
    "import numpy as np\n",
    "from scipy.stats.mstats import winsorize\n",
    "import os\n"
   ]
  },
  {
   "cell_type": "code",
   "execution_count": 2,
   "id": "UJsTIZOVBEwU",
   "metadata": {
    "colab": {
     "base_uri": "https://localhost:8080/"
    },
    "executionInfo": {
     "elapsed": 1873,
     "status": "ok",
     "timestamp": 1682988382559,
     "user": {
      "displayName": "César Mosqueira",
      "userId": "11705195256143475621"
     },
     "user_tz": 300
    },
    "id": "UJsTIZOVBEwU",
    "outputId": "70cba737-5d57-4829-a3c5-4cf784b1c3ae"
   },
   "outputs": [
    {
     "name": "stdout",
     "output_type": "stream",
     "text": [
      "Drive already mounted at /content/drive; to attempt to forcibly remount, call drive.mount(\"/content/drive\", force_remount=True).\n"
     ]
    }
   ],
   "source": [
    "from google.colab import drive\n",
    "drive.mount('/content/drive')\n",
    "os.chdir('/content/drive/MyDrive/CasoStarbucks')"
   ]
  },
  {
   "cell_type": "code",
   "execution_count": 3,
   "id": "cdd12bba",
   "metadata": {
    "colab": {
     "base_uri": "https://localhost:8080/"
    },
    "executionInfo": {
     "elapsed": 468,
     "status": "ok",
     "timestamp": 1682988383020,
     "user": {
      "displayName": "César Mosqueira",
      "userId": "11705195256143475621"
     },
     "user_tz": 300
    },
    "id": "cdd12bba",
    "outputId": "cb6f25a4-6dfa-4427-8c39-a74f333bcab4"
   },
   "outputs": [
    {
     "name": "stdout",
     "output_type": "stream",
     "text": [
      "portfolio.json\tprofile.json  transcript.json\n"
     ]
    }
   ],
   "source": [
    "!ls Data"
   ]
  },
  {
   "cell_type": "markdown",
   "id": "27ccdcc9",
   "metadata": {
    "id": "27ccdcc9"
   },
   "source": [
    "`Disclaimer: \n",
    " I did some modifications to the jsons (format related) using a text editor, specialy the transcript one but none affected the data. Could've been done here but I didn't want the notebook to be too bloated.` "
   ]
  },
  {
   "cell_type": "code",
   "execution_count": 4,
   "id": "c4237fb1",
   "metadata": {
    "executionInfo": {
     "elapsed": 13136,
     "status": "ok",
     "timestamp": 1682988396154,
     "user": {
      "displayName": "César Mosqueira",
      "userId": "11705195256143475621"
     },
     "user_tz": 300
    },
    "id": "c4237fb1",
    "scrolled": true
   },
   "outputs": [],
   "source": [
    "portfolio = pd.read_json('Data/portfolio.json')\n",
    "profile = pd.read_json('Data/profile.json')\n",
    "transcript = pd.read_json('Data/transcript.json')"
   ]
  },
  {
   "cell_type": "markdown",
   "id": "fd1d6f7e",
   "metadata": {
    "id": "fd1d6f7e"
   },
   "source": [
    "# Preprocessing process"
   ]
  },
  {
   "cell_type": "markdown",
   "id": "b32709f4",
   "metadata": {
    "id": "b32709f4"
   },
   "source": [
    "### Profile dataframe"
   ]
  },
  {
   "cell_type": "code",
   "execution_count": 5,
   "id": "1e2d1d84",
   "metadata": {
    "colab": {
     "base_uri": "https://localhost:8080/",
     "height": 423
    },
    "executionInfo": {
     "elapsed": 15,
     "status": "ok",
     "timestamp": 1682988396154,
     "user": {
      "displayName": "César Mosqueira",
      "userId": "11705195256143475621"
     },
     "user_tz": 300
    },
    "id": "1e2d1d84",
    "outputId": "f1349c31-003f-4ed7-b600-5a1d73807abe"
   },
   "outputs": [
    {
     "data": {
      "text/html": [
       "<div>\n",
       "<style scoped>\n",
       "    .dataframe tbody tr th:only-of-type {\n",
       "        vertical-align: middle;\n",
       "    }\n",
       "\n",
       "    .dataframe tbody tr th {\n",
       "        vertical-align: top;\n",
       "    }\n",
       "\n",
       "    .dataframe thead th {\n",
       "        text-align: right;\n",
       "    }\n",
       "</style>\n",
       "<table border=\"1\" class=\"dataframe\">\n",
       "  <thead>\n",
       "    <tr style=\"text-align: right;\">\n",
       "      <th></th>\n",
       "      <th>gender</th>\n",
       "      <th>age</th>\n",
       "      <th>id</th>\n",
       "      <th>became_member_on</th>\n",
       "      <th>income</th>\n",
       "    </tr>\n",
       "  </thead>\n",
       "  <tbody>\n",
       "    <tr>\n",
       "      <th>0</th>\n",
       "      <td>None</td>\n",
       "      <td>118</td>\n",
       "      <td>68be06ca386d4c31939f3a4f0e3dd783</td>\n",
       "      <td>20170212</td>\n",
       "      <td>NaN</td>\n",
       "    </tr>\n",
       "    <tr>\n",
       "      <th>1</th>\n",
       "      <td>F</td>\n",
       "      <td>55</td>\n",
       "      <td>0610b486422d4921ae7d2bf64640c50b</td>\n",
       "      <td>20170715</td>\n",
       "      <td>112000.0</td>\n",
       "    </tr>\n",
       "    <tr>\n",
       "      <th>2</th>\n",
       "      <td>None</td>\n",
       "      <td>118</td>\n",
       "      <td>38fe809add3b4fcf9315a9694bb96ff5</td>\n",
       "      <td>20180712</td>\n",
       "      <td>NaN</td>\n",
       "    </tr>\n",
       "    <tr>\n",
       "      <th>3</th>\n",
       "      <td>F</td>\n",
       "      <td>75</td>\n",
       "      <td>78afa995795e4d85b5d9ceeca43f5fef</td>\n",
       "      <td>20170509</td>\n",
       "      <td>100000.0</td>\n",
       "    </tr>\n",
       "    <tr>\n",
       "      <th>4</th>\n",
       "      <td>None</td>\n",
       "      <td>118</td>\n",
       "      <td>a03223e636434f42ac4c3df47e8bac43</td>\n",
       "      <td>20170804</td>\n",
       "      <td>NaN</td>\n",
       "    </tr>\n",
       "    <tr>\n",
       "      <th>...</th>\n",
       "      <td>...</td>\n",
       "      <td>...</td>\n",
       "      <td>...</td>\n",
       "      <td>...</td>\n",
       "      <td>...</td>\n",
       "    </tr>\n",
       "    <tr>\n",
       "      <th>16995</th>\n",
       "      <td>F</td>\n",
       "      <td>45</td>\n",
       "      <td>6d5f3a774f3d4714ab0c092238f3a1d7</td>\n",
       "      <td>20180604</td>\n",
       "      <td>54000.0</td>\n",
       "    </tr>\n",
       "    <tr>\n",
       "      <th>16996</th>\n",
       "      <td>M</td>\n",
       "      <td>61</td>\n",
       "      <td>2cb4f97358b841b9a9773a7aa05a9d77</td>\n",
       "      <td>20180713</td>\n",
       "      <td>72000.0</td>\n",
       "    </tr>\n",
       "    <tr>\n",
       "      <th>16997</th>\n",
       "      <td>M</td>\n",
       "      <td>49</td>\n",
       "      <td>01d26f638c274aa0b965d24cefe3183f</td>\n",
       "      <td>20170126</td>\n",
       "      <td>73000.0</td>\n",
       "    </tr>\n",
       "    <tr>\n",
       "      <th>16998</th>\n",
       "      <td>F</td>\n",
       "      <td>83</td>\n",
       "      <td>9dc1421481194dcd9400aec7c9ae6366</td>\n",
       "      <td>20160307</td>\n",
       "      <td>50000.0</td>\n",
       "    </tr>\n",
       "    <tr>\n",
       "      <th>16999</th>\n",
       "      <td>F</td>\n",
       "      <td>62</td>\n",
       "      <td>e4052622e5ba45a8b96b59aba68cf068</td>\n",
       "      <td>20170722</td>\n",
       "      <td>82000.0</td>\n",
       "    </tr>\n",
       "  </tbody>\n",
       "</table>\n",
       "<p>17000 rows × 5 columns</p>\n",
       "</div>"
      ],
      "text/plain": [
       "      gender  age                                id  became_member_on  \\\n",
       "0       None  118  68be06ca386d4c31939f3a4f0e3dd783          20170212   \n",
       "1          F   55  0610b486422d4921ae7d2bf64640c50b          20170715   \n",
       "2       None  118  38fe809add3b4fcf9315a9694bb96ff5          20180712   \n",
       "3          F   75  78afa995795e4d85b5d9ceeca43f5fef          20170509   \n",
       "4       None  118  a03223e636434f42ac4c3df47e8bac43          20170804   \n",
       "...      ...  ...                               ...               ...   \n",
       "16995      F   45  6d5f3a774f3d4714ab0c092238f3a1d7          20180604   \n",
       "16996      M   61  2cb4f97358b841b9a9773a7aa05a9d77          20180713   \n",
       "16997      M   49  01d26f638c274aa0b965d24cefe3183f          20170126   \n",
       "16998      F   83  9dc1421481194dcd9400aec7c9ae6366          20160307   \n",
       "16999      F   62  e4052622e5ba45a8b96b59aba68cf068          20170722   \n",
       "\n",
       "         income  \n",
       "0           NaN  \n",
       "1      112000.0  \n",
       "2           NaN  \n",
       "3      100000.0  \n",
       "4           NaN  \n",
       "...         ...  \n",
       "16995   54000.0  \n",
       "16996   72000.0  \n",
       "16997   73000.0  \n",
       "16998   50000.0  \n",
       "16999   82000.0  \n",
       "\n",
       "[17000 rows x 5 columns]"
      ]
     },
     "execution_count": 5,
     "metadata": {},
     "output_type": "execute_result"
    }
   ],
   "source": [
    "profile"
   ]
  },
  {
   "cell_type": "markdown",
   "id": "03394951",
   "metadata": {
    "id": "03394951"
   },
   "source": [
    "the only unusual feature i see is that the profiles with Nan income are the ones that show very high age values. I'll remove them in a cleaning function later"
   ]
  },
  {
   "cell_type": "code",
   "execution_count": 6,
   "id": "6cdc6548",
   "metadata": {
    "colab": {
     "base_uri": "https://localhost:8080/",
     "height": 252
    },
    "executionInfo": {
     "elapsed": 1353,
     "status": "ok",
     "timestamp": 1682988397493,
     "user": {
      "displayName": "César Mosqueira",
      "userId": "11705195256143475621"
     },
     "user_tz": 300
    },
    "id": "6cdc6548",
    "outputId": "34512677-cf03-4d0b-a731-f5115af02eb8"
   },
   "outputs": [
    {
     "data": {
      "text/plain": [
       "<AxesSubplot:xlabel='age', ylabel='Count'>"
      ]
     },
     "execution_count": 6,
     "metadata": {},
     "output_type": "execute_result"
    },
    {
     "data": {
      "image/png": "[encoded data removed]",
      "text/plain": [
       "<Figure size 800x200 with 1 Axes>"
      ]
     },
     "metadata": {},
     "output_type": "display_data"
    }
   ],
   "source": [
    "plt.figure(figsize=(8,2))\n",
    "sb.histplot(data=profile['age'])"
   ]
  },
  {
   "cell_type": "code",
   "execution_count": 7,
   "id": "f6c5b5d2",
   "metadata": {
    "colab": {
     "base_uri": "https://localhost:8080/",
     "height": 300
    },
    "executionInfo": {
     "elapsed": 10,
     "status": "ok",
     "timestamp": 1682988397493,
     "user": {
      "displayName": "César Mosqueira",
      "userId": "11705195256143475621"
     },
     "user_tz": 300
    },
    "id": "f6c5b5d2",
    "outputId": "dc4b090d-c547-4a7c-8712-8fda8e0d438f"
   },
   "outputs": [
    {
     "data": {
      "text/html": [
       "<div>\n",
       "<style scoped>\n",
       "    .dataframe tbody tr th:only-of-type {\n",
       "        vertical-align: middle;\n",
       "    }\n",
       "\n",
       "    .dataframe tbody tr th {\n",
       "        vertical-align: top;\n",
       "    }\n",
       "\n",
       "    .dataframe thead th {\n",
       "        text-align: right;\n",
       "    }\n",
       "</style>\n",
       "<table border=\"1\" class=\"dataframe\">\n",
       "  <thead>\n",
       "    <tr style=\"text-align: right;\">\n",
       "      <th></th>\n",
       "      <th>age</th>\n",
       "      <th>became_member_on</th>\n",
       "      <th>income</th>\n",
       "    </tr>\n",
       "  </thead>\n",
       "  <tbody>\n",
       "    <tr>\n",
       "      <th>count</th>\n",
       "      <td>2175.0</td>\n",
       "      <td>2.175000e+03</td>\n",
       "      <td>0.0</td>\n",
       "    </tr>\n",
       "    <tr>\n",
       "      <th>mean</th>\n",
       "      <td>118.0</td>\n",
       "      <td>2.016804e+07</td>\n",
       "      <td>NaN</td>\n",
       "    </tr>\n",
       "    <tr>\n",
       "      <th>std</th>\n",
       "      <td>0.0</td>\n",
       "      <td>1.009105e+04</td>\n",
       "      <td>NaN</td>\n",
       "    </tr>\n",
       "    <tr>\n",
       "      <th>min</th>\n",
       "      <td>118.0</td>\n",
       "      <td>2.013080e+07</td>\n",
       "      <td>NaN</td>\n",
       "    </tr>\n",
       "    <tr>\n",
       "      <th>25%</th>\n",
       "      <td>118.0</td>\n",
       "      <td>2.016070e+07</td>\n",
       "      <td>NaN</td>\n",
       "    </tr>\n",
       "    <tr>\n",
       "      <th>50%</th>\n",
       "      <td>118.0</td>\n",
       "      <td>2.017073e+07</td>\n",
       "      <td>NaN</td>\n",
       "    </tr>\n",
       "    <tr>\n",
       "      <th>75%</th>\n",
       "      <td>118.0</td>\n",
       "      <td>2.017123e+07</td>\n",
       "      <td>NaN</td>\n",
       "    </tr>\n",
       "    <tr>\n",
       "      <th>max</th>\n",
       "      <td>118.0</td>\n",
       "      <td>2.018073e+07</td>\n",
       "      <td>NaN</td>\n",
       "    </tr>\n",
       "  </tbody>\n",
       "</table>\n",
       "</div>"
      ],
      "text/plain": [
       "          age  became_member_on  income\n",
       "count  2175.0      2.175000e+03     0.0\n",
       "mean    118.0      2.016804e+07     NaN\n",
       "std       0.0      1.009105e+04     NaN\n",
       "min     118.0      2.013080e+07     NaN\n",
       "25%     118.0      2.016070e+07     NaN\n",
       "50%     118.0      2.017073e+07     NaN\n",
       "75%     118.0      2.017123e+07     NaN\n",
       "max     118.0      2.018073e+07     NaN"
      ]
     },
     "execution_count": 7,
     "metadata": {},
     "output_type": "execute_result"
    }
   ],
   "source": [
    "null_income_profiles = profile[profile['income'].isnull()]\n",
    "null_income_profiles.describe()"
   ]
  },
  {
   "cell_type": "markdown",
   "id": "23af268e",
   "metadata": {
    "id": "23af268e"
   },
   "source": [
    "I can see that from users from 118 years and forward present NaN income, however probably there wont be a lot of users with 118"
   ]
  },
  {
   "cell_type": "code",
   "execution_count": 8,
   "id": "b6eacfeb",
   "metadata": {
    "colab": {
     "base_uri": "https://localhost:8080/"
    },
    "executionInfo": {
     "elapsed": 8,
     "status": "ok",
     "timestamp": 1682988397493,
     "user": {
      "displayName": "César Mosqueira",
      "userId": "11705195256143475621"
     },
     "user_tz": 300
    },
    "id": "b6eacfeb",
    "outputId": "3f2201fc-7e3f-40a8-c9c6-a1ad291ac00a"
   },
   "outputs": [
    {
     "data": {
      "text/plain": [
       "0"
      ]
     },
     "execution_count": 8,
     "metadata": {},
     "output_type": "execute_result"
    }
   ],
   "source": [
    "profile[profile['age'] < 90].isnull().sum().sum()"
   ]
  },
  {
   "cell_type": "markdown",
   "id": "cccd3792",
   "metadata": {
    "id": "cccd3792"
   },
   "source": [
    "When I select users under 90 years old we see that there are no NaN values in the dataframe."
   ]
  },
  {
   "cell_type": "code",
   "execution_count": 9,
   "id": "3bce157a",
   "metadata": {
    "executionInfo": {
     "elapsed": 5,
     "status": "ok",
     "timestamp": 1682988397494,
     "user": {
      "displayName": "César Mosqueira",
      "userId": "11705195256143475621"
     },
     "user_tz": 300
    },
    "id": "3bce157a"
   },
   "outputs": [],
   "source": [
    "profile['gender'] = profile['gender'].fillna('N')"
   ]
  },
  {
   "cell_type": "code",
   "execution_count": 10,
   "id": "09cb71b6",
   "metadata": {
    "colab": {
     "base_uri": "https://localhost:8080/",
     "height": 252
    },
    "executionInfo": {
     "elapsed": 269,
     "status": "ok",
     "timestamp": 1682988398152,
     "user": {
      "displayName": "César Mosqueira",
      "userId": "11705195256143475621"
     },
     "user_tz": 300
    },
    "id": "09cb71b6",
    "outputId": "7c910629-0718-40a0-d956-4ebf7222d055"
   },
   "outputs": [
    {
     "data": {
      "text/plain": [
       "<AxesSubplot:xlabel='gender', ylabel='Count'>"
      ]
     },
     "execution_count": 10,
     "metadata": {},
     "output_type": "execute_result"
    },
    {
     "data": {
      "image/png": "[encoded data removed]",
      "text/plain": [
       "<Figure size 800x200 with 1 Axes>"
      ]
     },
     "metadata": {},
     "output_type": "display_data"
    }
   ],
   "source": [
    "plt.figure(figsize=(8,2))\n",
    "sb.histplot(profile['gender'])"
   ]
  },
  {
   "cell_type": "code",
   "execution_count": 11,
   "id": "f4e463e7",
   "metadata": {
    "colab": {
     "base_uri": "https://localhost:8080/",
     "height": 467
    },
    "executionInfo": {
     "elapsed": 358,
     "status": "ok",
     "timestamp": 1682988398504,
     "user": {
      "displayName": "César Mosqueira",
      "userId": "11705195256143475621"
     },
     "user_tz": 300
    },
    "id": "f4e463e7",
    "outputId": "73f32980-98c1-42fd-8384-09202de2b9f0"
   },
   "outputs": [
    {
     "data": {
      "text/plain": [
       "<AxesSubplot:xlabel='age'>"
      ]
     },
     "execution_count": 11,
     "metadata": {},
     "output_type": "execute_result"
    },
    {
     "data": {
      "image/png": "[encoded data removed]",
      "text/plain": [
       "<Figure size 640x480 with 1 Axes>"
      ]
     },
     "metadata": {},
     "output_type": "display_data"
    }
   ],
   "source": [
    "sb.boxplot(data=profile, x='age')"
   ]
  },
  {
   "cell_type": "markdown",
   "id": "29dddcc8",
   "metadata": {
    "id": "29dddcc8"
   },
   "source": [
    "we see that  users with age 118 are users whos gender is none and their income is none so these outlier data has to be deleted"
   ]
  },
  {
   "cell_type": "code",
   "execution_count": 12,
   "id": "6014aa35",
   "metadata": {
    "colab": {
     "base_uri": "https://localhost:8080/",
     "height": 423
    },
    "executionInfo": {
     "elapsed": 289,
     "status": "ok",
     "timestamp": 1682988398791,
     "user": {
      "displayName": "César Mosqueira",
      "userId": "11705195256143475621"
     },
     "user_tz": 300
    },
    "id": "6014aa35",
    "outputId": "6386604b-86c6-4a43-c5b9-e1dd38ec3c45"
   },
   "outputs": [
    {
     "data": {
      "text/html": [
       "<div>\n",
       "<style scoped>\n",
       "    .dataframe tbody tr th:only-of-type {\n",
       "        vertical-align: middle;\n",
       "    }\n",
       "\n",
       "    .dataframe tbody tr th {\n",
       "        vertical-align: top;\n",
       "    }\n",
       "\n",
       "    .dataframe thead th {\n",
       "        text-align: right;\n",
       "    }\n",
       "</style>\n",
       "<table border=\"1\" class=\"dataframe\">\n",
       "  <thead>\n",
       "    <tr style=\"text-align: right;\">\n",
       "      <th></th>\n",
       "      <th>gender</th>\n",
       "      <th>age</th>\n",
       "      <th>id</th>\n",
       "      <th>became_member_on</th>\n",
       "      <th>income</th>\n",
       "    </tr>\n",
       "  </thead>\n",
       "  <tbody>\n",
       "    <tr>\n",
       "      <th>0</th>\n",
       "      <td>N</td>\n",
       "      <td>118</td>\n",
       "      <td>68be06ca386d4c31939f3a4f0e3dd783</td>\n",
       "      <td>20170212</td>\n",
       "      <td>NaN</td>\n",
       "    </tr>\n",
       "    <tr>\n",
       "      <th>2</th>\n",
       "      <td>N</td>\n",
       "      <td>118</td>\n",
       "      <td>38fe809add3b4fcf9315a9694bb96ff5</td>\n",
       "      <td>20180712</td>\n",
       "      <td>NaN</td>\n",
       "    </tr>\n",
       "    <tr>\n",
       "      <th>4</th>\n",
       "      <td>N</td>\n",
       "      <td>118</td>\n",
       "      <td>a03223e636434f42ac4c3df47e8bac43</td>\n",
       "      <td>20170804</td>\n",
       "      <td>NaN</td>\n",
       "    </tr>\n",
       "    <tr>\n",
       "      <th>6</th>\n",
       "      <td>N</td>\n",
       "      <td>118</td>\n",
       "      <td>8ec6ce2a7e7949b1bf142def7d0e0586</td>\n",
       "      <td>20170925</td>\n",
       "      <td>NaN</td>\n",
       "    </tr>\n",
       "    <tr>\n",
       "      <th>7</th>\n",
       "      <td>N</td>\n",
       "      <td>118</td>\n",
       "      <td>68617ca6246f4fbc85e91a2a49552598</td>\n",
       "      <td>20171002</td>\n",
       "      <td>NaN</td>\n",
       "    </tr>\n",
       "    <tr>\n",
       "      <th>...</th>\n",
       "      <td>...</td>\n",
       "      <td>...</td>\n",
       "      <td>...</td>\n",
       "      <td>...</td>\n",
       "      <td>...</td>\n",
       "    </tr>\n",
       "    <tr>\n",
       "      <th>16980</th>\n",
       "      <td>N</td>\n",
       "      <td>118</td>\n",
       "      <td>5c686d09ca4d475a8f750f2ba07e0440</td>\n",
       "      <td>20160901</td>\n",
       "      <td>NaN</td>\n",
       "    </tr>\n",
       "    <tr>\n",
       "      <th>16982</th>\n",
       "      <td>N</td>\n",
       "      <td>118</td>\n",
       "      <td>d9ca82f550ac4ee58b6299cf1e5c824a</td>\n",
       "      <td>20160415</td>\n",
       "      <td>NaN</td>\n",
       "    </tr>\n",
       "    <tr>\n",
       "      <th>16989</th>\n",
       "      <td>N</td>\n",
       "      <td>118</td>\n",
       "      <td>ca45ee1883624304bac1e4c8a114f045</td>\n",
       "      <td>20180305</td>\n",
       "      <td>NaN</td>\n",
       "    </tr>\n",
       "    <tr>\n",
       "      <th>16991</th>\n",
       "      <td>N</td>\n",
       "      <td>118</td>\n",
       "      <td>a9a20fa8b5504360beb4e7c8712f8306</td>\n",
       "      <td>20160116</td>\n",
       "      <td>NaN</td>\n",
       "    </tr>\n",
       "    <tr>\n",
       "      <th>16994</th>\n",
       "      <td>N</td>\n",
       "      <td>118</td>\n",
       "      <td>c02b10e8752c4d8e9b73f918558531f7</td>\n",
       "      <td>20151211</td>\n",
       "      <td>NaN</td>\n",
       "    </tr>\n",
       "  </tbody>\n",
       "</table>\n",
       "<p>2175 rows × 5 columns</p>\n",
       "</div>"
      ],
      "text/plain": [
       "      gender  age                                id  became_member_on  income\n",
       "0          N  118  68be06ca386d4c31939f3a4f0e3dd783          20170212     NaN\n",
       "2          N  118  38fe809add3b4fcf9315a9694bb96ff5          20180712     NaN\n",
       "4          N  118  a03223e636434f42ac4c3df47e8bac43          20170804     NaN\n",
       "6          N  118  8ec6ce2a7e7949b1bf142def7d0e0586          20170925     NaN\n",
       "7          N  118  68617ca6246f4fbc85e91a2a49552598          20171002     NaN\n",
       "...      ...  ...                               ...               ...     ...\n",
       "16980      N  118  5c686d09ca4d475a8f750f2ba07e0440          20160901     NaN\n",
       "16982      N  118  d9ca82f550ac4ee58b6299cf1e5c824a          20160415     NaN\n",
       "16989      N  118  ca45ee1883624304bac1e4c8a114f045          20180305     NaN\n",
       "16991      N  118  a9a20fa8b5504360beb4e7c8712f8306          20160116     NaN\n",
       "16994      N  118  c02b10e8752c4d8e9b73f918558531f7          20151211     NaN\n",
       "\n",
       "[2175 rows x 5 columns]"
      ]
     },
     "execution_count": 12,
     "metadata": {},
     "output_type": "execute_result"
    }
   ],
   "source": [
    "profile[profile['age'] == 118]"
   ]
  },
  {
   "cell_type": "code",
   "execution_count": 13,
   "id": "a763ebcd",
   "metadata": {
    "colab": {
     "base_uri": "https://localhost:8080/"
    },
    "executionInfo": {
     "elapsed": 9,
     "status": "ok",
     "timestamp": 1682988398791,
     "user": {
      "displayName": "César Mosqueira",
      "userId": "11705195256143475621"
     },
     "user_tz": 300
    },
    "id": "a763ebcd",
    "outputId": "c0a3988e-2ad6-40f0-c71c-4a8565981fdc"
   },
   "outputs": [
    {
     "name": "stdout",
     "output_type": "stream",
     "text": [
      "M    8484\n",
      "F    6129\n",
      "O     212\n",
      "Name: gender, dtype: int64\n",
      "None income values: 0\n"
     ]
    }
   ],
   "source": [
    "print(profile[profile['age'] < 118]['gender'].value_counts())\n",
    "print('None income values:', profile[profile['age'] < 118]['income'].isna().sum())"
   ]
  },
  {
   "cell_type": "markdown",
   "id": "6e0c1c3c",
   "metadata": {
    "id": "6e0c1c3c"
   },
   "source": [
    "Exploring income column"
   ]
  },
  {
   "cell_type": "code",
   "execution_count": 14,
   "id": "7570158d",
   "metadata": {
    "colab": {
     "base_uri": "https://localhost:8080/",
     "height": 300
    },
    "executionInfo": {
     "elapsed": 5,
     "status": "ok",
     "timestamp": 1682988398791,
     "user": {
      "displayName": "César Mosqueira",
      "userId": "11705195256143475621"
     },
     "user_tz": 300
    },
    "id": "7570158d",
    "outputId": "aba1da81-9e7f-4827-a141-43c37a16216d"
   },
   "outputs": [
    {
     "data": {
      "text/html": [
       "<div>\n",
       "<style scoped>\n",
       "    .dataframe tbody tr th:only-of-type {\n",
       "        vertical-align: middle;\n",
       "    }\n",
       "\n",
       "    .dataframe tbody tr th {\n",
       "        vertical-align: top;\n",
       "    }\n",
       "\n",
       "    .dataframe thead th {\n",
       "        text-align: right;\n",
       "    }\n",
       "</style>\n",
       "<table border=\"1\" class=\"dataframe\">\n",
       "  <thead>\n",
       "    <tr style=\"text-align: right;\">\n",
       "      <th></th>\n",
       "      <th>age</th>\n",
       "      <th>became_member_on</th>\n",
       "      <th>income</th>\n",
       "    </tr>\n",
       "  </thead>\n",
       "  <tbody>\n",
       "    <tr>\n",
       "      <th>count</th>\n",
       "      <td>17000.000000</td>\n",
       "      <td>1.700000e+04</td>\n",
       "      <td>14825.000000</td>\n",
       "    </tr>\n",
       "    <tr>\n",
       "      <th>mean</th>\n",
       "      <td>62.531412</td>\n",
       "      <td>2.016703e+07</td>\n",
       "      <td>65404.991568</td>\n",
       "    </tr>\n",
       "    <tr>\n",
       "      <th>std</th>\n",
       "      <td>26.738580</td>\n",
       "      <td>1.167750e+04</td>\n",
       "      <td>21598.299410</td>\n",
       "    </tr>\n",
       "    <tr>\n",
       "      <th>min</th>\n",
       "      <td>18.000000</td>\n",
       "      <td>2.013073e+07</td>\n",
       "      <td>30000.000000</td>\n",
       "    </tr>\n",
       "    <tr>\n",
       "      <th>25%</th>\n",
       "      <td>45.000000</td>\n",
       "      <td>2.016053e+07</td>\n",
       "      <td>49000.000000</td>\n",
       "    </tr>\n",
       "    <tr>\n",
       "      <th>50%</th>\n",
       "      <td>58.000000</td>\n",
       "      <td>2.017080e+07</td>\n",
       "      <td>64000.000000</td>\n",
       "    </tr>\n",
       "    <tr>\n",
       "      <th>75%</th>\n",
       "      <td>73.000000</td>\n",
       "      <td>2.017123e+07</td>\n",
       "      <td>80000.000000</td>\n",
       "    </tr>\n",
       "    <tr>\n",
       "      <th>max</th>\n",
       "      <td>118.000000</td>\n",
       "      <td>2.018073e+07</td>\n",
       "      <td>120000.000000</td>\n",
       "    </tr>\n",
       "  </tbody>\n",
       "</table>\n",
       "</div>"
      ],
      "text/plain": [
       "                age  became_member_on         income\n",
       "count  17000.000000      1.700000e+04   14825.000000\n",
       "mean      62.531412      2.016703e+07   65404.991568\n",
       "std       26.738580      1.167750e+04   21598.299410\n",
       "min       18.000000      2.013073e+07   30000.000000\n",
       "25%       45.000000      2.016053e+07   49000.000000\n",
       "50%       58.000000      2.017080e+07   64000.000000\n",
       "75%       73.000000      2.017123e+07   80000.000000\n",
       "max      118.000000      2.018073e+07  120000.000000"
      ]
     },
     "execution_count": 14,
     "metadata": {},
     "output_type": "execute_result"
    }
   ],
   "source": [
    "profile.describe()"
   ]
  },
  {
   "cell_type": "code",
   "execution_count": 15,
   "id": "ee16991e",
   "metadata": {
    "colab": {
     "base_uri": "https://localhost:8080/",
     "height": 467
    },
    "executionInfo": {
     "elapsed": 907,
     "status": "ok",
     "timestamp": 1682988399694,
     "user": {
      "displayName": "César Mosqueira",
      "userId": "11705195256143475621"
     },
     "user_tz": 300
    },
    "id": "ee16991e",
    "outputId": "16a198e1-a5d2-41be-a107-c67d98eb6c12"
   },
   "outputs": [
    {
     "data": {
      "text/plain": [
       "<AxesSubplot:xlabel='income', ylabel='Count'>"
      ]
     },
     "execution_count": 15,
     "metadata": {},
     "output_type": "execute_result"
    },
    {
     "data": {
      "image/png": "[encoded data removed]",
      "text/plain": [
       "<Figure size 640x480 with 1 Axes>"
      ]
     },
     "metadata": {},
     "output_type": "display_data"
    }
   ],
   "source": [
    "sb.histplot(data=profile, x=\"income\", kde=True)"
   ]
  },
  {
   "cell_type": "markdown",
   "id": "058e3271",
   "metadata": {
    "id": "058e3271"
   },
   "source": [
    "### Portfolio dataframe"
   ]
  },
  {
   "cell_type": "code",
   "execution_count": 16,
   "id": "bd915b56",
   "metadata": {
    "colab": {
     "base_uri": "https://localhost:8080/",
     "height": 363
    },
    "executionInfo": {
     "elapsed": 7,
     "status": "ok",
     "timestamp": 1682988399695,
     "user": {
      "displayName": "César Mosqueira",
      "userId": "11705195256143475621"
     },
     "user_tz": 300
    },
    "id": "bd915b56",
    "outputId": "f324099f-6cb5-4be5-c033-ff5eda94ab26"
   },
   "outputs": [
    {
     "data": {
      "text/html": [
       "<div>\n",
       "<style scoped>\n",
       "    .dataframe tbody tr th:only-of-type {\n",
       "        vertical-align: middle;\n",
       "    }\n",
       "\n",
       "    .dataframe tbody tr th {\n",
       "        vertical-align: top;\n",
       "    }\n",
       "\n",
       "    .dataframe thead th {\n",
       "        text-align: right;\n",
       "    }\n",
       "</style>\n",
       "<table border=\"1\" class=\"dataframe\">\n",
       "  <thead>\n",
       "    <tr style=\"text-align: right;\">\n",
       "      <th></th>\n",
       "      <th>reward</th>\n",
       "      <th>channels</th>\n",
       "      <th>difficulty</th>\n",
       "      <th>duration</th>\n",
       "      <th>offer_type</th>\n",
       "      <th>id</th>\n",
       "    </tr>\n",
       "  </thead>\n",
       "  <tbody>\n",
       "    <tr>\n",
       "      <th>0</th>\n",
       "      <td>10</td>\n",
       "      <td>[email, mobile, social]</td>\n",
       "      <td>10</td>\n",
       "      <td>7</td>\n",
       "      <td>bogo</td>\n",
       "      <td>ae264e3637204a6fb9bb56bc8210ddfd</td>\n",
       "    </tr>\n",
       "    <tr>\n",
       "      <th>1</th>\n",
       "      <td>10</td>\n",
       "      <td>[web, email, mobile, social]</td>\n",
       "      <td>10</td>\n",
       "      <td>5</td>\n",
       "      <td>bogo</td>\n",
       "      <td>4d5c57ea9a6940dd891ad53e9dbe8da0</td>\n",
       "    </tr>\n",
       "    <tr>\n",
       "      <th>2</th>\n",
       "      <td>0</td>\n",
       "      <td>[web, email, mobile]</td>\n",
       "      <td>0</td>\n",
       "      <td>4</td>\n",
       "      <td>informational</td>\n",
       "      <td>3f207df678b143eea3cee63160fa8bed</td>\n",
       "    </tr>\n",
       "    <tr>\n",
       "      <th>3</th>\n",
       "      <td>5</td>\n",
       "      <td>[web, email, mobile]</td>\n",
       "      <td>5</td>\n",
       "      <td>7</td>\n",
       "      <td>bogo</td>\n",
       "      <td>9b98b8c7a33c4b65b9aebfe6a799e6d9</td>\n",
       "    </tr>\n",
       "    <tr>\n",
       "      <th>4</th>\n",
       "      <td>5</td>\n",
       "      <td>[web, email]</td>\n",
       "      <td>20</td>\n",
       "      <td>10</td>\n",
       "      <td>discount</td>\n",
       "      <td>0b1e1539f2cc45b7b9fa7c272da2e1d7</td>\n",
       "    </tr>\n",
       "    <tr>\n",
       "      <th>5</th>\n",
       "      <td>3</td>\n",
       "      <td>[web, email, mobile, social]</td>\n",
       "      <td>7</td>\n",
       "      <td>7</td>\n",
       "      <td>discount</td>\n",
       "      <td>2298d6c36e964ae4a3e7e9706d1fb8c2</td>\n",
       "    </tr>\n",
       "    <tr>\n",
       "      <th>6</th>\n",
       "      <td>2</td>\n",
       "      <td>[web, email, mobile, social]</td>\n",
       "      <td>10</td>\n",
       "      <td>10</td>\n",
       "      <td>discount</td>\n",
       "      <td>fafdcd668e3743c1bb461111dcafc2a4</td>\n",
       "    </tr>\n",
       "    <tr>\n",
       "      <th>7</th>\n",
       "      <td>0</td>\n",
       "      <td>[email, mobile, social]</td>\n",
       "      <td>0</td>\n",
       "      <td>3</td>\n",
       "      <td>informational</td>\n",
       "      <td>5a8bc65990b245e5a138643cd4eb9837</td>\n",
       "    </tr>\n",
       "    <tr>\n",
       "      <th>8</th>\n",
       "      <td>5</td>\n",
       "      <td>[web, email, mobile, social]</td>\n",
       "      <td>5</td>\n",
       "      <td>5</td>\n",
       "      <td>bogo</td>\n",
       "      <td>f19421c1d4aa40978ebb69ca19b0e20d</td>\n",
       "    </tr>\n",
       "    <tr>\n",
       "      <th>9</th>\n",
       "      <td>2</td>\n",
       "      <td>[web, email, mobile]</td>\n",
       "      <td>10</td>\n",
       "      <td>7</td>\n",
       "      <td>discount</td>\n",
       "      <td>2906b810c7d4411798c6938adc9daaa5</td>\n",
       "    </tr>\n",
       "  </tbody>\n",
       "</table>\n",
       "</div>"
      ],
      "text/plain": [
       "   reward                      channels  difficulty  duration     offer_type  \\\n",
       "0      10       [email, mobile, social]          10         7           bogo   \n",
       "1      10  [web, email, mobile, social]          10         5           bogo   \n",
       "2       0          [web, email, mobile]           0         4  informational   \n",
       "3       5          [web, email, mobile]           5         7           bogo   \n",
       "4       5                  [web, email]          20        10       discount   \n",
       "5       3  [web, email, mobile, social]           7         7       discount   \n",
       "6       2  [web, email, mobile, social]          10        10       discount   \n",
       "7       0       [email, mobile, social]           0         3  informational   \n",
       "8       5  [web, email, mobile, social]           5         5           bogo   \n",
       "9       2          [web, email, mobile]          10         7       discount   \n",
       "\n",
       "                                 id  \n",
       "0  ae264e3637204a6fb9bb56bc8210ddfd  \n",
       "1  4d5c57ea9a6940dd891ad53e9dbe8da0  \n",
       "2  3f207df678b143eea3cee63160fa8bed  \n",
       "3  9b98b8c7a33c4b65b9aebfe6a799e6d9  \n",
       "4  0b1e1539f2cc45b7b9fa7c272da2e1d7  \n",
       "5  2298d6c36e964ae4a3e7e9706d1fb8c2  \n",
       "6  fafdcd668e3743c1bb461111dcafc2a4  \n",
       "7  5a8bc65990b245e5a138643cd4eb9837  \n",
       "8  f19421c1d4aa40978ebb69ca19b0e20d  \n",
       "9  2906b810c7d4411798c6938adc9daaa5  "
      ]
     },
     "execution_count": 16,
     "metadata": {},
     "output_type": "execute_result"
    }
   ],
   "source": [
    "portfolio"
   ]
  },
  {
   "cell_type": "markdown",
   "id": "5f226a26",
   "metadata": {
    "id": "5f226a26"
   },
   "source": [
    "In this case we wont worry about Nan Values and we have only 10 rows"
   ]
  },
  {
   "cell_type": "markdown",
   "id": "a5e338c4",
   "metadata": {
    "id": "a5e338c4"
   },
   "source": [
    "The offer types:\n",
    " - bogo: buy one get one\n",
    " - informational: I assume is the one where you spend \\\\$10 and you get \\\\$2\n",
    " - discount: a simple discount"
   ]
  },
  {
   "cell_type": "code",
   "execution_count": 17,
   "id": "9d2fd0be",
   "metadata": {
    "colab": {
     "base_uri": "https://localhost:8080/",
     "height": 300
    },
    "executionInfo": {
     "elapsed": 6,
     "status": "ok",
     "timestamp": 1682988399695,
     "user": {
      "displayName": "César Mosqueira",
      "userId": "11705195256143475621"
     },
     "user_tz": 300
    },
    "id": "9d2fd0be",
    "outputId": "81706456-20d0-4e85-e1f1-00b82d0fcbc4"
   },
   "outputs": [
    {
     "data": {
      "text/html": [
       "<div>\n",
       "<style scoped>\n",
       "    .dataframe tbody tr th:only-of-type {\n",
       "        vertical-align: middle;\n",
       "    }\n",
       "\n",
       "    .dataframe tbody tr th {\n",
       "        vertical-align: top;\n",
       "    }\n",
       "\n",
       "    .dataframe thead th {\n",
       "        text-align: right;\n",
       "    }\n",
       "</style>\n",
       "<table border=\"1\" class=\"dataframe\">\n",
       "  <thead>\n",
       "    <tr style=\"text-align: right;\">\n",
       "      <th></th>\n",
       "      <th>reward</th>\n",
       "      <th>difficulty</th>\n",
       "      <th>duration</th>\n",
       "    </tr>\n",
       "  </thead>\n",
       "  <tbody>\n",
       "    <tr>\n",
       "      <th>count</th>\n",
       "      <td>10.000000</td>\n",
       "      <td>10.000000</td>\n",
       "      <td>10.000000</td>\n",
       "    </tr>\n",
       "    <tr>\n",
       "      <th>mean</th>\n",
       "      <td>4.200000</td>\n",
       "      <td>7.700000</td>\n",
       "      <td>6.500000</td>\n",
       "    </tr>\n",
       "    <tr>\n",
       "      <th>std</th>\n",
       "      <td>3.583915</td>\n",
       "      <td>5.831905</td>\n",
       "      <td>2.321398</td>\n",
       "    </tr>\n",
       "    <tr>\n",
       "      <th>min</th>\n",
       "      <td>0.000000</td>\n",
       "      <td>0.000000</td>\n",
       "      <td>3.000000</td>\n",
       "    </tr>\n",
       "    <tr>\n",
       "      <th>25%</th>\n",
       "      <td>2.000000</td>\n",
       "      <td>5.000000</td>\n",
       "      <td>5.000000</td>\n",
       "    </tr>\n",
       "    <tr>\n",
       "      <th>50%</th>\n",
       "      <td>4.000000</td>\n",
       "      <td>8.500000</td>\n",
       "      <td>7.000000</td>\n",
       "    </tr>\n",
       "    <tr>\n",
       "      <th>75%</th>\n",
       "      <td>5.000000</td>\n",
       "      <td>10.000000</td>\n",
       "      <td>7.000000</td>\n",
       "    </tr>\n",
       "    <tr>\n",
       "      <th>max</th>\n",
       "      <td>10.000000</td>\n",
       "      <td>20.000000</td>\n",
       "      <td>10.000000</td>\n",
       "    </tr>\n",
       "  </tbody>\n",
       "</table>\n",
       "</div>"
      ],
      "text/plain": [
       "          reward  difficulty   duration\n",
       "count  10.000000   10.000000  10.000000\n",
       "mean    4.200000    7.700000   6.500000\n",
       "std     3.583915    5.831905   2.321398\n",
       "min     0.000000    0.000000   3.000000\n",
       "25%     2.000000    5.000000   5.000000\n",
       "50%     4.000000    8.500000   7.000000\n",
       "75%     5.000000   10.000000   7.000000\n",
       "max    10.000000   20.000000  10.000000"
      ]
     },
     "execution_count": 17,
     "metadata": {},
     "output_type": "execute_result"
    }
   ],
   "source": [
    "portfolio.describe()"
   ]
  },
  {
   "cell_type": "code",
   "execution_count": 18,
   "id": "2fa2ef2d",
   "metadata": {
    "colab": {
     "base_uri": "https://localhost:8080/",
     "height": 234
    },
    "executionInfo": {
     "elapsed": 389,
     "status": "ok",
     "timestamp": 1682988400529,
     "user": {
      "displayName": "César Mosqueira",
      "userId": "11705195256143475621"
     },
     "user_tz": 300
    },
    "id": "2fa2ef2d",
    "outputId": "c9a32777-e77e-4d5f-f932-288426b2c414"
   },
   "outputs": [
    {
     "data": {
      "image/png": "[encoded data removed]",
      "text/plain": [
       "<Figure size 400x200 with 1 Axes>"
      ]
     },
     "metadata": {},
     "output_type": "display_data"
    }
   ],
   "source": [
    "plt.figure(figsize=(4,2))\n",
    "ax = sb.histplot(data=portfolio['offer_type'])\n",
    "\n",
    "ax.set(xlabel='Type of offer', ylabel='frequency')\n",
    "plt.show()"
   ]
  },
  {
   "cell_type": "code",
   "execution_count": 19,
   "id": "70e90082",
   "metadata": {
    "colab": {
     "base_uri": "https://localhost:8080/"
    },
    "executionInfo": {
     "elapsed": 12,
     "status": "ok",
     "timestamp": 1682988400529,
     "user": {
      "displayName": "César Mosqueira",
      "userId": "11705195256143475621"
     },
     "user_tz": 300
    },
    "id": "70e90082",
    "outputId": "29b04524-58df-4ecd-f9d5-3b03f38dbeb3"
   },
   "outputs": [
    {
     "data": {
      "text/plain": [
       "[['email', 'mobile', 'social'],\n",
       " ['web', 'email', 'mobile', 'social'],\n",
       " ['web', 'email', 'mobile'],\n",
       " ['web', 'email', 'mobile'],\n",
       " ['web', 'email'],\n",
       " ['web', 'email', 'mobile', 'social'],\n",
       " ['web', 'email', 'mobile', 'social'],\n",
       " ['email', 'mobile', 'social'],\n",
       " ['web', 'email', 'mobile', 'social'],\n",
       " ['web', 'email', 'mobile']]"
      ]
     },
     "execution_count": 19,
     "metadata": {},
     "output_type": "execute_result"
    }
   ],
   "source": [
    "list(portfolio['channels'].values)"
   ]
  },
  {
   "cell_type": "code",
   "execution_count": 20,
   "id": "87cff4b0",
   "metadata": {
    "colab": {
     "base_uri": "https://localhost:8080/"
    },
    "executionInfo": {
     "elapsed": 11,
     "status": "ok",
     "timestamp": 1682988400529,
     "user": {
      "displayName": "César Mosqueira",
      "userId": "11705195256143475621"
     },
     "user_tz": 300
    },
    "id": "87cff4b0",
    "outputId": "189d11df-5af8-4332-9c3d-13d87f6129e2"
   },
   "outputs": [
    {
     "data": {
      "text/plain": [
       "['mobile', 'social', 'email', 'web']"
      ]
     },
     "execution_count": 20,
     "metadata": {},
     "output_type": "execute_result"
    }
   ],
   "source": [
    "channels = list(set(sum(list(portfolio['channels'].values), [])))\n",
    "channels"
   ]
  },
  {
   "cell_type": "markdown",
   "id": "6310ba9f",
   "metadata": {
    "id": "6310ba9f"
   },
   "source": [
    "we see that there are 4 channels where the offers are published"
   ]
  },
  {
   "cell_type": "code",
   "execution_count": 21,
   "id": "40095c41",
   "metadata": {
    "colab": {
     "base_uri": "https://localhost:8080/",
     "height": 467
    },
    "executionInfo": {
     "elapsed": 1040,
     "status": "ok",
     "timestamp": 1682988401562,
     "user": {
      "displayName": "César Mosqueira",
      "userId": "11705195256143475621"
     },
     "user_tz": 300
    },
    "id": "40095c41",
    "outputId": "e9f1245a-fe5d-45f5-a10b-f94ccac4b304"
   },
   "outputs": [
    {
     "data": {
      "text/plain": [
       "<AxesSubplot:xlabel='difficulty', ylabel='Count'>"
      ]
     },
     "execution_count": 21,
     "metadata": {},
     "output_type": "execute_result"
    },
    {
     "data": {
      "image/png": "[encoded data removed]",
      "text/plain": [
       "<Figure size 640x480 with 1 Axes>"
      ]
     },
     "metadata": {},
     "output_type": "display_data"
    }
   ],
   "source": [
    "sb.histplot(data=portfolio, x='difficulty')"
   ]
  },
  {
   "cell_type": "markdown",
   "id": "abea4ac3",
   "metadata": {
    "id": "abea4ac3"
   },
   "source": [
    "### Transcript dataframe"
   ]
  },
  {
   "cell_type": "code",
   "execution_count": 22,
   "id": "3ca187b0",
   "metadata": {
    "colab": {
     "base_uri": "https://localhost:8080/",
     "height": 423
    },
    "executionInfo": {
     "elapsed": 4,
     "status": "ok",
     "timestamp": 1682988401563,
     "user": {
      "displayName": "César Mosqueira",
      "userId": "11705195256143475621"
     },
     "user_tz": 300
    },
    "id": "3ca187b0",
    "outputId": "5cb8ced2-3eff-41ce-c595-37073cbb1387"
   },
   "outputs": [
    {
     "data": {
      "text/html": [
       "<div>\n",
       "<style scoped>\n",
       "    .dataframe tbody tr th:only-of-type {\n",
       "        vertical-align: middle;\n",
       "    }\n",
       "\n",
       "    .dataframe tbody tr th {\n",
       "        vertical-align: top;\n",
       "    }\n",
       "\n",
       "    .dataframe thead th {\n",
       "        text-align: right;\n",
       "    }\n",
       "</style>\n",
       "<table border=\"1\" class=\"dataframe\">\n",
       "  <thead>\n",
       "    <tr style=\"text-align: right;\">\n",
       "      <th></th>\n",
       "      <th>person</th>\n",
       "      <th>event</th>\n",
       "      <th>value</th>\n",
       "      <th>time</th>\n",
       "    </tr>\n",
       "  </thead>\n",
       "  <tbody>\n",
       "    <tr>\n",
       "      <th>0</th>\n",
       "      <td>78afa995795e4d85b5d9ceeca43f5fef</td>\n",
       "      <td>offer received</td>\n",
       "      <td>{'offer id': '9b98b8c7a33c4b65b9aebfe6a799e6d9'}</td>\n",
       "      <td>0</td>\n",
       "    </tr>\n",
       "    <tr>\n",
       "      <th>1</th>\n",
       "      <td>a03223e636434f42ac4c3df47e8bac43</td>\n",
       "      <td>offer received</td>\n",
       "      <td>{'offer id': '0b1e1539f2cc45b7b9fa7c272da2e1d7'}</td>\n",
       "      <td>0</td>\n",
       "    </tr>\n",
       "    <tr>\n",
       "      <th>2</th>\n",
       "      <td>e2127556f4f64592b11af22de27a7932</td>\n",
       "      <td>offer received</td>\n",
       "      <td>{'offer id': '2906b810c7d4411798c6938adc9daaa5'}</td>\n",
       "      <td>0</td>\n",
       "    </tr>\n",
       "    <tr>\n",
       "      <th>3</th>\n",
       "      <td>8ec6ce2a7e7949b1bf142def7d0e0586</td>\n",
       "      <td>offer received</td>\n",
       "      <td>{'offer id': 'fafdcd668e3743c1bb461111dcafc2a4'}</td>\n",
       "      <td>0</td>\n",
       "    </tr>\n",
       "    <tr>\n",
       "      <th>4</th>\n",
       "      <td>68617ca6246f4fbc85e91a2a49552598</td>\n",
       "      <td>offer received</td>\n",
       "      <td>{'offer id': '4d5c57ea9a6940dd891ad53e9dbe8da0'}</td>\n",
       "      <td>0</td>\n",
       "    </tr>\n",
       "    <tr>\n",
       "      <th>...</th>\n",
       "      <td>...</td>\n",
       "      <td>...</td>\n",
       "      <td>...</td>\n",
       "      <td>...</td>\n",
       "    </tr>\n",
       "    <tr>\n",
       "      <th>306529</th>\n",
       "      <td>b3a1272bc9904337b331bf348c3e8c17</td>\n",
       "      <td>transaction</td>\n",
       "      <td>{'amount': 1.5899999999999999}</td>\n",
       "      <td>714</td>\n",
       "    </tr>\n",
       "    <tr>\n",
       "      <th>306530</th>\n",
       "      <td>68213b08d99a4ae1b0dcb72aebd9aa35</td>\n",
       "      <td>transaction</td>\n",
       "      <td>{'amount': 9.53}</td>\n",
       "      <td>714</td>\n",
       "    </tr>\n",
       "    <tr>\n",
       "      <th>306531</th>\n",
       "      <td>a00058cf10334a308c68e7631c529907</td>\n",
       "      <td>transaction</td>\n",
       "      <td>{'amount': 3.61}</td>\n",
       "      <td>714</td>\n",
       "    </tr>\n",
       "    <tr>\n",
       "      <th>306532</th>\n",
       "      <td>76ddbd6576844afe811f1a3c0fbb5bec</td>\n",
       "      <td>transaction</td>\n",
       "      <td>{'amount': 3.5300000000000002}</td>\n",
       "      <td>714</td>\n",
       "    </tr>\n",
       "    <tr>\n",
       "      <th>306533</th>\n",
       "      <td>c02b10e8752c4d8e9b73f918558531f7</td>\n",
       "      <td>transaction</td>\n",
       "      <td>{'amount': 4.05}</td>\n",
       "      <td>714</td>\n",
       "    </tr>\n",
       "  </tbody>\n",
       "</table>\n",
       "<p>306534 rows × 4 columns</p>\n",
       "</div>"
      ],
      "text/plain": [
       "                                  person           event  \\\n",
       "0       78afa995795e4d85b5d9ceeca43f5fef  offer received   \n",
       "1       a03223e636434f42ac4c3df47e8bac43  offer received   \n",
       "2       e2127556f4f64592b11af22de27a7932  offer received   \n",
       "3       8ec6ce2a7e7949b1bf142def7d0e0586  offer received   \n",
       "4       68617ca6246f4fbc85e91a2a49552598  offer received   \n",
       "...                                  ...             ...   \n",
       "306529  b3a1272bc9904337b331bf348c3e8c17     transaction   \n",
       "306530  68213b08d99a4ae1b0dcb72aebd9aa35     transaction   \n",
       "306531  a00058cf10334a308c68e7631c529907     transaction   \n",
       "306532  76ddbd6576844afe811f1a3c0fbb5bec     transaction   \n",
       "306533  c02b10e8752c4d8e9b73f918558531f7     transaction   \n",
       "\n",
       "                                                   value  time  \n",
       "0       {'offer id': '9b98b8c7a33c4b65b9aebfe6a799e6d9'}     0  \n",
       "1       {'offer id': '0b1e1539f2cc45b7b9fa7c272da2e1d7'}     0  \n",
       "2       {'offer id': '2906b810c7d4411798c6938adc9daaa5'}     0  \n",
       "3       {'offer id': 'fafdcd668e3743c1bb461111dcafc2a4'}     0  \n",
       "4       {'offer id': '4d5c57ea9a6940dd891ad53e9dbe8da0'}     0  \n",
       "...                                                  ...   ...  \n",
       "306529                    {'amount': 1.5899999999999999}   714  \n",
       "306530                                  {'amount': 9.53}   714  \n",
       "306531                                  {'amount': 3.61}   714  \n",
       "306532                    {'amount': 3.5300000000000002}   714  \n",
       "306533                                  {'amount': 4.05}   714  \n",
       "\n",
       "[306534 rows x 4 columns]"
      ]
     },
     "execution_count": 22,
     "metadata": {},
     "output_type": "execute_result"
    }
   ],
   "source": [
    "\n",
    "transcript"
   ]
  },
  {
   "cell_type": "code",
   "execution_count": 23,
   "id": "e46fa05a",
   "metadata": {
    "colab": {
     "base_uri": "https://localhost:8080/",
     "height": 252
    },
    "executionInfo": {
     "elapsed": 3791,
     "status": "ok",
     "timestamp": 1682988405351,
     "user": {
      "displayName": "César Mosqueira",
      "userId": "11705195256143475621"
     },
     "user_tz": 300
    },
    "id": "e46fa05a",
    "outputId": "10d79076-a427-4ff3-9833-b12d572970cd"
   },
   "outputs": [
    {
     "data": {
      "text/plain": [
       "<AxesSubplot:xlabel='event', ylabel='Count'>"
      ]
     },
     "execution_count": 23,
     "metadata": {},
     "output_type": "execute_result"
    },
    {
     "data": {
      "image/png": "[encoded data removed]",
      "text/plain": [
       "<Figure size 700x200 with 1 Axes>"
      ]
     },
     "metadata": {},
     "output_type": "display_data"
    }
   ],
   "source": [
    "plt.figure(figsize=(7,2))\n",
    "sb.histplot(data=transcript['event'])"
   ]
  },
  {
   "cell_type": "code",
   "execution_count": 24,
   "id": "2923ca8b",
   "metadata": {
    "executionInfo": {
     "elapsed": 4,
     "status": "ok",
     "timestamp": 1682988405352,
     "user": {
      "displayName": "César Mosqueira",
      "userId": "11705195256143475621"
     },
     "user_tz": 300
    },
    "id": "2923ca8b"
   },
   "outputs": [],
   "source": [
    "vl = list(transcript['value'].values)"
   ]
  },
  {
   "cell_type": "code",
   "execution_count": 25,
   "id": "454ad8cd",
   "metadata": {
    "colab": {
     "base_uri": "https://localhost:8080/"
    },
    "executionInfo": {
     "elapsed": 1529,
     "status": "ok",
     "timestamp": 1682988406878,
     "user": {
      "displayName": "César Mosqueira",
      "userId": "11705195256143475621"
     },
     "user_tz": 300
    },
    "id": "454ad8cd",
    "outputId": "9f0b59a9-d386-47b6-fb6f-b877dae60239"
   },
   "outputs": [
    {
     "data": {
      "text/plain": [
       "['offer id', 'amount', 'offer_id', 'reward']"
      ]
     },
     "execution_count": 25,
     "metadata": {},
     "output_type": "execute_result"
    }
   ],
   "source": [
    "s = []\n",
    "for v in vl:\n",
    "    keys = list(v.keys())\n",
    "    for k in keys:\n",
    "        if k not in s:\n",
    "            s += [k]\n",
    "        else:\n",
    "            continue\n",
    "s"
   ]
  },
  {
   "cell_type": "markdown",
   "id": "2cc8f76d",
   "metadata": {
    "id": "2cc8f76d"
   },
   "source": [
    "In a very naive way, we can see what features we can extract from those objects. In the following cells I'll implement a cleaning function to each dataframe and try to understand what each one does and put it in just one dataframe."
   ]
  },
  {
   "cell_type": "markdown",
   "id": "05b450c9",
   "metadata": {
    "id": "05b450c9"
   },
   "source": [
    "## Cleaning data"
   ]
  },
  {
   "cell_type": "markdown",
   "id": "1c7e6a29",
   "metadata": {
    "id": "1c7e6a29"
   },
   "source": [
    "### Profile dataframe -> users"
   ]
  },
  {
   "cell_type": "code",
   "execution_count": 26,
   "id": "fb6bf440",
   "metadata": {
    "executionInfo": {
     "elapsed": 6,
     "status": "ok",
     "timestamp": 1682988406878,
     "user": {
      "displayName": "César Mosqueira",
      "userId": "11705195256143475621"
     },
     "user_tz": 300
    },
    "id": "fb6bf440"
   },
   "outputs": [],
   "source": [
    "def clean_profile(df):\n",
    "    \"\"\"\n",
    "        Args: profile dataframe\n",
    "        Returns:\n",
    "            the profile dataframe after:\n",
    "             - removing people older than 90 year old.\n",
    "             - changing the column names for better understanding\n",
    "             - change M, O, F to -1, 0 or 1 respectively\n",
    "             - divide the income number so it can be readed in thousands (since min is 30k and max 112k)\n",
    "             - cateogirze age and income variables\n",
    "             - convert dates to unix format\n",
    "    \"\"\"\n",
    "    \n",
    "    new_df = df.copy()\n",
    "    \n",
    "    new_df = new_df.rename(columns={'became_member_on': 'join_date', 'id': 'user_id'})\n",
    "    new_df = new_df[new_df['age'] < 118]\n",
    "    \n",
    "    new_df['join_date'] = pd.to_datetime(new_df['join_date'], format='%Y%m%d')\n",
    "\n",
    "    return new_df['user_id join_date income age gender'.split()]\n",
    "    \n",
    "users = clean_profile(profile)"
   ]
  },
  {
   "cell_type": "code",
   "execution_count": 27,
   "id": "809ef5d3",
   "metadata": {
    "colab": {
     "base_uri": "https://localhost:8080/",
     "height": 423
    },
    "executionInfo": {
     "elapsed": 6,
     "status": "ok",
     "timestamp": 1682988406879,
     "user": {
      "displayName": "César Mosqueira",
      "userId": "11705195256143475621"
     },
     "user_tz": 300
    },
    "id": "809ef5d3",
    "outputId": "4d4c935a-659f-4540-fc1f-8e91be925544"
   },
   "outputs": [
    {
     "data": {
      "text/html": [
       "<div>\n",
       "<style scoped>\n",
       "    .dataframe tbody tr th:only-of-type {\n",
       "        vertical-align: middle;\n",
       "    }\n",
       "\n",
       "    .dataframe tbody tr th {\n",
       "        vertical-align: top;\n",
       "    }\n",
       "\n",
       "    .dataframe thead th {\n",
       "        text-align: right;\n",
       "    }\n",
       "</style>\n",
       "<table border=\"1\" class=\"dataframe\">\n",
       "  <thead>\n",
       "    <tr style=\"text-align: right;\">\n",
       "      <th></th>\n",
       "      <th>user_id</th>\n",
       "      <th>join_date</th>\n",
       "      <th>income</th>\n",
       "      <th>age</th>\n",
       "      <th>gender</th>\n",
       "    </tr>\n",
       "  </thead>\n",
       "  <tbody>\n",
       "    <tr>\n",
       "      <th>1</th>\n",
       "      <td>0610b486422d4921ae7d2bf64640c50b</td>\n",
       "      <td>2017-07-15</td>\n",
       "      <td>112000.0</td>\n",
       "      <td>55</td>\n",
       "      <td>F</td>\n",
       "    </tr>\n",
       "    <tr>\n",
       "      <th>3</th>\n",
       "      <td>78afa995795e4d85b5d9ceeca43f5fef</td>\n",
       "      <td>2017-05-09</td>\n",
       "      <td>100000.0</td>\n",
       "      <td>75</td>\n",
       "      <td>F</td>\n",
       "    </tr>\n",
       "    <tr>\n",
       "      <th>5</th>\n",
       "      <td>e2127556f4f64592b11af22de27a7932</td>\n",
       "      <td>2018-04-26</td>\n",
       "      <td>70000.0</td>\n",
       "      <td>68</td>\n",
       "      <td>M</td>\n",
       "    </tr>\n",
       "    <tr>\n",
       "      <th>8</th>\n",
       "      <td>389bc3fa690240e798340f5a15918d5c</td>\n",
       "      <td>2018-02-09</td>\n",
       "      <td>53000.0</td>\n",
       "      <td>65</td>\n",
       "      <td>M</td>\n",
       "    </tr>\n",
       "    <tr>\n",
       "      <th>12</th>\n",
       "      <td>2eeac8d8feae4a8cad5a6af0499a211d</td>\n",
       "      <td>2017-11-11</td>\n",
       "      <td>51000.0</td>\n",
       "      <td>58</td>\n",
       "      <td>M</td>\n",
       "    </tr>\n",
       "    <tr>\n",
       "      <th>...</th>\n",
       "      <td>...</td>\n",
       "      <td>...</td>\n",
       "      <td>...</td>\n",
       "      <td>...</td>\n",
       "      <td>...</td>\n",
       "    </tr>\n",
       "    <tr>\n",
       "      <th>16995</th>\n",
       "      <td>6d5f3a774f3d4714ab0c092238f3a1d7</td>\n",
       "      <td>2018-06-04</td>\n",
       "      <td>54000.0</td>\n",
       "      <td>45</td>\n",
       "      <td>F</td>\n",
       "    </tr>\n",
       "    <tr>\n",
       "      <th>16996</th>\n",
       "      <td>2cb4f97358b841b9a9773a7aa05a9d77</td>\n",
       "      <td>2018-07-13</td>\n",
       "      <td>72000.0</td>\n",
       "      <td>61</td>\n",
       "      <td>M</td>\n",
       "    </tr>\n",
       "    <tr>\n",
       "      <th>16997</th>\n",
       "      <td>01d26f638c274aa0b965d24cefe3183f</td>\n",
       "      <td>2017-01-26</td>\n",
       "      <td>73000.0</td>\n",
       "      <td>49</td>\n",
       "      <td>M</td>\n",
       "    </tr>\n",
       "    <tr>\n",
       "      <th>16998</th>\n",
       "      <td>9dc1421481194dcd9400aec7c9ae6366</td>\n",
       "      <td>2016-03-07</td>\n",
       "      <td>50000.0</td>\n",
       "      <td>83</td>\n",
       "      <td>F</td>\n",
       "    </tr>\n",
       "    <tr>\n",
       "      <th>16999</th>\n",
       "      <td>e4052622e5ba45a8b96b59aba68cf068</td>\n",
       "      <td>2017-07-22</td>\n",
       "      <td>82000.0</td>\n",
       "      <td>62</td>\n",
       "      <td>F</td>\n",
       "    </tr>\n",
       "  </tbody>\n",
       "</table>\n",
       "<p>14825 rows × 5 columns</p>\n",
       "</div>"
      ],
      "text/plain": [
       "                                user_id  join_date    income  age gender\n",
       "1      0610b486422d4921ae7d2bf64640c50b 2017-07-15  112000.0   55      F\n",
       "3      78afa995795e4d85b5d9ceeca43f5fef 2017-05-09  100000.0   75      F\n",
       "5      e2127556f4f64592b11af22de27a7932 2018-04-26   70000.0   68      M\n",
       "8      389bc3fa690240e798340f5a15918d5c 2018-02-09   53000.0   65      M\n",
       "12     2eeac8d8feae4a8cad5a6af0499a211d 2017-11-11   51000.0   58      M\n",
       "...                                 ...        ...       ...  ...    ...\n",
       "16995  6d5f3a774f3d4714ab0c092238f3a1d7 2018-06-04   54000.0   45      F\n",
       "16996  2cb4f97358b841b9a9773a7aa05a9d77 2018-07-13   72000.0   61      M\n",
       "16997  01d26f638c274aa0b965d24cefe3183f 2017-01-26   73000.0   49      M\n",
       "16998  9dc1421481194dcd9400aec7c9ae6366 2016-03-07   50000.0   83      F\n",
       "16999  e4052622e5ba45a8b96b59aba68cf068 2017-07-22   82000.0   62      F\n",
       "\n",
       "[14825 rows x 5 columns]"
      ]
     },
     "execution_count": 27,
     "metadata": {},
     "output_type": "execute_result"
    }
   ],
   "source": [
    "users"
   ]
  },
  {
   "cell_type": "markdown",
   "id": "627f32ae",
   "metadata": {
    "id": "627f32ae"
   },
   "source": [
    "- join dates doesnt need to be scaled\n",
    "- the income age and gender variables are categorical so im gonna one hot encode them \n",
    "- the user_id has to be label encoded"
   ]
  },
  {
   "cell_type": "code",
   "execution_count": 28,
   "id": "4bf89c8d",
   "metadata": {
    "colab": {
     "base_uri": "https://localhost:8080/",
     "height": 523
    },
    "executionInfo": {
     "elapsed": 1895,
     "status": "ok",
     "timestamp": 1682988408769,
     "user": {
      "displayName": "César Mosqueira",
      "userId": "11705195256143475621"
     },
     "user_tz": 300
    },
    "id": "4bf89c8d",
    "outputId": "1329c926-eef0-4a5c-d687-b364b0f7c86f"
   },
   "outputs": [
    {
     "data": {
      "image/png": "[encoded data removed]",
      "text/plain": [
       "<Figure size 640x480 with 1 Axes>"
      ]
     },
     "metadata": {},
     "output_type": "display_data"
    }
   ],
   "source": [
    "users_plot = users.copy()\n",
    "\n",
    "age_bins = [0, 18, 35, 50, 70, 105] \n",
    "age_labels = ['0-18', '18-35', '35-50','50-70', '70+']\n",
    "users_plot['age'] = pd.cut(users_plot['age'], bins=age_bins, labels=age_labels)\n",
    "\n",
    "income_bins = [0, 30000, 50000, 70000, 90000, 110000, 130000]\n",
    "income_labels = ['0-30k', '30k-50k', '50k-70k','70k-90k', '90k-110k', '110k+']\n",
    "users_plot['income'] = pd.cut(users_plot['income'], bins=income_bins, labels=income_labels)\n",
    "\n",
    "contingency_table = pd.crosstab(users_plot['income'], users_plot['age'])\n",
    "\n",
    "# plot a stacked bar chart\n",
    "contingency_table.plot(kind='bar', stacked=True)\n",
    "\n",
    "    \n",
    "\n",
    "plt.xlabel('Salaries')\n",
    "plt.ylabel('Frequency')\n",
    "plt.title('Salary x age visualization')\n",
    "\n",
    "plt.show()"
   ]
  },
  {
   "cell_type": "markdown",
   "id": "326359e6",
   "metadata": {
    "id": "326359e6"
   },
   "source": [
    "### Portfolio dataframe -> offers"
   ]
  },
  {
   "cell_type": "code",
   "execution_count": 29,
   "id": "ee862ee3",
   "metadata": {
    "colab": {
     "base_uri": "https://localhost:8080/",
     "height": 363
    },
    "executionInfo": {
     "elapsed": 18,
     "status": "ok",
     "timestamp": 1682988408770,
     "user": {
      "displayName": "César Mosqueira",
      "userId": "11705195256143475621"
     },
     "user_tz": 300
    },
    "id": "ee862ee3",
    "outputId": "d1f1d835-e101-4f31-8196-25d10447b9fd"
   },
   "outputs": [
    {
     "data": {
      "text/html": [
       "<div>\n",
       "<style scoped>\n",
       "    .dataframe tbody tr th:only-of-type {\n",
       "        vertical-align: middle;\n",
       "    }\n",
       "\n",
       "    .dataframe tbody tr th {\n",
       "        vertical-align: top;\n",
       "    }\n",
       "\n",
       "    .dataframe thead th {\n",
       "        text-align: right;\n",
       "    }\n",
       "</style>\n",
       "<table border=\"1\" class=\"dataframe\">\n",
       "  <thead>\n",
       "    <tr style=\"text-align: right;\">\n",
       "      <th></th>\n",
       "      <th>reward</th>\n",
       "      <th>channels</th>\n",
       "      <th>difficulty</th>\n",
       "      <th>duration</th>\n",
       "      <th>offer_type</th>\n",
       "      <th>id</th>\n",
       "    </tr>\n",
       "  </thead>\n",
       "  <tbody>\n",
       "    <tr>\n",
       "      <th>0</th>\n",
       "      <td>10</td>\n",
       "      <td>[email, mobile, social]</td>\n",
       "      <td>10</td>\n",
       "      <td>7</td>\n",
       "      <td>bogo</td>\n",
       "      <td>ae264e3637204a6fb9bb56bc8210ddfd</td>\n",
       "    </tr>\n",
       "    <tr>\n",
       "      <th>1</th>\n",
       "      <td>10</td>\n",
       "      <td>[web, email, mobile, social]</td>\n",
       "      <td>10</td>\n",
       "      <td>5</td>\n",
       "      <td>bogo</td>\n",
       "      <td>4d5c57ea9a6940dd891ad53e9dbe8da0</td>\n",
       "    </tr>\n",
       "    <tr>\n",
       "      <th>2</th>\n",
       "      <td>0</td>\n",
       "      <td>[web, email, mobile]</td>\n",
       "      <td>0</td>\n",
       "      <td>4</td>\n",
       "      <td>informational</td>\n",
       "      <td>3f207df678b143eea3cee63160fa8bed</td>\n",
       "    </tr>\n",
       "    <tr>\n",
       "      <th>3</th>\n",
       "      <td>5</td>\n",
       "      <td>[web, email, mobile]</td>\n",
       "      <td>5</td>\n",
       "      <td>7</td>\n",
       "      <td>bogo</td>\n",
       "      <td>9b98b8c7a33c4b65b9aebfe6a799e6d9</td>\n",
       "    </tr>\n",
       "    <tr>\n",
       "      <th>4</th>\n",
       "      <td>5</td>\n",
       "      <td>[web, email]</td>\n",
       "      <td>20</td>\n",
       "      <td>10</td>\n",
       "      <td>discount</td>\n",
       "      <td>0b1e1539f2cc45b7b9fa7c272da2e1d7</td>\n",
       "    </tr>\n",
       "    <tr>\n",
       "      <th>5</th>\n",
       "      <td>3</td>\n",
       "      <td>[web, email, mobile, social]</td>\n",
       "      <td>7</td>\n",
       "      <td>7</td>\n",
       "      <td>discount</td>\n",
       "      <td>2298d6c36e964ae4a3e7e9706d1fb8c2</td>\n",
       "    </tr>\n",
       "    <tr>\n",
       "      <th>6</th>\n",
       "      <td>2</td>\n",
       "      <td>[web, email, mobile, social]</td>\n",
       "      <td>10</td>\n",
       "      <td>10</td>\n",
       "      <td>discount</td>\n",
       "      <td>fafdcd668e3743c1bb461111dcafc2a4</td>\n",
       "    </tr>\n",
       "    <tr>\n",
       "      <th>7</th>\n",
       "      <td>0</td>\n",
       "      <td>[email, mobile, social]</td>\n",
       "      <td>0</td>\n",
       "      <td>3</td>\n",
       "      <td>informational</td>\n",
       "      <td>5a8bc65990b245e5a138643cd4eb9837</td>\n",
       "    </tr>\n",
       "    <tr>\n",
       "      <th>8</th>\n",
       "      <td>5</td>\n",
       "      <td>[web, email, mobile, social]</td>\n",
       "      <td>5</td>\n",
       "      <td>5</td>\n",
       "      <td>bogo</td>\n",
       "      <td>f19421c1d4aa40978ebb69ca19b0e20d</td>\n",
       "    </tr>\n",
       "    <tr>\n",
       "      <th>9</th>\n",
       "      <td>2</td>\n",
       "      <td>[web, email, mobile]</td>\n",
       "      <td>10</td>\n",
       "      <td>7</td>\n",
       "      <td>discount</td>\n",
       "      <td>2906b810c7d4411798c6938adc9daaa5</td>\n",
       "    </tr>\n",
       "  </tbody>\n",
       "</table>\n",
       "</div>"
      ],
      "text/plain": [
       "   reward                      channels  difficulty  duration     offer_type  \\\n",
       "0      10       [email, mobile, social]          10         7           bogo   \n",
       "1      10  [web, email, mobile, social]          10         5           bogo   \n",
       "2       0          [web, email, mobile]           0         4  informational   \n",
       "3       5          [web, email, mobile]           5         7           bogo   \n",
       "4       5                  [web, email]          20        10       discount   \n",
       "5       3  [web, email, mobile, social]           7         7       discount   \n",
       "6       2  [web, email, mobile, social]          10        10       discount   \n",
       "7       0       [email, mobile, social]           0         3  informational   \n",
       "8       5  [web, email, mobile, social]           5         5           bogo   \n",
       "9       2          [web, email, mobile]          10         7       discount   \n",
       "\n",
       "                                 id  \n",
       "0  ae264e3637204a6fb9bb56bc8210ddfd  \n",
       "1  4d5c57ea9a6940dd891ad53e9dbe8da0  \n",
       "2  3f207df678b143eea3cee63160fa8bed  \n",
       "3  9b98b8c7a33c4b65b9aebfe6a799e6d9  \n",
       "4  0b1e1539f2cc45b7b9fa7c272da2e1d7  \n",
       "5  2298d6c36e964ae4a3e7e9706d1fb8c2  \n",
       "6  fafdcd668e3743c1bb461111dcafc2a4  \n",
       "7  5a8bc65990b245e5a138643cd4eb9837  \n",
       "8  f19421c1d4aa40978ebb69ca19b0e20d  \n",
       "9  2906b810c7d4411798c6938adc9daaa5  "
      ]
     },
     "execution_count": 29,
     "metadata": {},
     "output_type": "execute_result"
    }
   ],
   "source": [
    "portfolio"
   ]
  },
  {
   "cell_type": "markdown",
   "id": "dc96d598",
   "metadata": {
    "id": "dc96d598"
   },
   "source": [
    "portoflio doesnt really needs cleaning but im gonna rename some columns and of course store the channels in individual columns but thats gonna be done later"
   ]
  },
  {
   "cell_type": "code",
   "execution_count": 30,
   "id": "a73c4ac1",
   "metadata": {
    "executionInfo": {
     "elapsed": 17,
     "status": "ok",
     "timestamp": 1682988408770,
     "user": {
      "displayName": "César Mosqueira",
      "userId": "11705195256143475621"
     },
     "user_tz": 300
    },
    "id": "a73c4ac1"
   },
   "outputs": [],
   "source": [
    "    \n",
    "def clean_portfolio(df):\n",
    "    \"\"\"\n",
    "        Args: portfolio dataframe\n",
    "        Returns:\n",
    "            the portfolio dataframe after:\n",
    "             - renaming columns\n",
    "    \"\"\"\n",
    "    new_df = df.copy()\n",
    "      \n",
    "    # new_df['offer_type'] = new_df['offer_type'].map(map_offer_type)\n",
    "    new_df = new_df.rename(columns={'offer_type': 'type', 'id': 'offer_id', 'difficulty': 'req'})\n",
    "    \n",
    "    return new_df['offer_id req type duration channels reward'.split()]\n",
    "\n",
    "offers = clean_portfolio(portfolio)"
   ]
  },
  {
   "cell_type": "markdown",
   "id": "feac75ed",
   "metadata": {
    "id": "feac75ed"
   },
   "source": [
    "- all the numerical variables need to be scaled\n",
    "- the type variable has to be one hot encoded\n",
    "- the offer_id has to be label encoded"
   ]
  },
  {
   "cell_type": "code",
   "execution_count": 31,
   "id": "9d854040",
   "metadata": {
    "colab": {
     "base_uri": "https://localhost:8080/",
     "height": 363
    },
    "executionInfo": {
     "elapsed": 16,
     "status": "ok",
     "timestamp": 1682988408770,
     "user": {
      "displayName": "César Mosqueira",
      "userId": "11705195256143475621"
     },
     "user_tz": 300
    },
    "id": "9d854040",
    "outputId": "be1c9013-2054-45c9-c6b3-37d7cc8da2ff"
   },
   "outputs": [
    {
     "data": {
      "text/html": [
       "<div>\n",
       "<style scoped>\n",
       "    .dataframe tbody tr th:only-of-type {\n",
       "        vertical-align: middle;\n",
       "    }\n",
       "\n",
       "    .dataframe tbody tr th {\n",
       "        vertical-align: top;\n",
       "    }\n",
       "\n",
       "    .dataframe thead th {\n",
       "        text-align: right;\n",
       "    }\n",
       "</style>\n",
       "<table border=\"1\" class=\"dataframe\">\n",
       "  <thead>\n",
       "    <tr style=\"text-align: right;\">\n",
       "      <th></th>\n",
       "      <th>offer_id</th>\n",
       "      <th>req</th>\n",
       "      <th>type</th>\n",
       "      <th>duration</th>\n",
       "      <th>channels</th>\n",
       "      <th>reward</th>\n",
       "    </tr>\n",
       "  </thead>\n",
       "  <tbody>\n",
       "    <tr>\n",
       "      <th>0</th>\n",
       "      <td>ae264e3637204a6fb9bb56bc8210ddfd</td>\n",
       "      <td>10</td>\n",
       "      <td>bogo</td>\n",
       "      <td>7</td>\n",
       "      <td>[email, mobile, social]</td>\n",
       "      <td>10</td>\n",
       "    </tr>\n",
       "    <tr>\n",
       "      <th>1</th>\n",
       "      <td>4d5c57ea9a6940dd891ad53e9dbe8da0</td>\n",
       "      <td>10</td>\n",
       "      <td>bogo</td>\n",
       "      <td>5</td>\n",
       "      <td>[web, email, mobile, social]</td>\n",
       "      <td>10</td>\n",
       "    </tr>\n",
       "    <tr>\n",
       "      <th>2</th>\n",
       "      <td>3f207df678b143eea3cee63160fa8bed</td>\n",
       "      <td>0</td>\n",
       "      <td>informational</td>\n",
       "      <td>4</td>\n",
       "      <td>[web, email, mobile]</td>\n",
       "      <td>0</td>\n",
       "    </tr>\n",
       "    <tr>\n",
       "      <th>3</th>\n",
       "      <td>9b98b8c7a33c4b65b9aebfe6a799e6d9</td>\n",
       "      <td>5</td>\n",
       "      <td>bogo</td>\n",
       "      <td>7</td>\n",
       "      <td>[web, email, mobile]</td>\n",
       "      <td>5</td>\n",
       "    </tr>\n",
       "    <tr>\n",
       "      <th>4</th>\n",
       "      <td>0b1e1539f2cc45b7b9fa7c272da2e1d7</td>\n",
       "      <td>20</td>\n",
       "      <td>discount</td>\n",
       "      <td>10</td>\n",
       "      <td>[web, email]</td>\n",
       "      <td>5</td>\n",
       "    </tr>\n",
       "    <tr>\n",
       "      <th>5</th>\n",
       "      <td>2298d6c36e964ae4a3e7e9706d1fb8c2</td>\n",
       "      <td>7</td>\n",
       "      <td>discount</td>\n",
       "      <td>7</td>\n",
       "      <td>[web, email, mobile, social]</td>\n",
       "      <td>3</td>\n",
       "    </tr>\n",
       "    <tr>\n",
       "      <th>6</th>\n",
       "      <td>fafdcd668e3743c1bb461111dcafc2a4</td>\n",
       "      <td>10</td>\n",
       "      <td>discount</td>\n",
       "      <td>10</td>\n",
       "      <td>[web, email, mobile, social]</td>\n",
       "      <td>2</td>\n",
       "    </tr>\n",
       "    <tr>\n",
       "      <th>7</th>\n",
       "      <td>5a8bc65990b245e5a138643cd4eb9837</td>\n",
       "      <td>0</td>\n",
       "      <td>informational</td>\n",
       "      <td>3</td>\n",
       "      <td>[email, mobile, social]</td>\n",
       "      <td>0</td>\n",
       "    </tr>\n",
       "    <tr>\n",
       "      <th>8</th>\n",
       "      <td>f19421c1d4aa40978ebb69ca19b0e20d</td>\n",
       "      <td>5</td>\n",
       "      <td>bogo</td>\n",
       "      <td>5</td>\n",
       "      <td>[web, email, mobile, social]</td>\n",
       "      <td>5</td>\n",
       "    </tr>\n",
       "    <tr>\n",
       "      <th>9</th>\n",
       "      <td>2906b810c7d4411798c6938adc9daaa5</td>\n",
       "      <td>10</td>\n",
       "      <td>discount</td>\n",
       "      <td>7</td>\n",
       "      <td>[web, email, mobile]</td>\n",
       "      <td>2</td>\n",
       "    </tr>\n",
       "  </tbody>\n",
       "</table>\n",
       "</div>"
      ],
      "text/plain": [
       "                           offer_id  req           type  duration  \\\n",
       "0  ae264e3637204a6fb9bb56bc8210ddfd   10           bogo         7   \n",
       "1  4d5c57ea9a6940dd891ad53e9dbe8da0   10           bogo         5   \n",
       "2  3f207df678b143eea3cee63160fa8bed    0  informational         4   \n",
       "3  9b98b8c7a33c4b65b9aebfe6a799e6d9    5           bogo         7   \n",
       "4  0b1e1539f2cc45b7b9fa7c272da2e1d7   20       discount        10   \n",
       "5  2298d6c36e964ae4a3e7e9706d1fb8c2    7       discount         7   \n",
       "6  fafdcd668e3743c1bb461111dcafc2a4   10       discount        10   \n",
       "7  5a8bc65990b245e5a138643cd4eb9837    0  informational         3   \n",
       "8  f19421c1d4aa40978ebb69ca19b0e20d    5           bogo         5   \n",
       "9  2906b810c7d4411798c6938adc9daaa5   10       discount         7   \n",
       "\n",
       "                       channels  reward  \n",
       "0       [email, mobile, social]      10  \n",
       "1  [web, email, mobile, social]      10  \n",
       "2          [web, email, mobile]       0  \n",
       "3          [web, email, mobile]       5  \n",
       "4                  [web, email]       5  \n",
       "5  [web, email, mobile, social]       3  \n",
       "6  [web, email, mobile, social]       2  \n",
       "7       [email, mobile, social]       0  \n",
       "8  [web, email, mobile, social]       5  \n",
       "9          [web, email, mobile]       2  "
      ]
     },
     "execution_count": 31,
     "metadata": {},
     "output_type": "execute_result"
    }
   ],
   "source": [
    "offers"
   ]
  },
  {
   "cell_type": "code",
   "execution_count": 32,
   "id": "a2fc3bcc",
   "metadata": {
    "colab": {
     "base_uri": "https://localhost:8080/"
    },
    "executionInfo": {
     "elapsed": 17,
     "status": "ok",
     "timestamp": 1682988408771,
     "user": {
      "displayName": "César Mosqueira",
      "userId": "11705195256143475621"
     },
     "user_tz": 300
    },
    "id": "a2fc3bcc",
    "outputId": "9212a8fb-4cd8-4c00-bc18-dd34e637faf9"
   },
   "outputs": [
    {
     "data": {
      "text/plain": [
       "bogo             4\n",
       "discount         4\n",
       "informational    2\n",
       "Name: type, dtype: int64"
      ]
     },
     "execution_count": 32,
     "metadata": {},
     "output_type": "execute_result"
    }
   ],
   "source": [
    "offers['type'].value_counts()"
   ]
  },
  {
   "cell_type": "code",
   "execution_count": 33,
   "id": "342d777a",
   "metadata": {
    "colab": {
     "base_uri": "https://localhost:8080/"
    },
    "executionInfo": {
     "elapsed": 11,
     "status": "ok",
     "timestamp": 1682988408771,
     "user": {
      "displayName": "César Mosqueira",
      "userId": "11705195256143475621"
     },
     "user_tz": 300
    },
    "id": "342d777a",
    "outputId": "0125ca1e-31bf-4974-b54e-5798b404a7e1"
   },
   "outputs": [
    {
     "data": {
      "text/plain": [
       "10    4\n",
       "0     2\n",
       "5     2\n",
       "20    1\n",
       "7     1\n",
       "Name: req, dtype: int64"
      ]
     },
     "execution_count": 33,
     "metadata": {},
     "output_type": "execute_result"
    }
   ],
   "source": [
    "\n",
    "offers['req'].value_counts()"
   ]
  },
  {
   "cell_type": "markdown",
   "id": "73739b3e",
   "metadata": {
    "id": "73739b3e"
   },
   "source": [
    "### Transcript dataframe -> logs"
   ]
  },
  {
   "cell_type": "code",
   "execution_count": 34,
   "id": "5001fce2",
   "metadata": {
    "executionInfo": {
     "elapsed": 2594,
     "status": "ok",
     "timestamp": 1682988411358,
     "user": {
      "displayName": "César Mosqueira",
      "userId": "11705195256143475621"
     },
     "user_tz": 300
    },
    "id": "5001fce2"
   },
   "outputs": [],
   "source": [
    "def clean_transcript(df):\n",
    "    \"\"\"\n",
    "        Args: Transcript dataframe\n",
    "        Returns:\n",
    "            the transcript dataframe after:\n",
    "             - Storing the value info in separate columns\n",
    "             - Categorizing the event types\n",
    "             - convert time in hours to days\n",
    "             - reward now is the reward that the offer gave when the type is offer completed (Points)\n",
    "             - amount would be the money spent in a transaction (cost)\n",
    "             - renaming columns\n",
    "    \"\"\"\n",
    "    new_df = df.copy()\n",
    "    \n",
    "    new_df['points'] = new_df['value'].apply(lambda x: 0 if 'reward' not in x else x.get('reward'))\n",
    "    new_df['cost'] = new_df['value'].apply(lambda x: 0 if 'amount' not in x else x.get('amount'))\n",
    "    new_df['offer_id'] = new_df['value'].apply(lambda x: x.get('offer id') if 'offer id' in x else x.get('offer_id'))\n",
    "    new_df['offer_id'] = new_df['offer_id'].fillna(0)\n",
    "    \n",
    "    new_df = new_df.drop(['value'], axis=1)\n",
    "    map_event = {'offer received': \"offer_received\", \n",
    "                 'offer viewed': \"offer_viewed\", \n",
    "                 'offer completed' : \"offer_completed\",\n",
    "                 'transaction': 'transaction'}\n",
    "    new_df['event'] = new_df['event'].map(map_event)\n",
    "    \n",
    "    new_df['time'] = new_df['time'].apply(lambda x: x/24)\n",
    "    \n",
    "    new_df = new_df.rename(columns={\"person\": \"user_id\"})\n",
    "    \n",
    "    return new_df[\"offer_id user_id time cost points event\".split()]\n",
    "\n",
    "logs = clean_transcript(transcript)"
   ]
  },
  {
   "cell_type": "code",
   "execution_count": 35,
   "id": "fdff59a0",
   "metadata": {
    "colab": {
     "base_uri": "https://localhost:8080/"
    },
    "executionInfo": {
     "elapsed": 393,
     "status": "ok",
     "timestamp": 1682988411749,
     "user": {
      "displayName": "César Mosqueira",
      "userId": "11705195256143475621"
     },
     "user_tz": 300
    },
    "id": "fdff59a0",
    "outputId": "c027dd27-a4f7-4e09-85a0-783d05d8b009"
   },
   "outputs": [
    {
     "data": {
      "text/plain": [
       "offer_id    0\n",
       "user_id     0\n",
       "time        0\n",
       "cost        0\n",
       "points      0\n",
       "event       0\n",
       "dtype: int64"
      ]
     },
     "execution_count": 35,
     "metadata": {},
     "output_type": "execute_result"
    }
   ],
   "source": [
    "logs.isna().sum()"
   ]
  },
  {
   "cell_type": "code",
   "execution_count": 36,
   "id": "6b152ca2",
   "metadata": {
    "colab": {
     "base_uri": "https://localhost:8080/",
     "height": 468
    },
    "executionInfo": {
     "elapsed": 844,
     "status": "ok",
     "timestamp": 1682988412592,
     "user": {
      "displayName": "César Mosqueira",
      "userId": "11705195256143475621"
     },
     "user_tz": 300
    },
    "id": "6b152ca2",
    "outputId": "0feec93a-dfe0-4919-e9f6-b647a9d00934"
   },
   "outputs": [
    {
     "data": {
      "text/plain": [
       "<AxesSubplot:xlabel='event', ylabel='time'>"
      ]
     },
     "execution_count": 36,
     "metadata": {},
     "output_type": "execute_result"
    },
    {
     "data": {
      "image/png": "[encoded data removed]",
      "text/plain": [
       "<Figure size 640x480 with 1 Axes>"
      ]
     },
     "metadata": {},
     "output_type": "display_data"
    }
   ],
   "source": [
    "sb.boxplot(data=logs, x='event', y='time')"
   ]
  },
  {
   "cell_type": "markdown",
   "id": "2d96da74",
   "metadata": {
    "id": "2d96da74"
   },
   "source": [
    "I can see that this plot just makes sense because the receivement and the view of an offer is usualy before any transaction or offer completion. And also i can see that there are not really any outliers related to the time where the transaction appears"
   ]
  },
  {
   "cell_type": "code",
   "execution_count": 37,
   "id": "2aabf5ac",
   "metadata": {
    "colab": {
     "base_uri": "https://localhost:8080/",
     "height": 206
    },
    "executionInfo": {
     "elapsed": 402,
     "status": "ok",
     "timestamp": 1682988412992,
     "user": {
      "displayName": "César Mosqueira",
      "userId": "11705195256143475621"
     },
     "user_tz": 300
    },
    "id": "2aabf5ac",
    "outputId": "c4b37d7f-9494-4052-de00-e20d72e25e11"
   },
   "outputs": [
    {
     "data": {
      "text/html": [
       "\n",
       "  <div id=\"df-53bd4bfc-234b-4cd7-9309-3b0ae36b6b4a\">\n",
       "    <div class=\"colab-df-container\">\n",
       "      <div>\n",
       "<style scoped>\n",
       "    .dataframe tbody tr th:only-of-type {\n",
       "        vertical-align: middle;\n",
       "    }\n",
       "\n",
       "    .dataframe tbody tr th {\n",
       "        vertical-align: top;\n",
       "    }\n",
       "\n",
       "    .dataframe thead th {\n",
       "        text-align: right;\n",
       "    }\n",
       "</style>\n",
       "<table border=\"1\" class=\"dataframe\">\n",
       "  <thead>\n",
       "    <tr style=\"text-align: right;\">\n",
       "      <th></th>\n",
       "      <th>offer_id</th>\n",
       "      <th>user_id</th>\n",
       "      <th>time</th>\n",
       "      <th>cost</th>\n",
       "      <th>points</th>\n",
       "      <th>event</th>\n",
       "    </tr>\n",
       "  </thead>\n",
       "  <tbody>\n",
       "    <tr>\n",
       "      <th>0</th>\n",
       "      <td>9b98b8c7a33c4b65b9aebfe6a799e6d9</td>\n",
       "      <td>78afa995795e4d85b5d9ceeca43f5fef</td>\n",
       "      <td>0.0</td>\n",
       "      <td>0.0</td>\n",
       "      <td>0</td>\n",
       "      <td>offer_received</td>\n",
       "    </tr>\n",
       "    <tr>\n",
       "      <th>1</th>\n",
       "      <td>0b1e1539f2cc45b7b9fa7c272da2e1d7</td>\n",
       "      <td>a03223e636434f42ac4c3df47e8bac43</td>\n",
       "      <td>0.0</td>\n",
       "      <td>0.0</td>\n",
       "      <td>0</td>\n",
       "      <td>offer_received</td>\n",
       "    </tr>\n",
       "    <tr>\n",
       "      <th>2</th>\n",
       "      <td>2906b810c7d4411798c6938adc9daaa5</td>\n",
       "      <td>e2127556f4f64592b11af22de27a7932</td>\n",
       "      <td>0.0</td>\n",
       "      <td>0.0</td>\n",
       "      <td>0</td>\n",
       "      <td>offer_received</td>\n",
       "    </tr>\n",
       "    <tr>\n",
       "      <th>3</th>\n",
       "      <td>fafdcd668e3743c1bb461111dcafc2a4</td>\n",
       "      <td>8ec6ce2a7e7949b1bf142def7d0e0586</td>\n",
       "      <td>0.0</td>\n",
       "      <td>0.0</td>\n",
       "      <td>0</td>\n",
       "      <td>offer_received</td>\n",
       "    </tr>\n",
       "    <tr>\n",
       "      <th>4</th>\n",
       "      <td>4d5c57ea9a6940dd891ad53e9dbe8da0</td>\n",
       "      <td>68617ca6246f4fbc85e91a2a49552598</td>\n",
       "      <td>0.0</td>\n",
       "      <td>0.0</td>\n",
       "      <td>0</td>\n",
       "      <td>offer_received</td>\n",
       "    </tr>\n",
       "  </tbody>\n",
       "</table>\n",
       "</div>\n",
       "      <button class=\"colab-df-convert\" onclick=\"convertToInteractive('df-53bd4bfc-234b-4cd7-9309-3b0ae36b6b4a')\"\n",
       "              title=\"Convert this dataframe to an interactive table.\"\n",
       "              style=\"display:none;\">\n",
       "        \n",
       "  <svg xmlns=\"http://www.w3.org/2000/svg\" height=\"24px\"viewBox=\"0 0 24 24\"\n",
       "       width=\"24px\">\n",
       "    <path d=\"M0 0h24v24H0V0z\" fill=\"none\"/>\n",
       "    <path d=\"M18.56 5.44l.94 2.06.94-2.06 2.06-.94-2.06-.94-.94-2.06-.94 2.06-2.06.94zm-11 1L8.5 8.5l.94-2.06 2.06-.94-2.06-.94L8.5 2.5l-.94 2.06-2.06.94zm10 10l.94 2.06.94-2.06 2.06-.94-2.06-.94-.94-2.06-.94 2.06-2.06.94z\"/><path d=\"M17.41 7.96l-1.37-1.37c-.4-.4-.92-.59-1.43-.59-.52 0-1.04.2-1.43.59L10.3 9.45l-7.72 7.72c-.78.78-.78 2.05 0 2.83L4 21.41c.39.39.9.59 1.41.59.51 0 1.02-.2 1.41-.59l7.78-7.78 2.81-2.81c.8-.78.8-2.07 0-2.86zM5.41 20L4 18.59l7.72-7.72 1.47 1.35L5.41 20z\"/>\n",
       "  </svg>\n",
       "      </button>\n",
       "      \n",
       "  <style>\n",
       "    .colab-df-container {\n",
       "      display:flex;\n",
       "      flex-wrap:wrap;\n",
       "      gap: 12px;\n",
       "    }\n",
       "\n",
       "    .colab-df-convert {\n",
       "      background-color: #E8F0FE;\n",
       "      border: none;\n",
       "      border-radius: 50%;\n",
       "      cursor: pointer;\n",
       "      display: none;\n",
       "      fill: #1967D2;\n",
       "      height: 32px;\n",
       "      padding: 0 0 0 0;\n",
       "      width: 32px;\n",
       "    }\n",
       "\n",
       "    .colab-df-convert:hover {\n",
       "      background-color: #E2EBFA;\n",
       "      box-shadow: 0px 1px 2px rgba(60, 64, 67, 0.3), 0px 1px 3px 1px rgba(60, 64, 67, 0.15);\n",
       "      fill: #174EA6;\n",
       "    }\n",
       "\n",
       "    [theme=dark] .colab-df-convert {\n",
       "      background-color: #3B4455;\n",
       "      fill: #D2E3FC;\n",
       "    }\n",
       "\n",
       "    [theme=dark] .colab-df-convert:hover {\n",
       "      background-color: #434B5C;\n",
       "      box-shadow: 0px 1px 3px 1px rgba(0, 0, 0, 0.15);\n",
       "      filter: drop-shadow(0px 1px 2px rgba(0, 0, 0, 0.3));\n",
       "      fill: #FFFFFF;\n",
       "    }\n",
       "  </style>\n",
       "\n",
       "      <script>\n",
       "        const buttonEl =\n",
       "          document.querySelector('#df-53bd4bfc-234b-4cd7-9309-3b0ae36b6b4a button.colab-df-convert');\n",
       "        buttonEl.style.display =\n",
       "          google.colab.kernel.accessAllowed ? 'block' : 'none';\n",
       "\n",
       "        async function convertToInteractive(key) {\n",
       "          const element = document.querySelector('#df-53bd4bfc-234b-4cd7-9309-3b0ae36b6b4a');\n",
       "          const dataTable =\n",
       "            await google.colab.kernel.invokeFunction('convertToInteractive',\n",
       "                                                     [key], {});\n",
       "          if (!dataTable) return;\n",
       "\n",
       "          const docLinkHtml = 'Like what you see? Visit the ' +\n",
       "            '<a target=\"_blank\" href=https://colab.research.google.com/notebooks/data_table.ipynb>data table notebook</a>'\n",
       "            + ' to learn more about interactive tables.';\n",
       "          element.innerHTML = '';\n",
       "          dataTable['output_type'] = 'display_data';\n",
       "          await google.colab.output.renderOutput(dataTable, element);\n",
       "          const docLink = document.createElement('div');\n",
       "          docLink.innerHTML = docLinkHtml;\n",
       "          element.appendChild(docLink);\n",
       "        }\n",
       "      </script>\n",
       "    </div>\n",
       "  </div>\n",
       "  "
      ],
      "text/plain": [
       "                           offer_id                           user_id  time  \\\n",
       "0  9b98b8c7a33c4b65b9aebfe6a799e6d9  78afa995795e4d85b5d9ceeca43f5fef   0.0   \n",
       "1  0b1e1539f2cc45b7b9fa7c272da2e1d7  a03223e636434f42ac4c3df47e8bac43   0.0   \n",
       "2  2906b810c7d4411798c6938adc9daaa5  e2127556f4f64592b11af22de27a7932   0.0   \n",
       "3  fafdcd668e3743c1bb461111dcafc2a4  8ec6ce2a7e7949b1bf142def7d0e0586   0.0   \n",
       "4  4d5c57ea9a6940dd891ad53e9dbe8da0  68617ca6246f4fbc85e91a2a49552598   0.0   \n",
       "\n",
       "   cost  points           event  \n",
       "0   0.0       0  offer_received  \n",
       "1   0.0       0  offer_received  \n",
       "2   0.0       0  offer_received  \n",
       "3   0.0       0  offer_received  \n",
       "4   0.0       0  offer_received  "
      ]
     },
     "execution_count": 37,
     "metadata": {},
     "output_type": "execute_result"
    }
   ],
   "source": [
    "logs.head()"
   ]
  },
  {
   "cell_type": "code",
   "execution_count": 38,
   "id": "49ff6572",
   "metadata": {
    "colab": {
     "base_uri": "https://localhost:8080/",
     "height": 206
    },
    "executionInfo": {
     "elapsed": 11,
     "status": "ok",
     "timestamp": 1682988412992,
     "user": {
      "displayName": "César Mosqueira",
      "userId": "11705195256143475621"
     },
     "user_tz": 300
    },
    "id": "49ff6572",
    "outputId": "23366788-0b9e-4a84-ef23-c19706ab4056"
   },
   "outputs": [
    {
     "data": {
      "text/html": [
       "\n",
       "  <div id=\"df-9b518e39-7576-49c2-b4af-2be35811e589\">\n",
       "    <div class=\"colab-df-container\">\n",
       "      <div>\n",
       "<style scoped>\n",
       "    .dataframe tbody tr th:only-of-type {\n",
       "        vertical-align: middle;\n",
       "    }\n",
       "\n",
       "    .dataframe tbody tr th {\n",
       "        vertical-align: top;\n",
       "    }\n",
       "\n",
       "    .dataframe thead th {\n",
       "        text-align: right;\n",
       "    }\n",
       "</style>\n",
       "<table border=\"1\" class=\"dataframe\">\n",
       "  <thead>\n",
       "    <tr style=\"text-align: right;\">\n",
       "      <th></th>\n",
       "      <th>offer_id</th>\n",
       "      <th>req</th>\n",
       "      <th>type</th>\n",
       "      <th>duration</th>\n",
       "      <th>channels</th>\n",
       "      <th>reward</th>\n",
       "    </tr>\n",
       "  </thead>\n",
       "  <tbody>\n",
       "    <tr>\n",
       "      <th>0</th>\n",
       "      <td>ae264e3637204a6fb9bb56bc8210ddfd</td>\n",
       "      <td>10</td>\n",
       "      <td>bogo</td>\n",
       "      <td>7</td>\n",
       "      <td>[email, mobile, social]</td>\n",
       "      <td>10</td>\n",
       "    </tr>\n",
       "    <tr>\n",
       "      <th>1</th>\n",
       "      <td>4d5c57ea9a6940dd891ad53e9dbe8da0</td>\n",
       "      <td>10</td>\n",
       "      <td>bogo</td>\n",
       "      <td>5</td>\n",
       "      <td>[web, email, mobile, social]</td>\n",
       "      <td>10</td>\n",
       "    </tr>\n",
       "    <tr>\n",
       "      <th>2</th>\n",
       "      <td>3f207df678b143eea3cee63160fa8bed</td>\n",
       "      <td>0</td>\n",
       "      <td>informational</td>\n",
       "      <td>4</td>\n",
       "      <td>[web, email, mobile]</td>\n",
       "      <td>0</td>\n",
       "    </tr>\n",
       "    <tr>\n",
       "      <th>3</th>\n",
       "      <td>9b98b8c7a33c4b65b9aebfe6a799e6d9</td>\n",
       "      <td>5</td>\n",
       "      <td>bogo</td>\n",
       "      <td>7</td>\n",
       "      <td>[web, email, mobile]</td>\n",
       "      <td>5</td>\n",
       "    </tr>\n",
       "    <tr>\n",
       "      <th>4</th>\n",
       "      <td>0b1e1539f2cc45b7b9fa7c272da2e1d7</td>\n",
       "      <td>20</td>\n",
       "      <td>discount</td>\n",
       "      <td>10</td>\n",
       "      <td>[web, email]</td>\n",
       "      <td>5</td>\n",
       "    </tr>\n",
       "  </tbody>\n",
       "</table>\n",
       "</div>\n",
       "      <button class=\"colab-df-convert\" onclick=\"convertToInteractive('df-9b518e39-7576-49c2-b4af-2be35811e589')\"\n",
       "              title=\"Convert this dataframe to an interactive table.\"\n",
       "              style=\"display:none;\">\n",
       "        \n",
       "  <svg xmlns=\"http://www.w3.org/2000/svg\" height=\"24px\"viewBox=\"0 0 24 24\"\n",
       "       width=\"24px\">\n",
       "    <path d=\"M0 0h24v24H0V0z\" fill=\"none\"/>\n",
       "    <path d=\"M18.56 5.44l.94 2.06.94-2.06 2.06-.94-2.06-.94-.94-2.06-.94 2.06-2.06.94zm-11 1L8.5 8.5l.94-2.06 2.06-.94-2.06-.94L8.5 2.5l-.94 2.06-2.06.94zm10 10l.94 2.06.94-2.06 2.06-.94-2.06-.94-.94-2.06-.94 2.06-2.06.94z\"/><path d=\"M17.41 7.96l-1.37-1.37c-.4-.4-.92-.59-1.43-.59-.52 0-1.04.2-1.43.59L10.3 9.45l-7.72 7.72c-.78.78-.78 2.05 0 2.83L4 21.41c.39.39.9.59 1.41.59.51 0 1.02-.2 1.41-.59l7.78-7.78 2.81-2.81c.8-.78.8-2.07 0-2.86zM5.41 20L4 18.59l7.72-7.72 1.47 1.35L5.41 20z\"/>\n",
       "  </svg>\n",
       "      </button>\n",
       "      \n",
       "  <style>\n",
       "    .colab-df-container {\n",
       "      display:flex;\n",
       "      flex-wrap:wrap;\n",
       "      gap: 12px;\n",
       "    }\n",
       "\n",
       "    .colab-df-convert {\n",
       "      background-color: #E8F0FE;\n",
       "      border: none;\n",
       "      border-radius: 50%;\n",
       "      cursor: pointer;\n",
       "      display: none;\n",
       "      fill: #1967D2;\n",
       "      height: 32px;\n",
       "      padding: 0 0 0 0;\n",
       "      width: 32px;\n",
       "    }\n",
       "\n",
       "    .colab-df-convert:hover {\n",
       "      background-color: #E2EBFA;\n",
       "      box-shadow: 0px 1px 2px rgba(60, 64, 67, 0.3), 0px 1px 3px 1px rgba(60, 64, 67, 0.15);\n",
       "      fill: #174EA6;\n",
       "    }\n",
       "\n",
       "    [theme=dark] .colab-df-convert {\n",
       "      background-color: #3B4455;\n",
       "      fill: #D2E3FC;\n",
       "    }\n",
       "\n",
       "    [theme=dark] .colab-df-convert:hover {\n",
       "      background-color: #434B5C;\n",
       "      box-shadow: 0px 1px 3px 1px rgba(0, 0, 0, 0.15);\n",
       "      filter: drop-shadow(0px 1px 2px rgba(0, 0, 0, 0.3));\n",
       "      fill: #FFFFFF;\n",
       "    }\n",
       "  </style>\n",
       "\n",
       "      <script>\n",
       "        const buttonEl =\n",
       "          document.querySelector('#df-9b518e39-7576-49c2-b4af-2be35811e589 button.colab-df-convert');\n",
       "        buttonEl.style.display =\n",
       "          google.colab.kernel.accessAllowed ? 'block' : 'none';\n",
       "\n",
       "        async function convertToInteractive(key) {\n",
       "          const element = document.querySelector('#df-9b518e39-7576-49c2-b4af-2be35811e589');\n",
       "          const dataTable =\n",
       "            await google.colab.kernel.invokeFunction('convertToInteractive',\n",
       "                                                     [key], {});\n",
       "          if (!dataTable) return;\n",
       "\n",
       "          const docLinkHtml = 'Like what you see? Visit the ' +\n",
       "            '<a target=\"_blank\" href=https://colab.research.google.com/notebooks/data_table.ipynb>data table notebook</a>'\n",
       "            + ' to learn more about interactive tables.';\n",
       "          element.innerHTML = '';\n",
       "          dataTable['output_type'] = 'display_data';\n",
       "          await google.colab.output.renderOutput(dataTable, element);\n",
       "          const docLink = document.createElement('div');\n",
       "          docLink.innerHTML = docLinkHtml;\n",
       "          element.appendChild(docLink);\n",
       "        }\n",
       "      </script>\n",
       "    </div>\n",
       "  </div>\n",
       "  "
      ],
      "text/plain": [
       "                           offer_id  req           type  duration  \\\n",
       "0  ae264e3637204a6fb9bb56bc8210ddfd   10           bogo         7   \n",
       "1  4d5c57ea9a6940dd891ad53e9dbe8da0   10           bogo         5   \n",
       "2  3f207df678b143eea3cee63160fa8bed    0  informational         4   \n",
       "3  9b98b8c7a33c4b65b9aebfe6a799e6d9    5           bogo         7   \n",
       "4  0b1e1539f2cc45b7b9fa7c272da2e1d7   20       discount        10   \n",
       "\n",
       "                       channels  reward  \n",
       "0       [email, mobile, social]      10  \n",
       "1  [web, email, mobile, social]      10  \n",
       "2          [web, email, mobile]       0  \n",
       "3          [web, email, mobile]       5  \n",
       "4                  [web, email]       5  "
      ]
     },
     "execution_count": 38,
     "metadata": {},
     "output_type": "execute_result"
    }
   ],
   "source": [
    "offers.head()"
   ]
  },
  {
   "cell_type": "code",
   "execution_count": 39,
   "id": "fca03f01",
   "metadata": {
    "colab": {
     "base_uri": "https://localhost:8080/",
     "height": 206
    },
    "executionInfo": {
     "elapsed": 10,
     "status": "ok",
     "timestamp": 1682988412992,
     "user": {
      "displayName": "César Mosqueira",
      "userId": "11705195256143475621"
     },
     "user_tz": 300
    },
    "id": "fca03f01",
    "outputId": "40cc0868-1bcc-490f-a6fb-d1e88e5208ff"
   },
   "outputs": [
    {
     "data": {
      "text/html": [
       "\n",
       "  <div id=\"df-6e041e3b-d359-4d9c-8022-c46606e3a24f\">\n",
       "    <div class=\"colab-df-container\">\n",
       "      <div>\n",
       "<style scoped>\n",
       "    .dataframe tbody tr th:only-of-type {\n",
       "        vertical-align: middle;\n",
       "    }\n",
       "\n",
       "    .dataframe tbody tr th {\n",
       "        vertical-align: top;\n",
       "    }\n",
       "\n",
       "    .dataframe thead th {\n",
       "        text-align: right;\n",
       "    }\n",
       "</style>\n",
       "<table border=\"1\" class=\"dataframe\">\n",
       "  <thead>\n",
       "    <tr style=\"text-align: right;\">\n",
       "      <th></th>\n",
       "      <th>user_id</th>\n",
       "      <th>join_date</th>\n",
       "      <th>income</th>\n",
       "      <th>age</th>\n",
       "      <th>gender</th>\n",
       "    </tr>\n",
       "  </thead>\n",
       "  <tbody>\n",
       "    <tr>\n",
       "      <th>1</th>\n",
       "      <td>0610b486422d4921ae7d2bf64640c50b</td>\n",
       "      <td>2017-07-15</td>\n",
       "      <td>112000.0</td>\n",
       "      <td>55</td>\n",
       "      <td>F</td>\n",
       "    </tr>\n",
       "    <tr>\n",
       "      <th>3</th>\n",
       "      <td>78afa995795e4d85b5d9ceeca43f5fef</td>\n",
       "      <td>2017-05-09</td>\n",
       "      <td>100000.0</td>\n",
       "      <td>75</td>\n",
       "      <td>F</td>\n",
       "    </tr>\n",
       "    <tr>\n",
       "      <th>5</th>\n",
       "      <td>e2127556f4f64592b11af22de27a7932</td>\n",
       "      <td>2018-04-26</td>\n",
       "      <td>70000.0</td>\n",
       "      <td>68</td>\n",
       "      <td>M</td>\n",
       "    </tr>\n",
       "    <tr>\n",
       "      <th>8</th>\n",
       "      <td>389bc3fa690240e798340f5a15918d5c</td>\n",
       "      <td>2018-02-09</td>\n",
       "      <td>53000.0</td>\n",
       "      <td>65</td>\n",
       "      <td>M</td>\n",
       "    </tr>\n",
       "    <tr>\n",
       "      <th>12</th>\n",
       "      <td>2eeac8d8feae4a8cad5a6af0499a211d</td>\n",
       "      <td>2017-11-11</td>\n",
       "      <td>51000.0</td>\n",
       "      <td>58</td>\n",
       "      <td>M</td>\n",
       "    </tr>\n",
       "  </tbody>\n",
       "</table>\n",
       "</div>\n",
       "      <button class=\"colab-df-convert\" onclick=\"convertToInteractive('df-6e041e3b-d359-4d9c-8022-c46606e3a24f')\"\n",
       "              title=\"Convert this dataframe to an interactive table.\"\n",
       "              style=\"display:none;\">\n",
       "        \n",
       "  <svg xmlns=\"http://www.w3.org/2000/svg\" height=\"24px\"viewBox=\"0 0 24 24\"\n",
       "       width=\"24px\">\n",
       "    <path d=\"M0 0h24v24H0V0z\" fill=\"none\"/>\n",
       "    <path d=\"M18.56 5.44l.94 2.06.94-2.06 2.06-.94-2.06-.94-.94-2.06-.94 2.06-2.06.94zm-11 1L8.5 8.5l.94-2.06 2.06-.94-2.06-.94L8.5 2.5l-.94 2.06-2.06.94zm10 10l.94 2.06.94-2.06 2.06-.94-2.06-.94-.94-2.06-.94 2.06-2.06.94z\"/><path d=\"M17.41 7.96l-1.37-1.37c-.4-.4-.92-.59-1.43-.59-.52 0-1.04.2-1.43.59L10.3 9.45l-7.72 7.72c-.78.78-.78 2.05 0 2.83L4 21.41c.39.39.9.59 1.41.59.51 0 1.02-.2 1.41-.59l7.78-7.78 2.81-2.81c.8-.78.8-2.07 0-2.86zM5.41 20L4 18.59l7.72-7.72 1.47 1.35L5.41 20z\"/>\n",
       "  </svg>\n",
       "      </button>\n",
       "      \n",
       "  <style>\n",
       "    .colab-df-container {\n",
       "      display:flex;\n",
       "      flex-wrap:wrap;\n",
       "      gap: 12px;\n",
       "    }\n",
       "\n",
       "    .colab-df-convert {\n",
       "      background-color: #E8F0FE;\n",
       "      border: none;\n",
       "      border-radius: 50%;\n",
       "      cursor: pointer;\n",
       "      display: none;\n",
       "      fill: #1967D2;\n",
       "      height: 32px;\n",
       "      padding: 0 0 0 0;\n",
       "      width: 32px;\n",
       "    }\n",
       "\n",
       "    .colab-df-convert:hover {\n",
       "      background-color: #E2EBFA;\n",
       "      box-shadow: 0px 1px 2px rgba(60, 64, 67, 0.3), 0px 1px 3px 1px rgba(60, 64, 67, 0.15);\n",
       "      fill: #174EA6;\n",
       "    }\n",
       "\n",
       "    [theme=dark] .colab-df-convert {\n",
       "      background-color: #3B4455;\n",
       "      fill: #D2E3FC;\n",
       "    }\n",
       "\n",
       "    [theme=dark] .colab-df-convert:hover {\n",
       "      background-color: #434B5C;\n",
       "      box-shadow: 0px 1px 3px 1px rgba(0, 0, 0, 0.15);\n",
       "      filter: drop-shadow(0px 1px 2px rgba(0, 0, 0, 0.3));\n",
       "      fill: #FFFFFF;\n",
       "    }\n",
       "  </style>\n",
       "\n",
       "      <script>\n",
       "        const buttonEl =\n",
       "          document.querySelector('#df-6e041e3b-d359-4d9c-8022-c46606e3a24f button.colab-df-convert');\n",
       "        buttonEl.style.display =\n",
       "          google.colab.kernel.accessAllowed ? 'block' : 'none';\n",
       "\n",
       "        async function convertToInteractive(key) {\n",
       "          const element = document.querySelector('#df-6e041e3b-d359-4d9c-8022-c46606e3a24f');\n",
       "          const dataTable =\n",
       "            await google.colab.kernel.invokeFunction('convertToInteractive',\n",
       "                                                     [key], {});\n",
       "          if (!dataTable) return;\n",
       "\n",
       "          const docLinkHtml = 'Like what you see? Visit the ' +\n",
       "            '<a target=\"_blank\" href=https://colab.research.google.com/notebooks/data_table.ipynb>data table notebook</a>'\n",
       "            + ' to learn more about interactive tables.';\n",
       "          element.innerHTML = '';\n",
       "          dataTable['output_type'] = 'display_data';\n",
       "          await google.colab.output.renderOutput(dataTable, element);\n",
       "          const docLink = document.createElement('div');\n",
       "          docLink.innerHTML = docLinkHtml;\n",
       "          element.appendChild(docLink);\n",
       "        }\n",
       "      </script>\n",
       "    </div>\n",
       "  </div>\n",
       "  "
      ],
      "text/plain": [
       "                             user_id  join_date    income  age gender\n",
       "1   0610b486422d4921ae7d2bf64640c50b 2017-07-15  112000.0   55      F\n",
       "3   78afa995795e4d85b5d9ceeca43f5fef 2017-05-09  100000.0   75      F\n",
       "5   e2127556f4f64592b11af22de27a7932 2018-04-26   70000.0   68      M\n",
       "8   389bc3fa690240e798340f5a15918d5c 2018-02-09   53000.0   65      M\n",
       "12  2eeac8d8feae4a8cad5a6af0499a211d 2017-11-11   51000.0   58      M"
      ]
     },
     "execution_count": 39,
     "metadata": {},
     "output_type": "execute_result"
    }
   ],
   "source": [
    "\n",
    "users.head()"
   ]
  },
  {
   "cell_type": "markdown",
   "id": "c3649a1f",
   "metadata": {
    "id": "c3649a1f"
   },
   "source": [
    "### Merging the dataframes\n",
    "\n",
    "Since this is an unsupervised learning problem, the idea is to identify clusters the data in a meaningful way using algorithms so we can understand those clusters and solve the question of which demographic groups respond better to which kinds of offer.\n",
    "\n",
    "My first idea was to merge the user information into the transcript (logs) dataframe the way I can and on top of that merge the offer info. I tried it using kmeans and hierarchical clustering and the clusters give a quality of ~0.15 using silhouette score using cluster sizes from 2 to 8. \n",
    "\n",
    "So the idea i have now is to cluster the user dataframe. So im gonna try to merge the data in a smarter way. Im gonna merge the transactions and the offers in order to have data about each transactions weather or not it uses an offer and after that im gonna do feature engineering to add every feature neccesary to the user dataframe in order to cluster that dataframe more accuratelly expecting a higher silhouette score. (the silhouette score was higher but only ~0.20)\n",
    "\n",
    "Im gonna go harder on feature engineering this time and as long and if this time the silhouette score or the clusters themselves are not very good then im gonna try to turn this into a classification problem which should be easier."
   ]
  },
  {
   "cell_type": "markdown",
   "id": "6aa025a4",
   "metadata": {
    "id": "6aa025a4"
   },
   "source": [
    "#### ID's encoding and cleaning\n",
    "I found some users that appear in the transcript but not in the profile dataset. Thats why im gonna perform an inner join in order to have only the transaction that have a matching user id in the user dataframe."
   ]
  },
  {
   "cell_type": "code",
   "execution_count": 40,
   "id": "afbaac38",
   "metadata": {
    "colab": {
     "base_uri": "https://localhost:8080/"
    },
    "executionInfo": {
     "elapsed": 10,
     "status": "ok",
     "timestamp": 1682988412993,
     "user": {
      "displayName": "César Mosqueira",
      "userId": "11705195256143475621"
     },
     "user_tz": 300
    },
    "id": "afbaac38",
    "outputId": "b1e31d5c-15a8-4cbb-aa0d-36bd9a2ebe11"
   },
   "outputs": [
    {
     "data": {
      "text/plain": [
       "array([  346,  6962, 13107, ...,    93,  9208, 13230])"
      ]
     },
     "execution_count": 40,
     "metadata": {},
     "output_type": "execute_result"
    }
   ],
   "source": [
    "userEncoder = LabelEncoder()\n",
    "offerEncoder = LabelEncoder()\n",
    "\n",
    "offerEncoder.fit_transform(offers['offer_id'])\n",
    "userEncoder.fit_transform(users['user_id'])"
   ]
  },
  {
   "cell_type": "code",
   "execution_count": 41,
   "id": "40d1bc5e",
   "metadata": {
    "executionInfo": {
     "elapsed": 1594,
     "status": "ok",
     "timestamp": 1682988414581,
     "user": {
      "displayName": "César Mosqueira",
      "userId": "11705195256143475621"
     },
     "user_tz": 300
    },
    "id": "40d1bc5e"
   },
   "outputs": [],
   "source": [
    "offers['offer_id'] = offerEncoder.fit_transform(offers['offer_id'])\n",
    "users['user_id'] = userEncoder.fit_transform(users['user_id'])\n",
    "\n",
    "logs['offer_id'] = offerEncoder.fit_transform(logs['offer_id'].astype(str))\n",
    "logs['user_id'] = userEncoder.fit_transform(logs['user_id'].astype(str))"
   ]
  },
  {
   "cell_type": "markdown",
   "id": "adf55870",
   "metadata": {
    "id": "adf55870"
   },
   "source": [
    "### Merging"
   ]
  },
  {
   "cell_type": "code",
   "execution_count": 42,
   "id": "a53e27e8",
   "metadata": {
    "executionInfo": {
     "elapsed": 7,
     "status": "ok",
     "timestamp": 1682988414582,
     "user": {
      "displayName": "César Mosqueira",
      "userId": "11705195256143475621"
     },
     "user_tz": 300
    },
    "id": "a53e27e8"
   },
   "outputs": [],
   "source": [
    "\n",
    "simple_trans = logs[logs['event'] == 'transaction']\n",
    "logs = logs[logs['event'] != 'transaction']"
   ]
  },
  {
   "cell_type": "code",
   "execution_count": 43,
   "id": "d55b86a2",
   "metadata": {
    "colab": {
     "base_uri": "https://localhost:8080/",
     "height": 206
    },
    "executionInfo": {
     "elapsed": 6,
     "status": "ok",
     "timestamp": 1682988414582,
     "user": {
      "displayName": "César Mosqueira",
      "userId": "11705195256143475621"
     },
     "user_tz": 300
    },
    "id": "d55b86a2",
    "outputId": "8b536cd1-0697-4a06-ee77-4fd388c9a2e3"
   },
   "outputs": [
    {
     "data": {
      "text/html": [
       "\n",
       "  <div id=\"df-4eb3f2f1-8424-45f2-ac6e-11bdf5c274e9\">\n",
       "    <div class=\"colab-df-container\">\n",
       "      <div>\n",
       "<style scoped>\n",
       "    .dataframe tbody tr th:only-of-type {\n",
       "        vertical-align: middle;\n",
       "    }\n",
       "\n",
       "    .dataframe tbody tr th {\n",
       "        vertical-align: top;\n",
       "    }\n",
       "\n",
       "    .dataframe thead th {\n",
       "        text-align: right;\n",
       "    }\n",
       "</style>\n",
       "<table border=\"1\" class=\"dataframe\">\n",
       "  <thead>\n",
       "    <tr style=\"text-align: right;\">\n",
       "      <th></th>\n",
       "      <th>user_id</th>\n",
       "      <th>join_date</th>\n",
       "      <th>income</th>\n",
       "      <th>age</th>\n",
       "      <th>gender</th>\n",
       "    </tr>\n",
       "  </thead>\n",
       "  <tbody>\n",
       "    <tr>\n",
       "      <th>1</th>\n",
       "      <td>346</td>\n",
       "      <td>2017-07-15</td>\n",
       "      <td>112000.0</td>\n",
       "      <td>55</td>\n",
       "      <td>F</td>\n",
       "    </tr>\n",
       "    <tr>\n",
       "      <th>3</th>\n",
       "      <td>6962</td>\n",
       "      <td>2017-05-09</td>\n",
       "      <td>100000.0</td>\n",
       "      <td>75</td>\n",
       "      <td>F</td>\n",
       "    </tr>\n",
       "    <tr>\n",
       "      <th>5</th>\n",
       "      <td>13107</td>\n",
       "      <td>2018-04-26</td>\n",
       "      <td>70000.0</td>\n",
       "      <td>68</td>\n",
       "      <td>M</td>\n",
       "    </tr>\n",
       "    <tr>\n",
       "      <th>8</th>\n",
       "      <td>3246</td>\n",
       "      <td>2018-02-09</td>\n",
       "      <td>53000.0</td>\n",
       "      <td>65</td>\n",
       "      <td>M</td>\n",
       "    </tr>\n",
       "    <tr>\n",
       "      <th>12</th>\n",
       "      <td>2669</td>\n",
       "      <td>2017-11-11</td>\n",
       "      <td>51000.0</td>\n",
       "      <td>58</td>\n",
       "      <td>M</td>\n",
       "    </tr>\n",
       "  </tbody>\n",
       "</table>\n",
       "</div>\n",
       "      <button class=\"colab-df-convert\" onclick=\"convertToInteractive('df-4eb3f2f1-8424-45f2-ac6e-11bdf5c274e9')\"\n",
       "              title=\"Convert this dataframe to an interactive table.\"\n",
       "              style=\"display:none;\">\n",
       "        \n",
       "  <svg xmlns=\"http://www.w3.org/2000/svg\" height=\"24px\"viewBox=\"0 0 24 24\"\n",
       "       width=\"24px\">\n",
       "    <path d=\"M0 0h24v24H0V0z\" fill=\"none\"/>\n",
       "    <path d=\"M18.56 5.44l.94 2.06.94-2.06 2.06-.94-2.06-.94-.94-2.06-.94 2.06-2.06.94zm-11 1L8.5 8.5l.94-2.06 2.06-.94-2.06-.94L8.5 2.5l-.94 2.06-2.06.94zm10 10l.94 2.06.94-2.06 2.06-.94-2.06-.94-.94-2.06-.94 2.06-2.06.94z\"/><path d=\"M17.41 7.96l-1.37-1.37c-.4-.4-.92-.59-1.43-.59-.52 0-1.04.2-1.43.59L10.3 9.45l-7.72 7.72c-.78.78-.78 2.05 0 2.83L4 21.41c.39.39.9.59 1.41.59.51 0 1.02-.2 1.41-.59l7.78-7.78 2.81-2.81c.8-.78.8-2.07 0-2.86zM5.41 20L4 18.59l7.72-7.72 1.47 1.35L5.41 20z\"/>\n",
       "  </svg>\n",
       "      </button>\n",
       "      \n",
       "  <style>\n",
       "    .colab-df-container {\n",
       "      display:flex;\n",
       "      flex-wrap:wrap;\n",
       "      gap: 12px;\n",
       "    }\n",
       "\n",
       "    .colab-df-convert {\n",
       "      background-color: #E8F0FE;\n",
       "      border: none;\n",
       "      border-radius: 50%;\n",
       "      cursor: pointer;\n",
       "      display: none;\n",
       "      fill: #1967D2;\n",
       "      height: 32px;\n",
       "      padding: 0 0 0 0;\n",
       "      width: 32px;\n",
       "    }\n",
       "\n",
       "    .colab-df-convert:hover {\n",
       "      background-color: #E2EBFA;\n",
       "      box-shadow: 0px 1px 2px rgba(60, 64, 67, 0.3), 0px 1px 3px 1px rgba(60, 64, 67, 0.15);\n",
       "      fill: #174EA6;\n",
       "    }\n",
       "\n",
       "    [theme=dark] .colab-df-convert {\n",
       "      background-color: #3B4455;\n",
       "      fill: #D2E3FC;\n",
       "    }\n",
       "\n",
       "    [theme=dark] .colab-df-convert:hover {\n",
       "      background-color: #434B5C;\n",
       "      box-shadow: 0px 1px 3px 1px rgba(0, 0, 0, 0.15);\n",
       "      filter: drop-shadow(0px 1px 2px rgba(0, 0, 0, 0.3));\n",
       "      fill: #FFFFFF;\n",
       "    }\n",
       "  </style>\n",
       "\n",
       "      <script>\n",
       "        const buttonEl =\n",
       "          document.querySelector('#df-4eb3f2f1-8424-45f2-ac6e-11bdf5c274e9 button.colab-df-convert');\n",
       "        buttonEl.style.display =\n",
       "          google.colab.kernel.accessAllowed ? 'block' : 'none';\n",
       "\n",
       "        async function convertToInteractive(key) {\n",
       "          const element = document.querySelector('#df-4eb3f2f1-8424-45f2-ac6e-11bdf5c274e9');\n",
       "          const dataTable =\n",
       "            await google.colab.kernel.invokeFunction('convertToInteractive',\n",
       "                                                     [key], {});\n",
       "          if (!dataTable) return;\n",
       "\n",
       "          const docLinkHtml = 'Like what you see? Visit the ' +\n",
       "            '<a target=\"_blank\" href=https://colab.research.google.com/notebooks/data_table.ipynb>data table notebook</a>'\n",
       "            + ' to learn more about interactive tables.';\n",
       "          element.innerHTML = '';\n",
       "          dataTable['output_type'] = 'display_data';\n",
       "          await google.colab.output.renderOutput(dataTable, element);\n",
       "          const docLink = document.createElement('div');\n",
       "          docLink.innerHTML = docLinkHtml;\n",
       "          element.appendChild(docLink);\n",
       "        }\n",
       "      </script>\n",
       "    </div>\n",
       "  </div>\n",
       "  "
      ],
      "text/plain": [
       "    user_id  join_date    income  age gender\n",
       "1       346 2017-07-15  112000.0   55      F\n",
       "3      6962 2017-05-09  100000.0   75      F\n",
       "5     13107 2018-04-26   70000.0   68      M\n",
       "8      3246 2018-02-09   53000.0   65      M\n",
       "12     2669 2017-11-11   51000.0   58      M"
      ]
     },
     "execution_count": 43,
     "metadata": {},
     "output_type": "execute_result"
    }
   ],
   "source": [
    "users.head()"
   ]
  },
  {
   "cell_type": "code",
   "execution_count": 44,
   "id": "347911eb",
   "metadata": {
    "executionInfo": {
     "elapsed": 5,
     "status": "ok",
     "timestamp": 1682988414582,
     "user": {
      "displayName": "César Mosqueira",
      "userId": "11705195256143475621"
     },
     "user_tz": 300
    },
    "id": "347911eb"
   },
   "outputs": [],
   "source": [
    "logs_user = logs.merge(users, on='user_id')"
   ]
  },
  {
   "cell_type": "code",
   "execution_count": 45,
   "id": "84757605",
   "metadata": {
    "executionInfo": {
     "elapsed": 277,
     "status": "ok",
     "timestamp": 1682988414854,
     "user": {
      "displayName": "César Mosqueira",
      "userId": "11705195256143475621"
     },
     "user_tz": 300
    },
    "id": "84757605"
   },
   "outputs": [],
   "source": [
    "logs_user_offer = logs_user.merge(offers, on='offer_id')"
   ]
  },
  {
   "cell_type": "code",
   "execution_count": 46,
   "id": "fd84d5c6",
   "metadata": {
    "colab": {
     "base_uri": "https://localhost:8080/"
    },
    "executionInfo": {
     "elapsed": 315,
     "status": "ok",
     "timestamp": 1682988415168,
     "user": {
      "displayName": "César Mosqueira",
      "userId": "11705195256143475621"
     },
     "user_tz": 300
    },
    "id": "fd84d5c6",
    "outputId": "f6f748dc-595d-4730-a50c-8b10987095e8"
   },
   "outputs": [
    {
     "data": {
      "text/plain": [
       "offer_id     0\n",
       "user_id      0\n",
       "time         0\n",
       "cost         0\n",
       "points       0\n",
       "event        0\n",
       "join_date    0\n",
       "income       0\n",
       "age          0\n",
       "gender       0\n",
       "req          0\n",
       "type         0\n",
       "duration     0\n",
       "channels     0\n",
       "reward       0\n",
       "dtype: int64"
      ]
     },
     "execution_count": 46,
     "metadata": {},
     "output_type": "execute_result"
    }
   ],
   "source": [
    "logs_user_offer.isna().sum()"
   ]
  },
  {
   "cell_type": "markdown",
   "id": "e043ca79",
   "metadata": {
    "id": "e043ca79"
   },
   "source": [
    "### Feature Engineering"
   ]
  },
  {
   "cell_type": "markdown",
   "id": "909b1fdd",
   "metadata": {
    "id": "909b1fdd"
   },
   "source": [
    "im gonna try to add the total amount spent by user and the frequency of transactions for each user. This will be done by analizing the transaction events in the simple_trans dataframe\n",
    "\n",
    "also im gonan add an income-per-age column and a column which is number of orders completed by the user in question\n",
    "\n",
    "im gonna add the ratio of viewed-offers and completed-offers \n",
    "\n",
    "im also gonna separete the join date in month and year and drop the time column since i cant find a use to it.\n",
    "\n",
    "drop the channels as well"
   ]
  },
  {
   "cell_type": "code",
   "execution_count": 47,
   "id": "37838998",
   "metadata": {
    "executionInfo": {
     "elapsed": 2,
     "status": "ok",
     "timestamp": 1682988415168,
     "user": {
      "displayName": "César Mosqueira",
      "userId": "11705195256143475621"
     },
     "user_tz": 300
    },
    "id": "37838998"
   },
   "outputs": [],
   "source": [
    "grouped = simple_trans.groupby('user_id').agg({'cost': 'sum', 'user_id': 'count'})\n",
    "grouped = grouped.rename(columns={'cost': 'total_spent', 'user_id': 'frequency'})"
   ]
  },
  {
   "cell_type": "code",
   "execution_count": 48,
   "id": "07b13718",
   "metadata": {
    "executionInfo": {
     "elapsed": 303,
     "status": "ok",
     "timestamp": 1682988415469,
     "user": {
      "displayName": "César Mosqueira",
      "userId": "11705195256143475621"
     },
     "user_tz": 300
    },
    "id": "07b13718"
   },
   "outputs": [],
   "source": [
    "grouped = grouped.reset_index()"
   ]
  },
  {
   "cell_type": "code",
   "execution_count": 49,
   "id": "bf1cecfb",
   "metadata": {
    "executionInfo": {
     "elapsed": 303,
     "status": "ok",
     "timestamp": 1682988415469,
     "user": {
      "displayName": "César Mosqueira",
      "userId": "11705195256143475621"
     },
     "user_tz": 300
    },
    "id": "bf1cecfb"
   },
   "outputs": [],
   "source": [
    "df = logs_user_offer.merge(grouped, on='user_id')"
   ]
  },
  {
   "cell_type": "code",
   "execution_count": 50,
   "id": "8dedc6f4",
   "metadata": {
    "executionInfo": {
     "elapsed": 13072,
     "status": "ok",
     "timestamp": 1682988428538,
     "user": {
      "displayName": "César Mosqueira",
      "userId": "11705195256143475621"
     },
     "user_tz": 300
    },
    "id": "8dedc6f4"
   },
   "outputs": [],
   "source": [
    "most_frequent_offer = df.groupby('user_id')['type'].agg(lambda x: x.value_counts().index[0]).reset_index(name='most_frequent_type')\n"
   ]
  },
  {
   "cell_type": "code",
   "execution_count": 51,
   "id": "da173b55",
   "metadata": {
    "executionInfo": {
     "elapsed": 23,
     "status": "ok",
     "timestamp": 1682988428539,
     "user": {
      "displayName": "César Mosqueira",
      "userId": "11705195256143475621"
     },
     "user_tz": 300
    },
    "id": "da173b55"
   },
   "outputs": [],
   "source": [
    "df = df.merge(most_frequent_offer, on='user_id')"
   ]
  },
  {
   "cell_type": "code",
   "execution_count": 52,
   "id": "2c7b7b59",
   "metadata": {
    "colab": {
     "base_uri": "https://localhost:8080/"
    },
    "executionInfo": {
     "elapsed": 22,
     "status": "ok",
     "timestamp": 1682988428539,
     "user": {
      "displayName": "César Mosqueira",
      "userId": "11705195256143475621"
     },
     "user_tz": 300
    },
    "id": "2c7b7b59",
    "outputId": "baa416dc-cec5-4f9d-d870-7f9102a75367"
   },
   "outputs": [
    {
     "data": {
      "text/plain": [
       "offer_id              0\n",
       "user_id               0\n",
       "time                  0\n",
       "cost                  0\n",
       "points                0\n",
       "event                 0\n",
       "join_date             0\n",
       "income                0\n",
       "age                   0\n",
       "gender                0\n",
       "req                   0\n",
       "type                  0\n",
       "duration              0\n",
       "channels              0\n",
       "reward                0\n",
       "total_spent           0\n",
       "frequency             0\n",
       "most_frequent_type    0\n",
       "dtype: int64"
      ]
     },
     "execution_count": 52,
     "metadata": {},
     "output_type": "execute_result"
    }
   ],
   "source": [
    "df.isna().sum()"
   ]
  },
  {
   "cell_type": "code",
   "execution_count": 53,
   "id": "af7fbfa9",
   "metadata": {
    "executionInfo": {
     "elapsed": 22,
     "status": "ok",
     "timestamp": 1682988428539,
     "user": {
      "displayName": "César Mosqueira",
      "userId": "11705195256143475621"
     },
     "user_tz": 300
    },
    "id": "af7fbfa9"
   },
   "outputs": [],
   "source": [
    "df = df.drop('offer_id cost reward'.split(), axis=1)"
   ]
  },
  {
   "cell_type": "code",
   "execution_count": 54,
   "id": "b22c9b42",
   "metadata": {
    "colab": {
     "base_uri": "https://localhost:8080/",
     "height": 444
    },
    "executionInfo": {
     "elapsed": 21,
     "status": "ok",
     "timestamp": 1682988428539,
     "user": {
      "displayName": "César Mosqueira",
      "userId": "11705195256143475621"
     },
     "user_tz": 300
    },
    "id": "b22c9b42",
    "outputId": "2eda799f-49ae-479b-afc1-048b678c02a5",
    "scrolled": true
   },
   "outputs": [
    {
     "data": {
      "text/html": [
       "\n",
       "  <div id=\"df-3c9d1a85-540f-40fe-a454-41f2c30210ec\">\n",
       "    <div class=\"colab-df-container\">\n",
       "      <div>\n",
       "<style scoped>\n",
       "    .dataframe tbody tr th:only-of-type {\n",
       "        vertical-align: middle;\n",
       "    }\n",
       "\n",
       "    .dataframe tbody tr th {\n",
       "        vertical-align: top;\n",
       "    }\n",
       "\n",
       "    .dataframe thead th {\n",
       "        text-align: right;\n",
       "    }\n",
       "</style>\n",
       "<table border=\"1\" class=\"dataframe\">\n",
       "  <thead>\n",
       "    <tr style=\"text-align: right;\">\n",
       "      <th></th>\n",
       "      <th>user_id</th>\n",
       "      <th>time</th>\n",
       "      <th>points</th>\n",
       "      <th>event</th>\n",
       "      <th>join_date</th>\n",
       "      <th>income</th>\n",
       "      <th>age</th>\n",
       "      <th>gender</th>\n",
       "      <th>req</th>\n",
       "      <th>type</th>\n",
       "      <th>duration</th>\n",
       "      <th>channels</th>\n",
       "      <th>total_spent</th>\n",
       "      <th>frequency</th>\n",
       "      <th>most_frequent_type</th>\n",
       "    </tr>\n",
       "  </thead>\n",
       "  <tbody>\n",
       "    <tr>\n",
       "      <th>0</th>\n",
       "      <td>7996</td>\n",
       "      <td>0.00</td>\n",
       "      <td>0</td>\n",
       "      <td>offer_received</td>\n",
       "      <td>2015-10-11</td>\n",
       "      <td>55000.0</td>\n",
       "      <td>20</td>\n",
       "      <td>M</td>\n",
       "      <td>10</td>\n",
       "      <td>bogo</td>\n",
       "      <td>7</td>\n",
       "      <td>[email, mobile, social]</td>\n",
       "      <td>159.27</td>\n",
       "      <td>7</td>\n",
       "      <td>bogo</td>\n",
       "    </tr>\n",
       "    <tr>\n",
       "      <th>1</th>\n",
       "      <td>7996</td>\n",
       "      <td>0.25</td>\n",
       "      <td>0</td>\n",
       "      <td>offer_viewed</td>\n",
       "      <td>2015-10-11</td>\n",
       "      <td>55000.0</td>\n",
       "      <td>20</td>\n",
       "      <td>M</td>\n",
       "      <td>10</td>\n",
       "      <td>bogo</td>\n",
       "      <td>7</td>\n",
       "      <td>[email, mobile, social]</td>\n",
       "      <td>159.27</td>\n",
       "      <td>7</td>\n",
       "      <td>bogo</td>\n",
       "    </tr>\n",
       "    <tr>\n",
       "      <th>2</th>\n",
       "      <td>7996</td>\n",
       "      <td>5.50</td>\n",
       "      <td>5</td>\n",
       "      <td>offer_completed</td>\n",
       "      <td>2015-10-11</td>\n",
       "      <td>55000.0</td>\n",
       "      <td>20</td>\n",
       "      <td>M</td>\n",
       "      <td>10</td>\n",
       "      <td>bogo</td>\n",
       "      <td>7</td>\n",
       "      <td>[email, mobile, social]</td>\n",
       "      <td>159.27</td>\n",
       "      <td>7</td>\n",
       "      <td>bogo</td>\n",
       "    </tr>\n",
       "    <tr>\n",
       "      <th>3</th>\n",
       "      <td>7996</td>\n",
       "      <td>7.00</td>\n",
       "      <td>0</td>\n",
       "      <td>offer_received</td>\n",
       "      <td>2015-10-11</td>\n",
       "      <td>55000.0</td>\n",
       "      <td>20</td>\n",
       "      <td>M</td>\n",
       "      <td>5</td>\n",
       "      <td>bogo</td>\n",
       "      <td>7</td>\n",
       "      <td>[web, email, mobile]</td>\n",
       "      <td>159.27</td>\n",
       "      <td>7</td>\n",
       "      <td>bogo</td>\n",
       "    </tr>\n",
       "    <tr>\n",
       "      <th>4</th>\n",
       "      <td>7996</td>\n",
       "      <td>9.00</td>\n",
       "      <td>0</td>\n",
       "      <td>offer_viewed</td>\n",
       "      <td>2015-10-11</td>\n",
       "      <td>55000.0</td>\n",
       "      <td>20</td>\n",
       "      <td>M</td>\n",
       "      <td>5</td>\n",
       "      <td>bogo</td>\n",
       "      <td>7</td>\n",
       "      <td>[web, email, mobile]</td>\n",
       "      <td>159.27</td>\n",
       "      <td>7</td>\n",
       "      <td>bogo</td>\n",
       "    </tr>\n",
       "  </tbody>\n",
       "</table>\n",
       "</div>\n",
       "      <button class=\"colab-df-convert\" onclick=\"convertToInteractive('df-3c9d1a85-540f-40fe-a454-41f2c30210ec')\"\n",
       "              title=\"Convert this dataframe to an interactive table.\"\n",
       "              style=\"display:none;\">\n",
       "        \n",
       "  <svg xmlns=\"http://www.w3.org/2000/svg\" height=\"24px\"viewBox=\"0 0 24 24\"\n",
       "       width=\"24px\">\n",
       "    <path d=\"M0 0h24v24H0V0z\" fill=\"none\"/>\n",
       "    <path d=\"M18.56 5.44l.94 2.06.94-2.06 2.06-.94-2.06-.94-.94-2.06-.94 2.06-2.06.94zm-11 1L8.5 8.5l.94-2.06 2.06-.94-2.06-.94L8.5 2.5l-.94 2.06-2.06.94zm10 10l.94 2.06.94-2.06 2.06-.94-2.06-.94-.94-2.06-.94 2.06-2.06.94z\"/><path d=\"M17.41 7.96l-1.37-1.37c-.4-.4-.92-.59-1.43-.59-.52 0-1.04.2-1.43.59L10.3 9.45l-7.72 7.72c-.78.78-.78 2.05 0 2.83L4 21.41c.39.39.9.59 1.41.59.51 0 1.02-.2 1.41-.59l7.78-7.78 2.81-2.81c.8-.78.8-2.07 0-2.86zM5.41 20L4 18.59l7.72-7.72 1.47 1.35L5.41 20z\"/>\n",
       "  </svg>\n",
       "      </button>\n",
       "      \n",
       "  <style>\n",
       "    .colab-df-container {\n",
       "      display:flex;\n",
       "      flex-wrap:wrap;\n",
       "      gap: 12px;\n",
       "    }\n",
       "\n",
       "    .colab-df-convert {\n",
       "      background-color: #E8F0FE;\n",
       "      border: none;\n",
       "      border-radius: 50%;\n",
       "      cursor: pointer;\n",
       "      display: none;\n",
       "      fill: #1967D2;\n",
       "      height: 32px;\n",
       "      padding: 0 0 0 0;\n",
       "      width: 32px;\n",
       "    }\n",
       "\n",
       "    .colab-df-convert:hover {\n",
       "      background-color: #E2EBFA;\n",
       "      box-shadow: 0px 1px 2px rgba(60, 64, 67, 0.3), 0px 1px 3px 1px rgba(60, 64, 67, 0.15);\n",
       "      fill: #174EA6;\n",
       "    }\n",
       "\n",
       "    [theme=dark] .colab-df-convert {\n",
       "      background-color: #3B4455;\n",
       "      fill: #D2E3FC;\n",
       "    }\n",
       "\n",
       "    [theme=dark] .colab-df-convert:hover {\n",
       "      background-color: #434B5C;\n",
       "      box-shadow: 0px 1px 3px 1px rgba(0, 0, 0, 0.15);\n",
       "      filter: drop-shadow(0px 1px 2px rgba(0, 0, 0, 0.3));\n",
       "      fill: #FFFFFF;\n",
       "    }\n",
       "  </style>\n",
       "\n",
       "      <script>\n",
       "        const buttonEl =\n",
       "          document.querySelector('#df-3c9d1a85-540f-40fe-a454-41f2c30210ec button.colab-df-convert');\n",
       "        buttonEl.style.display =\n",
       "          google.colab.kernel.accessAllowed ? 'block' : 'none';\n",
       "\n",
       "        async function convertToInteractive(key) {\n",
       "          const element = document.querySelector('#df-3c9d1a85-540f-40fe-a454-41f2c30210ec');\n",
       "          const dataTable =\n",
       "            await google.colab.kernel.invokeFunction('convertToInteractive',\n",
       "                                                     [key], {});\n",
       "          if (!dataTable) return;\n",
       "\n",
       "          const docLinkHtml = 'Like what you see? Visit the ' +\n",
       "            '<a target=\"_blank\" href=https://colab.research.google.com/notebooks/data_table.ipynb>data table notebook</a>'\n",
       "            + ' to learn more about interactive tables.';\n",
       "          element.innerHTML = '';\n",
       "          dataTable['output_type'] = 'display_data';\n",
       "          await google.colab.output.renderOutput(dataTable, element);\n",
       "          const docLink = document.createElement('div');\n",
       "          docLink.innerHTML = docLinkHtml;\n",
       "          element.appendChild(docLink);\n",
       "        }\n",
       "      </script>\n",
       "    </div>\n",
       "  </div>\n",
       "  "
      ],
      "text/plain": [
       "   user_id  time  points            event  join_date   income  age gender  \\\n",
       "0     7996  0.00       0   offer_received 2015-10-11  55000.0   20      M   \n",
       "1     7996  0.25       0     offer_viewed 2015-10-11  55000.0   20      M   \n",
       "2     7996  5.50       5  offer_completed 2015-10-11  55000.0   20      M   \n",
       "3     7996  7.00       0   offer_received 2015-10-11  55000.0   20      M   \n",
       "4     7996  9.00       0     offer_viewed 2015-10-11  55000.0   20      M   \n",
       "\n",
       "   req  type  duration                 channels  total_spent  frequency  \\\n",
       "0   10  bogo         7  [email, mobile, social]       159.27          7   \n",
       "1   10  bogo         7  [email, mobile, social]       159.27          7   \n",
       "2   10  bogo         7  [email, mobile, social]       159.27          7   \n",
       "3    5  bogo         7     [web, email, mobile]       159.27          7   \n",
       "4    5  bogo         7     [web, email, mobile]       159.27          7   \n",
       "\n",
       "  most_frequent_type  \n",
       "0               bogo  \n",
       "1               bogo  \n",
       "2               bogo  \n",
       "3               bogo  \n",
       "4               bogo  "
      ]
     },
     "execution_count": 54,
     "metadata": {},
     "output_type": "execute_result"
    }
   ],
   "source": [
    "df.head()"
   ]
  },
  {
   "cell_type": "code",
   "execution_count": 55,
   "id": "7831f484",
   "metadata": {
    "colab": {
     "base_uri": "https://localhost:8080/",
     "height": 465
    },
    "executionInfo": {
     "elapsed": 448,
     "status": "ok",
     "timestamp": 1682988428966,
     "user": {
      "displayName": "César Mosqueira",
      "userId": "11705195256143475621"
     },
     "user_tz": 300
    },
    "id": "7831f484",
    "outputId": "69ef8e4b-5a1e-4746-f0dc-c2dec91c4fb1"
   },
   "outputs": [
    {
     "data": {
      "text/plain": [
       "<Axes: xlabel='gender'>"
      ]
     },
     "execution_count": 55,
     "metadata": {},
     "output_type": "execute_result"
    },
    {
     "data": {
      "image/png": "[encoded data removed]",
      "text/plain": [
       "<Figure size 640x480 with 1 Axes>"
      ]
     },
     "metadata": {},
     "output_type": "display_data"
    }
   ],
   "source": [
    "freqs_by_gender = df.groupby(['gender', 'event'])['event'].count().unstack()\n",
    "freqs_by_gender.plot(kind='bar', stacked=True)\n"
   ]
  },
  {
   "cell_type": "markdown",
   "id": "8229ecbe",
   "metadata": {
    "id": "8229ecbe"
   },
   "source": [
    "I will consider gender as categorical"
   ]
  },
  {
   "cell_type": "code",
   "execution_count": 56,
   "id": "21419658",
   "metadata": {
    "colab": {
     "base_uri": "https://localhost:8080/",
     "height": 490
    },
    "executionInfo": {
     "elapsed": 627,
     "status": "ok",
     "timestamp": 1682988429590,
     "user": {
      "displayName": "César Mosqueira",
      "userId": "11705195256143475621"
     },
     "user_tz": 300
    },
    "id": "21419658",
    "outputId": "fc17be95-2e1e-4ffa-b977-9127be4a28ad"
   },
   "outputs": [
    {
     "data": {
      "text/plain": [
       "[]"
      ]
     },
     "execution_count": 56,
     "metadata": {},
     "output_type": "execute_result"
    },
    {
     "data": {
      "image/png": "[encoded data removed]",
      "text/plain": [
       "<Figure size 640x480 with 1 Axes>"
      ]
     },
     "metadata": {},
     "output_type": "display_data"
    }
   ],
   "source": [
    "\n",
    "ax = sb.countplot(x='most_frequent_type', data=df)\n",
    "\n",
    "plt.title(\"Frequency of type of offer\")\n",
    "plt.ylabel(\"User whose most frequent ofer is...\")\n",
    "plt.plot()"
   ]
  },
  {
   "cell_type": "code",
   "execution_count": 57,
   "id": "468b0e83",
   "metadata": {
    "executionInfo": {
     "elapsed": 26,
     "status": "ok",
     "timestamp": 1682988429590,
     "user": {
      "displayName": "César Mosqueira",
      "userId": "11705195256143475621"
     },
     "user_tz": 300
    },
    "id": "468b0e83"
   },
   "outputs": [],
   "source": [
    "# add income per age\n",
    "df['income/age'] = df['income'] / df['age']"
   ]
  },
  {
   "cell_type": "code",
   "execution_count": 58,
   "id": "6c0806b5",
   "metadata": {
    "colab": {
     "base_uri": "https://localhost:8080/"
    },
    "executionInfo": {
     "elapsed": 26,
     "status": "ok",
     "timestamp": 1682988429590,
     "user": {
      "displayName": "César Mosqueira",
      "userId": "11705195256143475621"
     },
     "user_tz": 300
    },
    "id": "6c0806b5",
    "outputId": "4d227ab0-8ee3-4255-afca-6f5a3bea31e1"
   },
   "outputs": [
    {
     "data": {
      "text/plain": [
       "0         2750.000000\n",
       "1         2750.000000\n",
       "2         2750.000000\n",
       "3         2750.000000\n",
       "4         2750.000000\n",
       "             ...     \n",
       "125798    2034.482759\n",
       "125799    2034.482759\n",
       "125800     868.852459\n",
       "125801     868.852459\n",
       "125802     868.852459\n",
       "Name: income/age, Length: 125803, dtype: float64"
      ]
     },
     "execution_count": 58,
     "metadata": {},
     "output_type": "execute_result"
    }
   ],
   "source": [
    "df['income/age']"
   ]
  },
  {
   "cell_type": "code",
   "execution_count": 59,
   "id": "84546ce3",
   "metadata": {
    "executionInfo": {
     "elapsed": 18,
     "status": "ok",
     "timestamp": 1682988429591,
     "user": {
      "displayName": "César Mosqueira",
      "userId": "11705195256143475621"
     },
     "user_tz": 300
    },
    "id": "84546ce3"
   },
   "outputs": [],
   "source": [
    "df['join_date'] = pd.to_datetime(df['join_date'])\n",
    "df['join_year'] = df['join_date'].dt.year\n",
    "df['join_month'] = df['join_date'].dt.month"
   ]
  },
  {
   "cell_type": "code",
   "execution_count": 60,
   "id": "39dfd357",
   "metadata": {
    "colab": {
     "base_uri": "https://localhost:8080/",
     "height": 444
    },
    "executionInfo": {
     "elapsed": 17,
     "status": "ok",
     "timestamp": 1682988429591,
     "user": {
      "displayName": "César Mosqueira",
      "userId": "11705195256143475621"
     },
     "user_tz": 300
    },
    "id": "39dfd357",
    "outputId": "f0d9bc6d-23a2-4684-ca91-32c8601912c2"
   },
   "outputs": [
    {
     "data": {
      "text/html": [
       "\n",
       "  <div id=\"df-d1499565-bd6c-4b05-900f-abc1b5de8e8b\">\n",
       "    <div class=\"colab-df-container\">\n",
       "      <div>\n",
       "<style scoped>\n",
       "    .dataframe tbody tr th:only-of-type {\n",
       "        vertical-align: middle;\n",
       "    }\n",
       "\n",
       "    .dataframe tbody tr th {\n",
       "        vertical-align: top;\n",
       "    }\n",
       "\n",
       "    .dataframe thead th {\n",
       "        text-align: right;\n",
       "    }\n",
       "</style>\n",
       "<table border=\"1\" class=\"dataframe\">\n",
       "  <thead>\n",
       "    <tr style=\"text-align: right;\">\n",
       "      <th></th>\n",
       "      <th>user_id</th>\n",
       "      <th>time</th>\n",
       "      <th>points</th>\n",
       "      <th>event</th>\n",
       "      <th>join_date</th>\n",
       "      <th>income</th>\n",
       "      <th>age</th>\n",
       "      <th>gender</th>\n",
       "      <th>req</th>\n",
       "      <th>type</th>\n",
       "      <th>duration</th>\n",
       "      <th>channels</th>\n",
       "      <th>total_spent</th>\n",
       "      <th>frequency</th>\n",
       "      <th>most_frequent_type</th>\n",
       "      <th>income/age</th>\n",
       "      <th>join_year</th>\n",
       "      <th>join_month</th>\n",
       "    </tr>\n",
       "  </thead>\n",
       "  <tbody>\n",
       "    <tr>\n",
       "      <th>0</th>\n",
       "      <td>7996</td>\n",
       "      <td>0.00</td>\n",
       "      <td>0</td>\n",
       "      <td>offer_received</td>\n",
       "      <td>2015-10-11</td>\n",
       "      <td>55000.0</td>\n",
       "      <td>20</td>\n",
       "      <td>M</td>\n",
       "      <td>10</td>\n",
       "      <td>bogo</td>\n",
       "      <td>7</td>\n",
       "      <td>[email, mobile, social]</td>\n",
       "      <td>159.27</td>\n",
       "      <td>7</td>\n",
       "      <td>bogo</td>\n",
       "      <td>2750.0</td>\n",
       "      <td>2015</td>\n",
       "      <td>10</td>\n",
       "    </tr>\n",
       "    <tr>\n",
       "      <th>1</th>\n",
       "      <td>7996</td>\n",
       "      <td>0.25</td>\n",
       "      <td>0</td>\n",
       "      <td>offer_viewed</td>\n",
       "      <td>2015-10-11</td>\n",
       "      <td>55000.0</td>\n",
       "      <td>20</td>\n",
       "      <td>M</td>\n",
       "      <td>10</td>\n",
       "      <td>bogo</td>\n",
       "      <td>7</td>\n",
       "      <td>[email, mobile, social]</td>\n",
       "      <td>159.27</td>\n",
       "      <td>7</td>\n",
       "      <td>bogo</td>\n",
       "      <td>2750.0</td>\n",
       "      <td>2015</td>\n",
       "      <td>10</td>\n",
       "    </tr>\n",
       "    <tr>\n",
       "      <th>2</th>\n",
       "      <td>7996</td>\n",
       "      <td>5.50</td>\n",
       "      <td>5</td>\n",
       "      <td>offer_completed</td>\n",
       "      <td>2015-10-11</td>\n",
       "      <td>55000.0</td>\n",
       "      <td>20</td>\n",
       "      <td>M</td>\n",
       "      <td>10</td>\n",
       "      <td>bogo</td>\n",
       "      <td>7</td>\n",
       "      <td>[email, mobile, social]</td>\n",
       "      <td>159.27</td>\n",
       "      <td>7</td>\n",
       "      <td>bogo</td>\n",
       "      <td>2750.0</td>\n",
       "      <td>2015</td>\n",
       "      <td>10</td>\n",
       "    </tr>\n",
       "    <tr>\n",
       "      <th>3</th>\n",
       "      <td>7996</td>\n",
       "      <td>7.00</td>\n",
       "      <td>0</td>\n",
       "      <td>offer_received</td>\n",
       "      <td>2015-10-11</td>\n",
       "      <td>55000.0</td>\n",
       "      <td>20</td>\n",
       "      <td>M</td>\n",
       "      <td>5</td>\n",
       "      <td>bogo</td>\n",
       "      <td>7</td>\n",
       "      <td>[web, email, mobile]</td>\n",
       "      <td>159.27</td>\n",
       "      <td>7</td>\n",
       "      <td>bogo</td>\n",
       "      <td>2750.0</td>\n",
       "      <td>2015</td>\n",
       "      <td>10</td>\n",
       "    </tr>\n",
       "    <tr>\n",
       "      <th>4</th>\n",
       "      <td>7996</td>\n",
       "      <td>9.00</td>\n",
       "      <td>0</td>\n",
       "      <td>offer_viewed</td>\n",
       "      <td>2015-10-11</td>\n",
       "      <td>55000.0</td>\n",
       "      <td>20</td>\n",
       "      <td>M</td>\n",
       "      <td>5</td>\n",
       "      <td>bogo</td>\n",
       "      <td>7</td>\n",
       "      <td>[web, email, mobile]</td>\n",
       "      <td>159.27</td>\n",
       "      <td>7</td>\n",
       "      <td>bogo</td>\n",
       "      <td>2750.0</td>\n",
       "      <td>2015</td>\n",
       "      <td>10</td>\n",
       "    </tr>\n",
       "  </tbody>\n",
       "</table>\n",
       "</div>\n",
       "      <button class=\"colab-df-convert\" onclick=\"convertToInteractive('df-d1499565-bd6c-4b05-900f-abc1b5de8e8b')\"\n",
       "              title=\"Convert this dataframe to an interactive table.\"\n",
       "              style=\"display:none;\">\n",
       "        \n",
       "  <svg xmlns=\"http://www.w3.org/2000/svg\" height=\"24px\"viewBox=\"0 0 24 24\"\n",
       "       width=\"24px\">\n",
       "    <path d=\"M0 0h24v24H0V0z\" fill=\"none\"/>\n",
       "    <path d=\"M18.56 5.44l.94 2.06.94-2.06 2.06-.94-2.06-.94-.94-2.06-.94 2.06-2.06.94zm-11 1L8.5 8.5l.94-2.06 2.06-.94-2.06-.94L8.5 2.5l-.94 2.06-2.06.94zm10 10l.94 2.06.94-2.06 2.06-.94-2.06-.94-.94-2.06-.94 2.06-2.06.94z\"/><path d=\"M17.41 7.96l-1.37-1.37c-.4-.4-.92-.59-1.43-.59-.52 0-1.04.2-1.43.59L10.3 9.45l-7.72 7.72c-.78.78-.78 2.05 0 2.83L4 21.41c.39.39.9.59 1.41.59.51 0 1.02-.2 1.41-.59l7.78-7.78 2.81-2.81c.8-.78.8-2.07 0-2.86zM5.41 20L4 18.59l7.72-7.72 1.47 1.35L5.41 20z\"/>\n",
       "  </svg>\n",
       "      </button>\n",
       "      \n",
       "  <style>\n",
       "    .colab-df-container {\n",
       "      display:flex;\n",
       "      flex-wrap:wrap;\n",
       "      gap: 12px;\n",
       "    }\n",
       "\n",
       "    .colab-df-convert {\n",
       "      background-color: #E8F0FE;\n",
       "      border: none;\n",
       "      border-radius: 50%;\n",
       "      cursor: pointer;\n",
       "      display: none;\n",
       "      fill: #1967D2;\n",
       "      height: 32px;\n",
       "      padding: 0 0 0 0;\n",
       "      width: 32px;\n",
       "    }\n",
       "\n",
       "    .colab-df-convert:hover {\n",
       "      background-color: #E2EBFA;\n",
       "      box-shadow: 0px 1px 2px rgba(60, 64, 67, 0.3), 0px 1px 3px 1px rgba(60, 64, 67, 0.15);\n",
       "      fill: #174EA6;\n",
       "    }\n",
       "\n",
       "    [theme=dark] .colab-df-convert {\n",
       "      background-color: #3B4455;\n",
       "      fill: #D2E3FC;\n",
       "    }\n",
       "\n",
       "    [theme=dark] .colab-df-convert:hover {\n",
       "      background-color: #434B5C;\n",
       "      box-shadow: 0px 1px 3px 1px rgba(0, 0, 0, 0.15);\n",
       "      filter: drop-shadow(0px 1px 2px rgba(0, 0, 0, 0.3));\n",
       "      fill: #FFFFFF;\n",
       "    }\n",
       "  </style>\n",
       "\n",
       "      <script>\n",
       "        const buttonEl =\n",
       "          document.querySelector('#df-d1499565-bd6c-4b05-900f-abc1b5de8e8b button.colab-df-convert');\n",
       "        buttonEl.style.display =\n",
       "          google.colab.kernel.accessAllowed ? 'block' : 'none';\n",
       "\n",
       "        async function convertToInteractive(key) {\n",
       "          const element = document.querySelector('#df-d1499565-bd6c-4b05-900f-abc1b5de8e8b');\n",
       "          const dataTable =\n",
       "            await google.colab.kernel.invokeFunction('convertToInteractive',\n",
       "                                                     [key], {});\n",
       "          if (!dataTable) return;\n",
       "\n",
       "          const docLinkHtml = 'Like what you see? Visit the ' +\n",
       "            '<a target=\"_blank\" href=https://colab.research.google.com/notebooks/data_table.ipynb>data table notebook</a>'\n",
       "            + ' to learn more about interactive tables.';\n",
       "          element.innerHTML = '';\n",
       "          dataTable['output_type'] = 'display_data';\n",
       "          await google.colab.output.renderOutput(dataTable, element);\n",
       "          const docLink = document.createElement('div');\n",
       "          docLink.innerHTML = docLinkHtml;\n",
       "          element.appendChild(docLink);\n",
       "        }\n",
       "      </script>\n",
       "    </div>\n",
       "  </div>\n",
       "  "
      ],
      "text/plain": [
       "   user_id  time  points            event  join_date   income  age gender  \\\n",
       "0     7996  0.00       0   offer_received 2015-10-11  55000.0   20      M   \n",
       "1     7996  0.25       0     offer_viewed 2015-10-11  55000.0   20      M   \n",
       "2     7996  5.50       5  offer_completed 2015-10-11  55000.0   20      M   \n",
       "3     7996  7.00       0   offer_received 2015-10-11  55000.0   20      M   \n",
       "4     7996  9.00       0     offer_viewed 2015-10-11  55000.0   20      M   \n",
       "\n",
       "   req  type  duration                 channels  total_spent  frequency  \\\n",
       "0   10  bogo         7  [email, mobile, social]       159.27          7   \n",
       "1   10  bogo         7  [email, mobile, social]       159.27          7   \n",
       "2   10  bogo         7  [email, mobile, social]       159.27          7   \n",
       "3    5  bogo         7     [web, email, mobile]       159.27          7   \n",
       "4    5  bogo         7     [web, email, mobile]       159.27          7   \n",
       "\n",
       "  most_frequent_type  income/age  join_year  join_month  \n",
       "0               bogo      2750.0       2015          10  \n",
       "1               bogo      2750.0       2015          10  \n",
       "2               bogo      2750.0       2015          10  \n",
       "3               bogo      2750.0       2015          10  \n",
       "4               bogo      2750.0       2015          10  "
      ]
     },
     "execution_count": 60,
     "metadata": {},
     "output_type": "execute_result"
    }
   ],
   "source": [
    "df.head()"
   ]
  },
  {
   "cell_type": "code",
   "execution_count": 61,
   "id": "7de2596a",
   "metadata": {
    "colab": {
     "base_uri": "https://localhost:8080/"
    },
    "executionInfo": {
     "elapsed": 17,
     "status": "ok",
     "timestamp": 1682988429592,
     "user": {
      "displayName": "César Mosqueira",
      "userId": "11705195256143475621"
     },
     "user_tz": 300
    },
    "id": "7de2596a",
    "outputId": "dbff6f1c-f2d5-4294-e7fb-77984bee82b7"
   },
   "outputs": [
    {
     "data": {
      "text/plain": [
       "user_id               0\n",
       "time                  0\n",
       "points                0\n",
       "event                 0\n",
       "join_date             0\n",
       "income                0\n",
       "age                   0\n",
       "gender                0\n",
       "req                   0\n",
       "type                  0\n",
       "duration              0\n",
       "channels              0\n",
       "total_spent           0\n",
       "frequency             0\n",
       "most_frequent_type    0\n",
       "income/age            0\n",
       "join_year             0\n",
       "join_month            0\n",
       "dtype: int64"
      ]
     },
     "execution_count": 61,
     "metadata": {},
     "output_type": "execute_result"
    }
   ],
   "source": [
    "df.isna().sum()"
   ]
  },
  {
   "cell_type": "code",
   "execution_count": 62,
   "id": "9dc25a86",
   "metadata": {
    "colab": {
     "base_uri": "https://localhost:8080/",
     "height": 430
    },
    "executionInfo": {
     "elapsed": 910,
     "status": "ok",
     "timestamp": 1682988430491,
     "user": {
      "displayName": "César Mosqueira",
      "userId": "11705195256143475621"
     },
     "user_tz": 300
    },
    "id": "9dc25a86",
    "outputId": "0e9edda4-9835-4852-db2f-625ecd0e1944"
   },
   "outputs": [
    {
     "data": {
      "image/png": "[encoded data removed]",
      "text/plain": [
       "<Figure size 640x480 with 1 Axes>"
      ]
     },
     "metadata": {},
     "output_type": "display_data"
    }
   ],
   "source": [
    "numerical_cols = df.select_dtypes(include=[np.number]).columns.tolist()\n",
    "numerical_cols.pop(numerical_cols.index('income'))\n",
    "numerical_cols.pop(numerical_cols.index('total_spent'))\n",
    "plt.boxplot(df[numerical_cols].values, labels=numerical_cols, vert=False)\n",
    "plt.show()"
   ]
  },
  {
   "cell_type": "markdown",
   "id": "356198ed",
   "metadata": {
    "id": "356198ed"
   },
   "source": [
    "total spent and points also present a lot of outliers"
   ]
  },
  {
   "cell_type": "code",
   "execution_count": 63,
   "id": "ff5e1eca",
   "metadata": {
    "colab": {
     "base_uri": "https://localhost:8080/",
     "height": 430
    },
    "executionInfo": {
     "elapsed": 5,
     "status": "ok",
     "timestamp": 1682988430491,
     "user": {
      "displayName": "César Mosqueira",
      "userId": "11705195256143475621"
     },
     "user_tz": 300
    },
    "id": "ff5e1eca",
    "outputId": "d478c7ab-b636-48ca-c04d-3a19c67ca5ce"
   },
   "outputs": [
    {
     "data": {
      "image/png": "[encoded data removed]",
      "text/plain": [
       "<Figure size 640x480 with 1 Axes>"
      ]
     },
     "metadata": {},
     "output_type": "display_data"
    }
   ],
   "source": [
    "rest_cols = 'total_spent'.split()\n",
    "plt.boxplot(df[rest_cols].values, labels=rest_cols)\n",
    "plt.show()"
   ]
  },
  {
   "cell_type": "markdown",
   "id": "2eb0680c",
   "metadata": {
    "id": "2eb0680c"
   },
   "source": [
    "this function will get the interquartile range between 0.25 and 0.75 and then clip the data to that range, every value that exceeds or is below the 0.25 or 0.75 range will be replaced to the higher or lower value in that range. Then im performin winsorization which is done to replace the extreme values with the closest non-outlier value in a defined range which in this case is 5% un the upper bound and 5% in the lower bound as a default setting"
   ]
  },
  {
   "cell_type": "code",
   "execution_count": 64,
   "id": "75ebffeb",
   "metadata": {
    "executionInfo": {
     "elapsed": 472,
     "status": "ok",
     "timestamp": 1682988430960,
     "user": {
      "displayName": "César Mosqueira",
      "userId": "11705195256143475621"
     },
     "user_tz": 300
    },
    "id": "75ebffeb"
   },
   "outputs": [],
   "source": [
    "def treat_outliers(col):\n",
    "    # using interquartile range\n",
    "    Q1 = col.quantile(0.25)\n",
    "    Q3 = col.quantile(0.75)\n",
    "    IQR = Q3 - Q1\n",
    "\n",
    "    # clipping the data to make it ready for winsorization\n",
    "    lower_bound, upper_bound = Q1 - 1.5*IQR, Q3 + 1.5*IQR\n",
    "    clipped = np.clip(col, lower_bound, upper_bound)\n",
    "    \n",
    "\n",
    "    return  winsorize(clipped, limits=(0.05, 0.05))"
   ]
  },
  {
   "cell_type": "code",
   "execution_count": 65,
   "id": "e8555d0a",
   "metadata": {
    "executionInfo": {
     "elapsed": 4,
     "status": "ok",
     "timestamp": 1682988430960,
     "user": {
      "displayName": "César Mosqueira",
      "userId": "11705195256143475621"
     },
     "user_tz": 300
    },
    "id": "e8555d0a"
   },
   "outputs": [],
   "source": [
    "df['total_spent'] = treat_outliers(df['total_spent'])\n",
    "df['points'] = treat_outliers(df['points'])\n",
    "df['frequency'] = treat_outliers(df['frequency'])\n",
    "df['income/age'] = treat_outliers(df['income/age'])"
   ]
  },
  {
   "cell_type": "code",
   "execution_count": 66,
   "id": "0a0baec4",
   "metadata": {
    "colab": {
     "base_uri": "https://localhost:8080/",
     "height": 430
    },
    "executionInfo": {
     "elapsed": 4,
     "status": "ok",
     "timestamp": 1682988430960,
     "user": {
      "displayName": "César Mosqueira",
      "userId": "11705195256143475621"
     },
     "user_tz": 300
    },
    "id": "0a0baec4",
    "outputId": "bf39e7ef-e6b8-40c2-b705-ae212cc85aa7"
   },
   "outputs": [
    {
     "data": {
      "image/png": "[encoded data removed]",
      "text/plain": [
       "<Figure size 640x480 with 1 Axes>"
      ]
     },
     "metadata": {},
     "output_type": "display_data"
    }
   ],
   "source": [
    "plt.boxplot(df[numerical_cols].values, labels=numerical_cols, vert=False)\n",
    "plt.show()"
   ]
  },
  {
   "cell_type": "code",
   "execution_count": 67,
   "id": "33559361",
   "metadata": {
    "colab": {
     "base_uri": "https://localhost:8080/",
     "height": 430
    },
    "executionInfo": {
     "elapsed": 377,
     "status": "ok",
     "timestamp": 1682988431334,
     "user": {
      "displayName": "César Mosqueira",
      "userId": "11705195256143475621"
     },
     "user_tz": 300
    },
    "id": "33559361",
    "outputId": "a59e42e3-7694-4253-f748-32b14c047463"
   },
   "outputs": [
    {
     "data": {
      "image/png": "[encoded data removed]",
      "text/plain": [
       "<Figure size 640x480 with 1 Axes>"
      ]
     },
     "metadata": {},
     "output_type": "display_data"
    }
   ],
   "source": [
    "plt.boxplot(df[rest_cols].values, labels=rest_cols)\n",
    "plt.show()"
   ]
  },
  {
   "cell_type": "markdown",
   "id": "4f57b253",
   "metadata": {
    "id": "4f57b253"
   },
   "source": [
    "as wee see the outliers in the numerical columns are fixed"
   ]
  },
  {
   "cell_type": "markdown",
   "id": "10efecba",
   "metadata": {
    "id": "10efecba"
   },
   "source": [
    "### prepare dataframe to for clustering\n",
    "Im gonna try and group the features in N groups so i can cluster using more less different features and ways to treat the features in order to test which group works better."
   ]
  },
  {
   "cell_type": "code",
   "execution_count": 68,
   "id": "d43841c7",
   "metadata": {
    "colab": {
     "base_uri": "https://localhost:8080/",
     "height": 444
    },
    "executionInfo": {
     "elapsed": 9,
     "status": "ok",
     "timestamp": 1682988431334,
     "user": {
      "displayName": "César Mosqueira",
      "userId": "11705195256143475621"
     },
     "user_tz": 300
    },
    "id": "d43841c7",
    "outputId": "8cbbaf0b-f62d-4df0-804d-0edb773eb179"
   },
   "outputs": [
    {
     "data": {
      "text/html": [
       "\n",
       "  <div id=\"df-99f779ff-6c59-4890-9446-c8cca9b1d9d6\">\n",
       "    <div class=\"colab-df-container\">\n",
       "      <div>\n",
       "<style scoped>\n",
       "    .dataframe tbody tr th:only-of-type {\n",
       "        vertical-align: middle;\n",
       "    }\n",
       "\n",
       "    .dataframe tbody tr th {\n",
       "        vertical-align: top;\n",
       "    }\n",
       "\n",
       "    .dataframe thead th {\n",
       "        text-align: right;\n",
       "    }\n",
       "</style>\n",
       "<table border=\"1\" class=\"dataframe\">\n",
       "  <thead>\n",
       "    <tr style=\"text-align: right;\">\n",
       "      <th></th>\n",
       "      <th>user_id</th>\n",
       "      <th>time</th>\n",
       "      <th>points</th>\n",
       "      <th>event</th>\n",
       "      <th>join_date</th>\n",
       "      <th>income</th>\n",
       "      <th>age</th>\n",
       "      <th>gender</th>\n",
       "      <th>req</th>\n",
       "      <th>type</th>\n",
       "      <th>duration</th>\n",
       "      <th>channels</th>\n",
       "      <th>total_spent</th>\n",
       "      <th>frequency</th>\n",
       "      <th>most_frequent_type</th>\n",
       "      <th>income/age</th>\n",
       "      <th>join_year</th>\n",
       "      <th>join_month</th>\n",
       "    </tr>\n",
       "  </thead>\n",
       "  <tbody>\n",
       "    <tr>\n",
       "      <th>0</th>\n",
       "      <td>7996</td>\n",
       "      <td>0.00</td>\n",
       "      <td>0</td>\n",
       "      <td>offer_received</td>\n",
       "      <td>2015-10-11</td>\n",
       "      <td>55000.0</td>\n",
       "      <td>20</td>\n",
       "      <td>M</td>\n",
       "      <td>10</td>\n",
       "      <td>bogo</td>\n",
       "      <td>7</td>\n",
       "      <td>[email, mobile, social]</td>\n",
       "      <td>159.27</td>\n",
       "      <td>7.0</td>\n",
       "      <td>bogo</td>\n",
       "      <td>2304.347826</td>\n",
       "      <td>2015</td>\n",
       "      <td>10</td>\n",
       "    </tr>\n",
       "    <tr>\n",
       "      <th>1</th>\n",
       "      <td>7996</td>\n",
       "      <td>0.25</td>\n",
       "      <td>0</td>\n",
       "      <td>offer_viewed</td>\n",
       "      <td>2015-10-11</td>\n",
       "      <td>55000.0</td>\n",
       "      <td>20</td>\n",
       "      <td>M</td>\n",
       "      <td>10</td>\n",
       "      <td>bogo</td>\n",
       "      <td>7</td>\n",
       "      <td>[email, mobile, social]</td>\n",
       "      <td>159.27</td>\n",
       "      <td>7.0</td>\n",
       "      <td>bogo</td>\n",
       "      <td>2304.347826</td>\n",
       "      <td>2015</td>\n",
       "      <td>10</td>\n",
       "    </tr>\n",
       "    <tr>\n",
       "      <th>2</th>\n",
       "      <td>7996</td>\n",
       "      <td>5.50</td>\n",
       "      <td>0</td>\n",
       "      <td>offer_completed</td>\n",
       "      <td>2015-10-11</td>\n",
       "      <td>55000.0</td>\n",
       "      <td>20</td>\n",
       "      <td>M</td>\n",
       "      <td>10</td>\n",
       "      <td>bogo</td>\n",
       "      <td>7</td>\n",
       "      <td>[email, mobile, social]</td>\n",
       "      <td>159.27</td>\n",
       "      <td>7.0</td>\n",
       "      <td>bogo</td>\n",
       "      <td>2304.347826</td>\n",
       "      <td>2015</td>\n",
       "      <td>10</td>\n",
       "    </tr>\n",
       "    <tr>\n",
       "      <th>3</th>\n",
       "      <td>7996</td>\n",
       "      <td>7.00</td>\n",
       "      <td>0</td>\n",
       "      <td>offer_received</td>\n",
       "      <td>2015-10-11</td>\n",
       "      <td>55000.0</td>\n",
       "      <td>20</td>\n",
       "      <td>M</td>\n",
       "      <td>5</td>\n",
       "      <td>bogo</td>\n",
       "      <td>7</td>\n",
       "      <td>[web, email, mobile]</td>\n",
       "      <td>159.27</td>\n",
       "      <td>7.0</td>\n",
       "      <td>bogo</td>\n",
       "      <td>2304.347826</td>\n",
       "      <td>2015</td>\n",
       "      <td>10</td>\n",
       "    </tr>\n",
       "    <tr>\n",
       "      <th>4</th>\n",
       "      <td>7996</td>\n",
       "      <td>9.00</td>\n",
       "      <td>0</td>\n",
       "      <td>offer_viewed</td>\n",
       "      <td>2015-10-11</td>\n",
       "      <td>55000.0</td>\n",
       "      <td>20</td>\n",
       "      <td>M</td>\n",
       "      <td>5</td>\n",
       "      <td>bogo</td>\n",
       "      <td>7</td>\n",
       "      <td>[web, email, mobile]</td>\n",
       "      <td>159.27</td>\n",
       "      <td>7.0</td>\n",
       "      <td>bogo</td>\n",
       "      <td>2304.347826</td>\n",
       "      <td>2015</td>\n",
       "      <td>10</td>\n",
       "    </tr>\n",
       "  </tbody>\n",
       "</table>\n",
       "</div>\n",
       "      <button class=\"colab-df-convert\" onclick=\"convertToInteractive('df-99f779ff-6c59-4890-9446-c8cca9b1d9d6')\"\n",
       "              title=\"Convert this dataframe to an interactive table.\"\n",
       "              style=\"display:none;\">\n",
       "        \n",
       "  <svg xmlns=\"http://www.w3.org/2000/svg\" height=\"24px\"viewBox=\"0 0 24 24\"\n",
       "       width=\"24px\">\n",
       "    <path d=\"M0 0h24v24H0V0z\" fill=\"none\"/>\n",
       "    <path d=\"M18.56 5.44l.94 2.06.94-2.06 2.06-.94-2.06-.94-.94-2.06-.94 2.06-2.06.94zm-11 1L8.5 8.5l.94-2.06 2.06-.94-2.06-.94L8.5 2.5l-.94 2.06-2.06.94zm10 10l.94 2.06.94-2.06 2.06-.94-2.06-.94-.94-2.06-.94 2.06-2.06.94z\"/><path d=\"M17.41 7.96l-1.37-1.37c-.4-.4-.92-.59-1.43-.59-.52 0-1.04.2-1.43.59L10.3 9.45l-7.72 7.72c-.78.78-.78 2.05 0 2.83L4 21.41c.39.39.9.59 1.41.59.51 0 1.02-.2 1.41-.59l7.78-7.78 2.81-2.81c.8-.78.8-2.07 0-2.86zM5.41 20L4 18.59l7.72-7.72 1.47 1.35L5.41 20z\"/>\n",
       "  </svg>\n",
       "      </button>\n",
       "      \n",
       "  <style>\n",
       "    .colab-df-container {\n",
       "      display:flex;\n",
       "      flex-wrap:wrap;\n",
       "      gap: 12px;\n",
       "    }\n",
       "\n",
       "    .colab-df-convert {\n",
       "      background-color: #E8F0FE;\n",
       "      border: none;\n",
       "      border-radius: 50%;\n",
       "      cursor: pointer;\n",
       "      display: none;\n",
       "      fill: #1967D2;\n",
       "      height: 32px;\n",
       "      padding: 0 0 0 0;\n",
       "      width: 32px;\n",
       "    }\n",
       "\n",
       "    .colab-df-convert:hover {\n",
       "      background-color: #E2EBFA;\n",
       "      box-shadow: 0px 1px 2px rgba(60, 64, 67, 0.3), 0px 1px 3px 1px rgba(60, 64, 67, 0.15);\n",
       "      fill: #174EA6;\n",
       "    }\n",
       "\n",
       "    [theme=dark] .colab-df-convert {\n",
       "      background-color: #3B4455;\n",
       "      fill: #D2E3FC;\n",
       "    }\n",
       "\n",
       "    [theme=dark] .colab-df-convert:hover {\n",
       "      background-color: #434B5C;\n",
       "      box-shadow: 0px 1px 3px 1px rgba(0, 0, 0, 0.15);\n",
       "      filter: drop-shadow(0px 1px 2px rgba(0, 0, 0, 0.3));\n",
       "      fill: #FFFFFF;\n",
       "    }\n",
       "  </style>\n",
       "\n",
       "      <script>\n",
       "        const buttonEl =\n",
       "          document.querySelector('#df-99f779ff-6c59-4890-9446-c8cca9b1d9d6 button.colab-df-convert');\n",
       "        buttonEl.style.display =\n",
       "          google.colab.kernel.accessAllowed ? 'block' : 'none';\n",
       "\n",
       "        async function convertToInteractive(key) {\n",
       "          const element = document.querySelector('#df-99f779ff-6c59-4890-9446-c8cca9b1d9d6');\n",
       "          const dataTable =\n",
       "            await google.colab.kernel.invokeFunction('convertToInteractive',\n",
       "                                                     [key], {});\n",
       "          if (!dataTable) return;\n",
       "\n",
       "          const docLinkHtml = 'Like what you see? Visit the ' +\n",
       "            '<a target=\"_blank\" href=https://colab.research.google.com/notebooks/data_table.ipynb>data table notebook</a>'\n",
       "            + ' to learn more about interactive tables.';\n",
       "          element.innerHTML = '';\n",
       "          dataTable['output_type'] = 'display_data';\n",
       "          await google.colab.output.renderOutput(dataTable, element);\n",
       "          const docLink = document.createElement('div');\n",
       "          docLink.innerHTML = docLinkHtml;\n",
       "          element.appendChild(docLink);\n",
       "        }\n",
       "      </script>\n",
       "    </div>\n",
       "  </div>\n",
       "  "
      ],
      "text/plain": [
       "   user_id  time  points            event  join_date   income  age gender  \\\n",
       "0     7996  0.00       0   offer_received 2015-10-11  55000.0   20      M   \n",
       "1     7996  0.25       0     offer_viewed 2015-10-11  55000.0   20      M   \n",
       "2     7996  5.50       0  offer_completed 2015-10-11  55000.0   20      M   \n",
       "3     7996  7.00       0   offer_received 2015-10-11  55000.0   20      M   \n",
       "4     7996  9.00       0     offer_viewed 2015-10-11  55000.0   20      M   \n",
       "\n",
       "   req  type  duration                 channels  total_spent  frequency  \\\n",
       "0   10  bogo         7  [email, mobile, social]       159.27        7.0   \n",
       "1   10  bogo         7  [email, mobile, social]       159.27        7.0   \n",
       "2   10  bogo         7  [email, mobile, social]       159.27        7.0   \n",
       "3    5  bogo         7     [web, email, mobile]       159.27        7.0   \n",
       "4    5  bogo         7     [web, email, mobile]       159.27        7.0   \n",
       "\n",
       "  most_frequent_type   income/age  join_year  join_month  \n",
       "0               bogo  2304.347826       2015          10  \n",
       "1               bogo  2304.347826       2015          10  \n",
       "2               bogo  2304.347826       2015          10  \n",
       "3               bogo  2304.347826       2015          10  \n",
       "4               bogo  2304.347826       2015          10  "
      ]
     },
     "execution_count": 68,
     "metadata": {},
     "output_type": "execute_result"
    }
   ],
   "source": [
    "df.head()"
   ]
  },
  {
   "cell_type": "code",
   "execution_count": 69,
   "id": "d3794227",
   "metadata": {
    "colab": {
     "base_uri": "https://localhost:8080/"
    },
    "executionInfo": {
     "elapsed": 8,
     "status": "ok",
     "timestamp": 1682988431334,
     "user": {
      "displayName": "César Mosqueira",
      "userId": "11705195256143475621"
     },
     "user_tz": 300
    },
    "id": "d3794227",
    "outputId": "3691fada-b64b-4c51-e418-8f25b9678a1f"
   },
   "outputs": [
    {
     "data": {
      "text/plain": [
       "Index(['user_id', 'time', 'points', 'event', 'join_date', 'income', 'age',\n",
       "       'gender', 'req', 'type', 'duration', 'channels', 'total_spent',\n",
       "       'frequency', 'most_frequent_type', 'income/age', 'join_year',\n",
       "       'join_month'],\n",
       "      dtype='object')"
      ]
     },
     "execution_count": 69,
     "metadata": {},
     "output_type": "execute_result"
    }
   ],
   "source": [
    "df.columns"
   ]
  },
  {
   "cell_type": "code",
   "execution_count": 70,
   "id": "FUv1R3vepX9C",
   "metadata": {
    "colab": {
     "base_uri": "https://localhost:8080/",
     "height": 505
    },
    "executionInfo": {
     "elapsed": 628,
     "status": "ok",
     "timestamp": 1682988431958,
     "user": {
      "displayName": "César Mosqueira",
      "userId": "11705195256143475621"
     },
     "user_tz": 300
    },
    "id": "FUv1R3vepX9C",
    "outputId": "cdd3a382-df9e-4de7-ab56-85a05aa61459"
   },
   "outputs": [
    {
     "data": {
      "text/plain": [
       "Text(0.5, 1.0, 'count of offer types')"
      ]
     },
     "execution_count": 70,
     "metadata": {},
     "output_type": "execute_result"
    },
    {
     "data": {
      "image/png": "[encoded data removed]",
      "text/plain": [
       "<Figure size 1000x500 with 2 Axes>"
      ]
     },
     "metadata": {},
     "output_type": "display_data"
    }
   ],
   "source": [
    "fig, axes = plt.subplots(1, 2, figsize=(10, 5))\n",
    "\n",
    "palette = {\"bogo\": \"blue\", \"informational\": \"green\", \"discount\": \"orange\"}\n",
    "\n",
    "sb.countplot(data=df, x='most_frequent_type', ax=axes[0], palette=palette)\n",
    "sb.countplot(data=df, x='type', ax=axes[1], palette=palette)\n",
    "\n",
    "axes[0].set_title(\"count Most frequent offer types\")\n",
    "axes[1].set_title(\"count of offer types\")"
   ]
  },
  {
   "cell_type": "code",
   "execution_count": 71,
   "id": "68a09a17",
   "metadata": {
    "colab": {
     "base_uri": "https://localhost:8080/",
     "height": 307
    },
    "executionInfo": {
     "elapsed": 464,
     "status": "ok",
     "timestamp": 1682988432415,
     "user": {
      "displayName": "César Mosqueira",
      "userId": "11705195256143475621"
     },
     "user_tz": 300
    },
    "id": "68a09a17",
    "outputId": "dc5ab965-5eb5-4b31-fdb1-0956dd0cb02d"
   },
   "outputs": [
    {
     "name": "stderr",
     "output_type": "stream",
     "text": [
      "<ipython-input-71-559dfdb7e26d>:1: FutureWarning: The default dtype for empty Series will be 'object' instead of 'float64' in a future version. Specify a dtype explicitly to silence this warning.\n",
      "  df_Y = pd.Series([])\n"
     ]
    },
    {
     "data": {
      "text/html": [
       "\n",
       "  <div id=\"df-75947cfb-b6ae-47e7-964a-5d08c3cabfb8\">\n",
       "    <div class=\"colab-df-container\">\n",
       "      <div>\n",
       "<style scoped>\n",
       "    .dataframe tbody tr th:only-of-type {\n",
       "        vertical-align: middle;\n",
       "    }\n",
       "\n",
       "    .dataframe tbody tr th {\n",
       "        vertical-align: top;\n",
       "    }\n",
       "\n",
       "    .dataframe thead th {\n",
       "        text-align: right;\n",
       "    }\n",
       "</style>\n",
       "<table border=\"1\" class=\"dataframe\">\n",
       "  <thead>\n",
       "    <tr style=\"text-align: right;\">\n",
       "      <th></th>\n",
       "      <th>income</th>\n",
       "      <th>age</th>\n",
       "      <th>duration</th>\n",
       "      <th>total_spent</th>\n",
       "      <th>frequency</th>\n",
       "      <th>income/age</th>\n",
       "      <th>join_year</th>\n",
       "      <th>join_month</th>\n",
       "      <th>gender_F</th>\n",
       "      <th>gender_M</th>\n",
       "      <th>gender_O</th>\n",
       "      <th>type_bogo</th>\n",
       "      <th>type_discount</th>\n",
       "      <th>type_informational</th>\n",
       "    </tr>\n",
       "  </thead>\n",
       "  <tbody>\n",
       "    <tr>\n",
       "      <th>1</th>\n",
       "      <td>55000.0</td>\n",
       "      <td>20</td>\n",
       "      <td>7</td>\n",
       "      <td>159.27</td>\n",
       "      <td>7.0</td>\n",
       "      <td>2304.347826</td>\n",
       "      <td>2015</td>\n",
       "      <td>10</td>\n",
       "      <td>0</td>\n",
       "      <td>1</td>\n",
       "      <td>0</td>\n",
       "      <td>1</td>\n",
       "      <td>0</td>\n",
       "      <td>0</td>\n",
       "    </tr>\n",
       "    <tr>\n",
       "      <th>2</th>\n",
       "      <td>55000.0</td>\n",
       "      <td>20</td>\n",
       "      <td>7</td>\n",
       "      <td>159.27</td>\n",
       "      <td>7.0</td>\n",
       "      <td>2304.347826</td>\n",
       "      <td>2015</td>\n",
       "      <td>10</td>\n",
       "      <td>0</td>\n",
       "      <td>1</td>\n",
       "      <td>0</td>\n",
       "      <td>1</td>\n",
       "      <td>0</td>\n",
       "      <td>0</td>\n",
       "    </tr>\n",
       "    <tr>\n",
       "      <th>4</th>\n",
       "      <td>55000.0</td>\n",
       "      <td>20</td>\n",
       "      <td>7</td>\n",
       "      <td>159.27</td>\n",
       "      <td>7.0</td>\n",
       "      <td>2304.347826</td>\n",
       "      <td>2015</td>\n",
       "      <td>10</td>\n",
       "      <td>0</td>\n",
       "      <td>1</td>\n",
       "      <td>0</td>\n",
       "      <td>1</td>\n",
       "      <td>0</td>\n",
       "      <td>0</td>\n",
       "    </tr>\n",
       "    <tr>\n",
       "      <th>6</th>\n",
       "      <td>55000.0</td>\n",
       "      <td>20</td>\n",
       "      <td>5</td>\n",
       "      <td>159.27</td>\n",
       "      <td>7.0</td>\n",
       "      <td>2304.347826</td>\n",
       "      <td>2015</td>\n",
       "      <td>10</td>\n",
       "      <td>0</td>\n",
       "      <td>1</td>\n",
       "      <td>0</td>\n",
       "      <td>1</td>\n",
       "      <td>0</td>\n",
       "      <td>0</td>\n",
       "    </tr>\n",
       "    <tr>\n",
       "      <th>7</th>\n",
       "      <td>55000.0</td>\n",
       "      <td>20</td>\n",
       "      <td>5</td>\n",
       "      <td>159.27</td>\n",
       "      <td>7.0</td>\n",
       "      <td>2304.347826</td>\n",
       "      <td>2015</td>\n",
       "      <td>10</td>\n",
       "      <td>0</td>\n",
       "      <td>1</td>\n",
       "      <td>0</td>\n",
       "      <td>1</td>\n",
       "      <td>0</td>\n",
       "      <td>0</td>\n",
       "    </tr>\n",
       "  </tbody>\n",
       "</table>\n",
       "</div>\n",
       "      <button class=\"colab-df-convert\" onclick=\"convertToInteractive('df-75947cfb-b6ae-47e7-964a-5d08c3cabfb8')\"\n",
       "              title=\"Convert this dataframe to an interactive table.\"\n",
       "              style=\"display:none;\">\n",
       "        \n",
       "  <svg xmlns=\"http://www.w3.org/2000/svg\" height=\"24px\"viewBox=\"0 0 24 24\"\n",
       "       width=\"24px\">\n",
       "    <path d=\"M0 0h24v24H0V0z\" fill=\"none\"/>\n",
       "    <path d=\"M18.56 5.44l.94 2.06.94-2.06 2.06-.94-2.06-.94-.94-2.06-.94 2.06-2.06.94zm-11 1L8.5 8.5l.94-2.06 2.06-.94-2.06-.94L8.5 2.5l-.94 2.06-2.06.94zm10 10l.94 2.06.94-2.06 2.06-.94-2.06-.94-.94-2.06-.94 2.06-2.06.94z\"/><path d=\"M17.41 7.96l-1.37-1.37c-.4-.4-.92-.59-1.43-.59-.52 0-1.04.2-1.43.59L10.3 9.45l-7.72 7.72c-.78.78-.78 2.05 0 2.83L4 21.41c.39.39.9.59 1.41.59.51 0 1.02-.2 1.41-.59l7.78-7.78 2.81-2.81c.8-.78.8-2.07 0-2.86zM5.41 20L4 18.59l7.72-7.72 1.47 1.35L5.41 20z\"/>\n",
       "  </svg>\n",
       "      </button>\n",
       "      \n",
       "  <style>\n",
       "    .colab-df-container {\n",
       "      display:flex;\n",
       "      flex-wrap:wrap;\n",
       "      gap: 12px;\n",
       "    }\n",
       "\n",
       "    .colab-df-convert {\n",
       "      background-color: #E8F0FE;\n",
       "      border: none;\n",
       "      border-radius: 50%;\n",
       "      cursor: pointer;\n",
       "      display: none;\n",
       "      fill: #1967D2;\n",
       "      height: 32px;\n",
       "      padding: 0 0 0 0;\n",
       "      width: 32px;\n",
       "    }\n",
       "\n",
       "    .colab-df-convert:hover {\n",
       "      background-color: #E2EBFA;\n",
       "      box-shadow: 0px 1px 2px rgba(60, 64, 67, 0.3), 0px 1px 3px 1px rgba(60, 64, 67, 0.15);\n",
       "      fill: #174EA6;\n",
       "    }\n",
       "\n",
       "    [theme=dark] .colab-df-convert {\n",
       "      background-color: #3B4455;\n",
       "      fill: #D2E3FC;\n",
       "    }\n",
       "\n",
       "    [theme=dark] .colab-df-convert:hover {\n",
       "      background-color: #434B5C;\n",
       "      box-shadow: 0px 1px 3px 1px rgba(0, 0, 0, 0.15);\n",
       "      filter: drop-shadow(0px 1px 2px rgba(0, 0, 0, 0.3));\n",
       "      fill: #FFFFFF;\n",
       "    }\n",
       "  </style>\n",
       "\n",
       "      <script>\n",
       "        const buttonEl =\n",
       "          document.querySelector('#df-75947cfb-b6ae-47e7-964a-5d08c3cabfb8 button.colab-df-convert');\n",
       "        buttonEl.style.display =\n",
       "          google.colab.kernel.accessAllowed ? 'block' : 'none';\n",
       "\n",
       "        async function convertToInteractive(key) {\n",
       "          const element = document.querySelector('#df-75947cfb-b6ae-47e7-964a-5d08c3cabfb8');\n",
       "          const dataTable =\n",
       "            await google.colab.kernel.invokeFunction('convertToInteractive',\n",
       "                                                     [key], {});\n",
       "          if (!dataTable) return;\n",
       "\n",
       "          const docLinkHtml = 'Like what you see? Visit the ' +\n",
       "            '<a target=\"_blank\" href=https://colab.research.google.com/notebooks/data_table.ipynb>data table notebook</a>'\n",
       "            + ' to learn more about interactive tables.';\n",
       "          element.innerHTML = '';\n",
       "          dataTable['output_type'] = 'display_data';\n",
       "          await google.colab.output.renderOutput(dataTable, element);\n",
       "          const docLink = document.createElement('div');\n",
       "          docLink.innerHTML = docLinkHtml;\n",
       "          element.appendChild(docLink);\n",
       "        }\n",
       "      </script>\n",
       "    </div>\n",
       "  </div>\n",
       "  "
      ],
      "text/plain": [
       "    income  age  duration  total_spent  frequency   income/age  join_year  \\\n",
       "1  55000.0   20         7       159.27        7.0  2304.347826       2015   \n",
       "2  55000.0   20         7       159.27        7.0  2304.347826       2015   \n",
       "4  55000.0   20         7       159.27        7.0  2304.347826       2015   \n",
       "6  55000.0   20         5       159.27        7.0  2304.347826       2015   \n",
       "7  55000.0   20         5       159.27        7.0  2304.347826       2015   \n",
       "\n",
       "   join_month  gender_F  gender_M  gender_O  type_bogo  type_discount  \\\n",
       "1          10         0         1         0          1              0   \n",
       "2          10         0         1         0          1              0   \n",
       "4          10         0         1         0          1              0   \n",
       "6          10         0         1         0          1              0   \n",
       "7          10         0         1         0          1              0   \n",
       "\n",
       "   type_informational  \n",
       "1                   0  \n",
       "2                   0  \n",
       "4                   0  \n",
       "6                   0  \n",
       "7                   0  "
      ]
     },
     "execution_count": 71,
     "metadata": {},
     "output_type": "execute_result"
    }
   ],
   "source": [
    "df_Y = pd.Series([])\n",
    "def cleaning_features_A(data):\n",
    "    global df_Y\n",
    "    new_df = data.copy()\n",
    "   \n",
    "\n",
    "    new_df = new_df[new_df['event'] != 'offer_received']\n",
    "\n",
    "    df_Y = new_df['type']\n",
    "    new_df = pd.get_dummies(new_df, columns = 'gender type'.split())\n",
    "    \n",
    "    new_df['age'] = new_df['age'].apply(lambda x: (x//10) * 10)\n",
    "\n",
    "    new_df.rename(columns = {'most_frequent_type_bogo': 'freq_bogo',\n",
    "                             'most_frequent_type_discount': 'freq_discount',\n",
    "                             'most_frequent_type_informational': 'freq_info'}, inplace=True )\n",
    "\n",
    "    new_df = new_df.drop('user_id points join_date channels time event most_frequent_type req'.split(), axis=1)\n",
    "    \n",
    "    return new_df\n",
    "\n",
    "df_A = cleaning_features_A(df)\n",
    "\n",
    "df_A.head()"
   ]
  },
  {
   "cell_type": "code",
   "execution_count": 72,
   "id": "R6baITW3mzHh",
   "metadata": {
    "colab": {
     "base_uri": "https://localhost:8080/"
    },
    "executionInfo": {
     "elapsed": 12,
     "status": "ok",
     "timestamp": 1682988432415,
     "user": {
      "displayName": "César Mosqueira",
      "userId": "11705195256143475621"
     },
     "user_tz": 300
    },
    "id": "R6baITW3mzHh",
    "outputId": "967e7474-801d-4b1a-d35f-f939420e40cd"
   },
   "outputs": [
    {
     "data": {
      "text/plain": [
       "67354"
      ]
     },
     "execution_count": 72,
     "metadata": {},
     "output_type": "execute_result"
    }
   ],
   "source": [
    "len(df_Y)"
   ]
  },
  {
   "cell_type": "code",
   "execution_count": 73,
   "id": "KMwr_AU_mxxX",
   "metadata": {
    "colab": {
     "base_uri": "https://localhost:8080/"
    },
    "executionInfo": {
     "elapsed": 7,
     "status": "ok",
     "timestamp": 1682988432415,
     "user": {
      "displayName": "César Mosqueira",
      "userId": "11705195256143475621"
     },
     "user_tz": 300
    },
    "id": "KMwr_AU_mxxX",
    "outputId": "2fb9e915-6e99-42a3-cf86-8356a770f125"
   },
   "outputs": [
    {
     "data": {
      "text/plain": [
       "(67354, 14)"
      ]
     },
     "execution_count": 73,
     "metadata": {},
     "output_type": "execute_result"
    }
   ],
   "source": [
    "df_A.shape"
   ]
  },
  {
   "cell_type": "markdown",
   "id": "2c95c8a0",
   "metadata": {
    "id": "2c95c8a0"
   },
   "source": [
    "### Clustering\n",
    "- The metric im gonna use the silhouette score and the Calinski-Harabasz Index to determine which algorithm works best and with how many clusters\n",
    "- Im gonna use kmeans, hierarchical clustering and DBSCAN as clustering algorithms"
   ]
  },
  {
   "cell_type": "markdown",
   "id": "5365df3e",
   "metadata": {
    "id": "5365df3e"
   },
   "source": [
    "Just so i dont overflow..."
   ]
  },
  {
   "cell_type": "code",
   "execution_count": 74,
   "id": "f43651f2",
   "metadata": {
    "colab": {
     "base_uri": "https://localhost:8080/",
     "height": 583
    },
    "executionInfo": {
     "elapsed": 953,
     "status": "ok",
     "timestamp": 1682988433365,
     "user": {
      "displayName": "César Mosqueira",
      "userId": "11705195256143475621"
     },
     "user_tz": 300
    },
    "id": "f43651f2",
    "outputId": "8cd24a58-d9cf-4c49-8a96-0e942d77464c"
   },
   "outputs": [
    {
     "data": {
      "image/png": "[encoded data removed]",
      "text/plain": [
       "<Figure size 640x480 with 1 Axes>"
      ]
     },
     "metadata": {},
     "output_type": "display_data"
    }
   ],
   "source": [
    "variables = %who_ls\n",
    "sizes = [sys.getsizeof(globals()[var]) for var in variables]\n",
    "loc = pd.DataFrame({'Variable': variables, 'Size': sizes}).sort_values('Size', ascending=False)\n",
    "\n",
    "sb.barplot(data=loc.head(20),x='Variable', y='Size')\n",
    "plt.xticks(rotation=45, ha='right')\n",
    "plt.show()"
   ]
  },
  {
   "cell_type": "code",
   "execution_count": 76,
   "id": "3d839cd4",
   "metadata": {
    "executionInfo": {
     "elapsed": 439,
     "status": "ok",
     "timestamp": 1682988437431,
     "user": {
      "displayName": "César Mosqueira",
      "userId": "11705195256143475621"
     },
     "user_tz": 300
    },
    "id": "3d839cd4"
   },
   "outputs": [],
   "source": [
    "# raise Exception(\"sure?\")\n",
    "del transcript, logs_user_offer, logs_user, logs, simple_trans"
   ]
  },
  {
   "cell_type": "code",
   "execution_count": 83,
   "id": "cf3d8170",
   "metadata": {
    "executionInfo": {
     "elapsed": 344,
     "status": "ok",
     "timestamp": 1682988457193,
     "user": {
      "displayName": "César Mosqueira",
      "userId": "11705195256143475621"
     },
     "user_tz": 300
    },
    "id": "cf3d8170"
   },
   "outputs": [],
   "source": [
    "types_index = (df_A.columns.get_loc('type_bogo'), df_A.columns.get_loc('type_informational'))\n",
    "income_index = df_A.columns.get_loc('income')\n",
    "age_index = df_A.columns.get_loc('age')\n",
    "scaler = MinMaxScaler()\n",
    "df_A = scaler.fit_transform(df_A)\n",
    "\n",
    "df_A[:, types_index[0]:types_index[1]]\n",
    "df_A[:, types_index[0]:types_index[1]] = df_A[:, types_index[0]:types_index[1]] * 2\n",
    "df_A[:, income_index] = df_A[:, income_index] *1.05"
   ]
  },
  {
   "cell_type": "markdown",
   "id": "91f1ad7b",
   "metadata": {
    "id": "91f1ad7b"
   },
   "source": [
    "### Kmeans\n",
    "I was trying hierarchical clustering but it uses too much RAM."
   ]
  },
  {
   "cell_type": "code",
   "execution_count": null,
   "id": "96355641",
   "metadata": {
    "executionInfo": {
     "elapsed": 10,
     "status": "aborted",
     "timestamp": 1682988433366,
     "user": {
      "displayName": "César Mosqueira",
      "userId": "11705195256143475621"
     },
     "user_tz": 300
    },
    "id": "96355641"
   },
   "outputs": [],
   "source": [
    "clusters = [3,4,5,6,7]\n",
    "benchmark = { 'kmeans': { 'silhouette': [], 'calinski': [] },\n",
    "                'agg' : { 'silhouette': [], 'calinski': [] } }\n",
    "\n",
    "\n",
    "for c in tqdm(clusters):\n",
    "    kmeans = KMeans(n_clusters=c, random_state=42)\n",
    "    # agg = AgglomerativeClustering(n_clusters=c)\n",
    "\n",
    "    # agg.fit(df_A)\n",
    "    kmeans.fit(df_A)\n",
    "\n",
    "    kmeans_labels = kmeans.labels_\n",
    "    # agg_labels = agg.labels_\n",
    "    \n",
    "    benchmark['kmeans']['silhouette'] += [silhouette_score(df_A, kmeans_labels)]\n",
    "    benchmark['kmeans']['calinski'] += [calinski_harabasz_score(df_A, kmeans_labels)]\n",
    "    \n",
    "    # benchmark['agg']['silhouette'] += [silhouette_score(df_A, agg_labels)]\n",
    "    # benchmark['agg']['calinski'] += [calinski_harabasz_score(df_A, agg_labels)]\n",
    "\n",
    "print(json.dumps(benchmark, indent=1))"
   ]
  },
  {
   "cell_type": "markdown",
   "id": "htGoRfuztbVL",
   "metadata": {
    "id": "htGoRfuztbVL"
   },
   "source": [
    "Test with DBScan\n",
    " "
   ]
  },
  {
   "cell_type": "code",
   "execution_count": null,
   "id": "5013c434",
   "metadata": {
    "executionInfo": {
     "elapsed": 10,
     "status": "aborted",
     "timestamp": 1682988433366,
     "user": {
      "displayName": "César Mosqueira",
      "userId": "11705195256143475621"
     },
     "user_tz": 300
    },
    "id": "5013c434"
   },
   "outputs": [],
   "source": [
    "from sklearn.cluster import DBSCAN"
   ]
  },
  {
   "cell_type": "code",
   "execution_count": null,
   "id": "511971d2",
   "metadata": {
    "executionInfo": {
     "elapsed": 10,
     "status": "aborted",
     "timestamp": 1682988433367,
     "user": {
      "displayName": "César Mosqueira",
      "userId": "11705195256143475621"
     },
     "user_tz": 300
    },
    "id": "511971d2"
   },
   "outputs": [],
   "source": [
    "\n",
    "dbscan = DBSCAN(eps=0.5, min_samples=5)\n",
    "\n",
    "\n",
    "dbscan.fit(df_A)\n",
    "\n",
    "labels = dbscan.labels_\n",
    "silhouette_avg = silhouette_score(df_A, labels)\n"
   ]
  },
  {
   "cell_type": "code",
   "execution_count": null,
   "id": "e4ed393c",
   "metadata": {
    "executionInfo": {
     "elapsed": 10,
     "status": "aborted",
     "timestamp": 1682988433367,
     "user": {
      "displayName": "César Mosqueira",
      "userId": "11705195256143475621"
     },
     "user_tz": 300
    },
    "id": "e4ed393c"
   },
   "outputs": [],
   "source": [
    "print(\"Silhouette score for dbscan:\", silhouette_avg)\n",
    "\n",
    "labels = dbscan.labels_\n",
    "n_clusters = len(set(labels)) - (1 if -1 in labels else 0)\n",
    "print('Number of clusters:', n_clusters)\n"
   ]
  },
  {
   "cell_type": "markdown",
   "id": "xiYr9iVMtfbS",
   "metadata": {
    "id": "xiYr9iVMtfbS"
   },
   "source": [
    "I tried to take an unsupervised learning approach but the first silhouette sizes i got were around 0.05 and 0.20. After trying different feature engineering tasks and dropping features I got a 0.42 using kmeans (6 clusters) and 0.411 using dbscan.\n",
    "\n",
    "After multiplying by 2 the types of offer, the kmeans model got to 0.49 in silhouette score using 3 clusters but dbscan staid con 0.41\n",
    "\n",
    "I understand that the silhouette score is not the only metric I have to analyze but it gives a solid idea of the similarity of the items in each cluster. \n",
    "\n",
    "\n",
    "So im gonna try to give some conclusion on top of those clusters and after that try the same with a supervised learning approach which I don't think it would be the best approach in a real case scenario"
   ]
  },
  {
   "cell_type": "code",
   "execution_count": null,
   "id": "WDzCBNSbSsUk",
   "metadata": {
    "executionInfo": {
     "elapsed": 10,
     "status": "aborted",
     "timestamp": 1682988433367,
     "user": {
      "displayName": "César Mosqueira",
      "userId": "11705195256143475621"
     },
     "user_tz": 300
    },
    "id": "WDzCBNSbSsUk"
   },
   "outputs": [],
   "source": [
    "n_clusters = 6"
   ]
  },
  {
   "cell_type": "code",
   "execution_count": null,
   "id": "51e852c0",
   "metadata": {
    "executionInfo": {
     "elapsed": 10,
     "status": "aborted",
     "timestamp": 1682988433367,
     "user": {
      "displayName": "César Mosqueira",
      "userId": "11705195256143475621"
     },
     "user_tz": 300
    },
    "id": "51e852c0"
   },
   "outputs": [],
   "source": [
    "kmeans = KMeans(n_clusters=n_clusters, random_state=42)\n",
    "\n",
    "kmeans.fit(df_A)\n",
    "\n"
   ]
  },
  {
   "cell_type": "code",
   "execution_count": 77,
   "id": "TR7Zqk_Jpdpt",
   "metadata": {
    "executionInfo": {
     "elapsed": 439,
     "status": "ok",
     "timestamp": 1682988442953,
     "user": {
      "displayName": "César Mosqueira",
      "userId": "11705195256143475621"
     },
     "user_tz": 300
    },
    "id": "TR7Zqk_Jpdpt"
   },
   "outputs": [],
   "source": [
    "cols = \"income age duration total_spent frequency income/age join_year join_month gender_F gender_M gender_O type_bogo type_discount type_informational\".split()"
   ]
  },
  {
   "cell_type": "code",
   "execution_count": null,
   "id": "jOIfHlju9Quo",
   "metadata": {
    "executionInfo": {
     "elapsed": 11,
     "status": "aborted",
     "timestamp": 1682988433368,
     "user": {
      "displayName": "César Mosqueira",
      "userId": "11705195256143475621"
     },
     "user_tz": 300
    },
    "id": "jOIfHlju9Quo"
   },
   "outputs": [],
   "source": [
    "centroids = scaler.inverse_transform(kmeans.cluster_centers_)\n",
    "\n",
    "df_centroids = pd.DataFrame(centroids, columns=cols)\n",
    "\n",
    "# Print the dataframe\n",
    "df_centroids.round(3).sort_values('income')"
   ]
  },
  {
   "cell_type": "markdown",
   "id": "dbSvljI6DEHr",
   "metadata": {
    "id": "dbSvljI6DEHr"
   },
   "source": [
    "### Cluster analyzis\n",
    "\n",
    "I sorted the clusters by income because i see a difference between the first three and the last three. Their income and age. We can also see that the last three present more female gender than the first three."
   ]
  },
  {
   "cell_type": "code",
   "execution_count": null,
   "id": "yc41w6lAtds8",
   "metadata": {
    "executionInfo": {
     "elapsed": 11,
     "status": "aborted",
     "timestamp": 1682988433368,
     "user": {
      "displayName": "César Mosqueira",
      "userId": "11705195256143475621"
     },
     "user_tz": 300
    },
    "id": "yc41w6lAtds8"
   },
   "outputs": [],
   "source": [
    "\n",
    "# Get the size and density of each cluster\n",
    "labels = kmeans.labels_\n",
    "unique, counts = np.unique(labels, return_counts=True)\n",
    "cluster_sizes = dict(zip(unique, counts))\n",
    "print(\"Cluster sizes:\", cluster_sizes)\n",
    "\n",
    "cluster_densities = {}\n",
    "for i in range(kmeans.n_clusters):\n",
    "    distances = kmeans.transform(df_A)[:, i]\n",
    "    density = sum(distances) / len(distances)\n",
    "    cluster_densities[i] = density\n",
    "print(\"Cluster densities:\", cluster_densities)"
   ]
  },
  {
   "cell_type": "code",
   "execution_count": null,
   "id": "IbYhrg1ZVDA1",
   "metadata": {
    "executionInfo": {
     "elapsed": 11,
     "status": "aborted",
     "timestamp": 1682988433368,
     "user": {
      "displayName": "César Mosqueira",
      "userId": "11705195256143475621"
     },
     "user_tz": 300
    },
    "id": "IbYhrg1ZVDA1"
   },
   "outputs": [],
   "source": [
    "df =  pd.DataFrame(data=scaler.inverse_transform(df_A), columns=cols)\n",
    "df['cluster'] = labels"
   ]
  },
  {
   "cell_type": "code",
   "execution_count": null,
   "id": "Jj0LYzrYVgQJ",
   "metadata": {
    "executionInfo": {
     "elapsed": 11,
     "status": "aborted",
     "timestamp": 1682988433368,
     "user": {
      "displayName": "César Mosqueira",
      "userId": "11705195256143475621"
     },
     "user_tz": 300
    },
    "id": "Jj0LYzrYVgQJ"
   },
   "outputs": [],
   "source": [
    "plt.figure(figsize=(3,1))\n",
    "df_means_long = pd.melt(df[['income', 'cluster']], id_vars=['cluster'], var_name='feature', value_name='mean')\n",
    "# Create bar charts for each cluster and feature\n",
    "g = sb.catplot(x='feature', y='mean', hue='cluster', data=df_means_long, kind='bar', height=4, aspect=3)\n",
    "g.set_xticklabels(rotation=45, horizontalalignment='right')\n",
    "plt.show()"
   ]
  },
  {
   "cell_type": "code",
   "execution_count": null,
   "id": "0y2oOWGIU2Td",
   "metadata": {
    "executionInfo": {
     "elapsed": 11,
     "status": "aborted",
     "timestamp": 1682988433369,
     "user": {
      "displayName": "César Mosqueira",
      "userId": "11705195256143475621"
     },
     "user_tz": 300
    },
    "id": "0y2oOWGIU2Td"
   },
   "outputs": [],
   "source": [
    "plt.figure(figsize=(3,1))\n",
    "df_means_long = pd.melt(df['cluster type_bogo type_informational type_discount'.split()], id_vars=['cluster'], var_name='feature', value_name='mean')\n",
    "# Create bar charts for each cluster and feature\n",
    "g = sb.catplot(x='feature', y='mean', hue='cluster', data=df_means_long, kind='bar', height=4, aspect=3)\n",
    "g.set_xticklabels(rotation=45, horizontalalignment='right')\n",
    "plt.show()"
   ]
  },
  {
   "cell_type": "markdown",
   "id": "k0yqYfehWjso",
   "metadata": {
    "id": "k0yqYfehWjso"
   },
   "source": [
    "Kmeans suggests that the dataset is not separated since the centroids it shows are very similar. Im gonna try to classify the type of offer with a couple classifying algorithms\n",
    "### Classification task\n",
    "\n",
    "I'm gonna ignore the 'informational' just to be able to plot a ROC curve between the predictions of bogo type and discount type"
   ]
  },
  {
   "cell_type": "code",
   "execution_count": 78,
   "id": "YURAfWNKXW2N",
   "metadata": {
    "executionInfo": {
     "elapsed": 345,
     "status": "ok",
     "timestamp": 1682988448859,
     "user": {
      "displayName": "César Mosqueira",
      "userId": "11705195256143475621"
     },
     "user_tz": 300
    },
    "id": "YURAfWNKXW2N"
   },
   "outputs": [],
   "source": [
    "encoder = LabelEncoder()\n",
    "df_Y = encoder.fit_transform(df_Y)"
   ]
  },
  {
   "cell_type": "code",
   "execution_count": 79,
   "id": "b0UTrQR20w0F",
   "metadata": {
    "colab": {
     "base_uri": "https://localhost:8080/"
    },
    "executionInfo": {
     "elapsed": 1,
     "status": "ok",
     "timestamp": 1682988449273,
     "user": {
      "displayName": "César Mosqueira",
      "userId": "11705195256143475621"
     },
     "user_tz": 300
    },
    "id": "b0UTrQR20w0F",
    "outputId": "3a0eb303-ea8e-4db3-aa7e-b1de3a0b3eaf"
   },
   "outputs": [
    {
     "data": {
      "text/plain": [
       "array([0, 1, 2])"
      ]
     },
     "execution_count": 79,
     "metadata": {},
     "output_type": "execute_result"
    }
   ],
   "source": [
    "np.unique(df_Y)"
   ]
  },
  {
   "cell_type": "code",
   "execution_count": 84,
   "id": "mTDK3lcIXwga",
   "metadata": {
    "executionInfo": {
     "elapsed": 367,
     "status": "ok",
     "timestamp": 1682988461767,
     "user": {
      "displayName": "César Mosqueira",
      "userId": "11705195256143475621"
     },
     "user_tz": 300
    },
    "id": "mTDK3lcIXwga"
   },
   "outputs": [],
   "source": [
    "df_A = scaler.inverse_transform(df_A)\n",
    "df_A = pd.DataFrame(df_A, columns=cols)\n",
    "to_drop = 'type_bogo type_discount type_informational'.split()\n",
    "df_A = df_A.drop(to_drop, axis=1)"
   ]
  },
  {
   "cell_type": "code",
   "execution_count": 85,
   "id": "OfOzSo-tuCAl",
   "metadata": {
    "colab": {
     "base_uri": "https://localhost:8080/"
    },
    "executionInfo": {
     "elapsed": 265,
     "status": "ok",
     "timestamp": 1682988464061,
     "user": {
      "displayName": "César Mosqueira",
      "userId": "11705195256143475621"
     },
     "user_tz": 300
    },
    "id": "OfOzSo-tuCAl",
    "outputId": "caaa716a-cdb1-4fd7-fbaa-d16be165432b"
   },
   "outputs": [
    {
     "name": "stdout",
     "output_type": "stream",
     "text": [
      "[    8     9    18 ... 67251 67252 67253]\n"
     ]
    }
   ],
   "source": [
    "del_indices = np.where(df_Y == 2)[0]\n",
    "print(del_indices)\n",
    "df_B = df_A.drop(del_indices.tolist())"
   ]
  },
  {
   "cell_type": "code",
   "execution_count": 86,
   "id": "fa9N8uwDuzDX",
   "metadata": {
    "executionInfo": {
     "elapsed": 246,
     "status": "ok",
     "timestamp": 1682988466206,
     "user": {
      "displayName": "César Mosqueira",
      "userId": "11705195256143475621"
     },
     "user_tz": 300
    },
    "id": "fa9N8uwDuzDX"
   },
   "outputs": [],
   "source": [
    "df_Binary_Y = df_Y[np.where(df_Y != 2)]"
   ]
  },
  {
   "cell_type": "code",
   "execution_count": 87,
   "id": "hqPeNjUFvd8u",
   "metadata": {
    "colab": {
     "base_uri": "https://localhost:8080/"
    },
    "executionInfo": {
     "elapsed": 1,
     "status": "ok",
     "timestamp": 1682988466711,
     "user": {
      "displayName": "César Mosqueira",
      "userId": "11705195256143475621"
     },
     "user_tz": 300
    },
    "id": "hqPeNjUFvd8u",
    "outputId": "aa9e1a56-630c-45e0-efde-858582f78d92"
   },
   "outputs": [
    {
     "data": {
      "text/plain": [
       "((51284,), (51284, 11))"
      ]
     },
     "execution_count": 87,
     "metadata": {},
     "output_type": "execute_result"
    }
   ],
   "source": [
    "df_Binary_Y.shape, df_B.shape"
   ]
  },
  {
   "cell_type": "code",
   "execution_count": 88,
   "id": "6nkiXRRTqf4_",
   "metadata": {
    "colab": {
     "base_uri": "https://localhost:8080/"
    },
    "executionInfo": {
     "elapsed": 2,
     "status": "ok",
     "timestamp": 1682988467019,
     "user": {
      "displayName": "César Mosqueira",
      "userId": "11705195256143475621"
     },
     "user_tz": 300
    },
    "id": "6nkiXRRTqf4_",
    "outputId": "964cdc5f-5ab5-471d-c859-934902882004"
   },
   "outputs": [
    {
     "data": {
      "text/plain": [
       "((67354, 11), (67354,))"
      ]
     },
     "execution_count": 88,
     "metadata": {},
     "output_type": "execute_result"
    }
   ],
   "source": [
    "df_A.shape, df_Y.shape"
   ]
  },
  {
   "cell_type": "code",
   "execution_count": 89,
   "id": "8vLn-XDpX6Bt",
   "metadata": {
    "executionInfo": {
     "elapsed": 1,
     "status": "ok",
     "timestamp": 1682988467369,
     "user": {
      "displayName": "César Mosqueira",
      "userId": "11705195256143475621"
     },
     "user_tz": 300
    },
    "id": "8vLn-XDpX6Bt"
   },
   "outputs": [],
   "source": [
    "X_train_3, X_test_3, y_train_3, y_test_3 = train_test_split(df_A, df_Y, test_size=0.2, random_state=42)\n",
    "X_train, X_test, y_train, y_test = train_test_split(df_B, df_Binary_Y, test_size=0.2, random_state=42)"
   ]
  },
  {
   "cell_type": "markdown",
   "id": "EOPw-aBYr9H8",
   "metadata": {
    "id": "EOPw-aBYr9H8"
   },
   "source": [
    "### Random forest classifier\n",
    "In this case im using rf for classification not regression. It uses a decision tree technique so in this case, since i got a lot of features in this dataframe it can handle them to prevent overfitting. "
   ]
  },
  {
   "cell_type": "code",
   "execution_count": 90,
   "id": "vxQvBi4HYRYM",
   "metadata": {
    "executionInfo": {
     "elapsed": 11687,
     "status": "ok",
     "timestamp": 1682988481357,
     "user": {
      "displayName": "César Mosqueira",
      "userId": "11705195256143475621"
     },
     "user_tz": 300
    },
    "id": "vxQvBi4HYRYM"
   },
   "outputs": [],
   "source": [
    "rfc = RandomForestClassifier(n_estimators=100, random_state=42)\n",
    "rfc.fit(X_train_3, y_train_3)\n",
    "\n",
    "y_pred_3 = rfc.predict(X_test_3)"
   ]
  },
  {
   "cell_type": "code",
   "execution_count": 91,
   "id": "Mn0G3wcMhOaA",
   "metadata": {
    "colab": {
     "base_uri": "https://localhost:8080/",
     "height": 393
    },
    "executionInfo": {
     "elapsed": 1080,
     "status": "ok",
     "timestamp": 1682988482427,
     "user": {
      "displayName": "César Mosqueira",
      "userId": "11705195256143475621"
     },
     "user_tz": 300
    },
    "id": "Mn0G3wcMhOaA",
    "outputId": "d3079fdd-fe35-42af-f6dd-8c25c09fbc5d"
   },
   "outputs": [
    {
     "data": {
      "image/png": "[encoded data removed]",
      "text/plain": [
       "<Figure size 600x400 with 2 Axes>"
      ]
     },
     "metadata": {},
     "output_type": "display_data"
    }
   ],
   "source": [
    "fig, ax = plt.subplots(figsize=(6,4))\n",
    "cm = confusion_matrix(y_test_3, y_pred_3, normalize='true')\n",
    "disp = ConfusionMatrixDisplay(confusion_matrix=cm, display_labels=['bogo', 'discount', 'informational'])\n",
    "disp.plot(ax=ax)\n",
    "plt.show()"
   ]
  },
  {
   "cell_type": "markdown",
   "id": "8OKRwNOVwV-4",
   "metadata": {
    "id": "8OKRwNOVwV-4"
   },
   "source": [
    "### Now using only bogo and discount. because informational is not giving relevant output"
   ]
  },
  {
   "cell_type": "code",
   "execution_count": 93,
   "id": "LKZmAqeH1tpy",
   "metadata": {
    "executionInfo": {
     "elapsed": 294,
     "status": "ok",
     "timestamp": 1682988485772,
     "user": {
      "displayName": "César Mosqueira",
      "userId": "11705195256143475621"
     },
     "user_tz": 300
    },
    "id": "LKZmAqeH1tpy"
   },
   "outputs": [],
   "source": [
    "benchmark = {\n",
    "    'rfc': {\n",
    "        'fpr': 0,\n",
    "        'tpr': 0,\n",
    "        'roc_auc': 0\n",
    "    },\n",
    "    'svm': {\n",
    "        'fpr': 0,\n",
    "        'tpr': 0,\n",
    "        'roc_auc': 0\n",
    "    },\n",
    "    'lr': {\n",
    "        'fpr': 0,\n",
    "        'tpr': 0,\n",
    "        'roc_auc': 0\n",
    "    }\n",
    "    \n",
    "}"
   ]
  },
  {
   "cell_type": "markdown",
   "id": "ZjSgrw142izP",
   "metadata": {
    "id": "ZjSgrw142izP"
   },
   "source": [
    "### Random forest again"
   ]
  },
  {
   "cell_type": "code",
   "execution_count": 113,
   "id": "OFa3qFmttTLA",
   "metadata": {
    "executionInfo": {
     "elapsed": 8588,
     "status": "ok",
     "timestamp": 1682989225505,
     "user": {
      "displayName": "César Mosqueira",
      "userId": "11705195256143475621"
     },
     "user_tz": 300
    },
    "id": "OFa3qFmttTLA"
   },
   "outputs": [],
   "source": [
    "rfc = RandomForestClassifier(n_estimators=100, random_state=42)\n",
    "rfc.fit(X_train, y_train)\n",
    "\n",
    "y_pred = rfc.predict(X_test)"
   ]
  },
  {
   "cell_type": "code",
   "execution_count": 114,
   "id": "i53YIDhYwrJK",
   "metadata": {
    "colab": {
     "base_uri": "https://localhost:8080/",
     "height": 388
    },
    "executionInfo": {
     "elapsed": 408,
     "status": "ok",
     "timestamp": 1682989225911,
     "user": {
      "displayName": "César Mosqueira",
      "userId": "11705195256143475621"
     },
     "user_tz": 300
    },
    "id": "i53YIDhYwrJK",
    "outputId": "c7a790e3-d8d6-4bae-c76b-5886dbece1fb"
   },
   "outputs": [
    {
     "data": {
      "image/png": "[encoded data removed]",
      "text/plain": [
       "<Figure size 600x400 with 2 Axes>"
      ]
     },
     "metadata": {},
     "output_type": "display_data"
    }
   ],
   "source": [
    "fig, ax = plt.subplots(figsize=(6,4))\n",
    "cm = confusion_matrix(y_test, y_pred, normalize='true')\n",
    "disp = ConfusionMatrixDisplay(confusion_matrix=cm, display_labels=['bogo', 'discount'])\n",
    "disp.plot(ax=ax)\n",
    "plt.show()"
   ]
  },
  {
   "cell_type": "code",
   "execution_count": 115,
   "id": "dVJmHpFotGyA",
   "metadata": {
    "executionInfo": {
     "elapsed": 478,
     "status": "ok",
     "timestamp": 1682989226386,
     "user": {
      "displayName": "César Mosqueira",
      "userId": "11705195256143475621"
     },
     "user_tz": 300
    },
    "id": "dVJmHpFotGyA"
   },
   "outputs": [],
   "source": [
    "\n",
    "\n",
    "fpr, tpr, thresholds = roc_curve(y_test, y_pred)\n",
    "\n",
    "# calculate area under the curve (AUC)\n",
    "roc_auc = auc(fpr, tpr)\n",
    "\n",
    "benchmark['rfc']['roc_auc'] = roc_auc\n",
    "benchmark['rfc']['fpr'] = fpr\n",
    "benchmark['rfc']['tpr'] = tpr"
   ]
  },
  {
   "cell_type": "markdown",
   "id": "_Eofj5XF2mGV",
   "metadata": {
    "id": "_Eofj5XF2mGV"
   },
   "source": [
    "### SVM\n",
    "SVM shouldn't be a model with good performance in this case since it's gonna try to separate the data finding the best function that differenciate the data in the hyperplane. Since kmeans didn't worked well, svm shouldn't but maybe it gives a good answer now that we're trying to classify instead of clusterize.\n",
    "\n",
    "I stopped the linear kernel after 15m because i didnt think the output was gonna be good.\n",
    "\n",
    "The poly kernel didn't do good either."
   ]
  },
  {
   "cell_type": "code",
   "execution_count": 116,
   "id": "SYZxgIGA3GkB",
   "metadata": {
    "executionInfo": {
     "elapsed": 126690,
     "status": "ok",
     "timestamp": 1682989353072,
     "user": {
      "displayName": "César Mosqueira",
      "userId": "11705195256143475621"
     },
     "user_tz": 300
    },
    "id": "SYZxgIGA3GkB"
   },
   "outputs": [],
   "source": [
    "svm = SVC(kernel='poly')\n",
    "\n",
    "svm.fit(X_train, y_train)\n",
    "\n",
    "y_pred = svm.predict(X_test)\n"
   ]
  },
  {
   "cell_type": "code",
   "execution_count": 117,
   "id": "-MzGJxMD3Gpo",
   "metadata": {
    "colab": {
     "base_uri": "https://localhost:8080/",
     "height": 393
    },
    "executionInfo": {
     "elapsed": 14,
     "status": "ok",
     "timestamp": 1682989353073,
     "user": {
      "displayName": "César Mosqueira",
      "userId": "11705195256143475621"
     },
     "user_tz": 300
    },
    "id": "-MzGJxMD3Gpo",
    "outputId": "29e7aad8-5bfc-4767-a2c0-8aa2b5325753"
   },
   "outputs": [
    {
     "data": {
      "image/png": "[encoded data removed]",
      "text/plain": [
       "<Figure size 600x400 with 2 Axes>"
      ]
     },
     "metadata": {},
     "output_type": "display_data"
    }
   ],
   "source": [
    "fig, ax = plt.subplots(figsize=(6,4))\n",
    "cm = confusion_matrix(y_test, y_pred, normalize='true')\n",
    "disp = ConfusionMatrixDisplay(confusion_matrix=cm, display_labels=['bogo', 'discount'])\n",
    "disp.plot(ax=ax)\n",
    "plt.show()"
   ]
  },
  {
   "cell_type": "code",
   "execution_count": 118,
   "id": "J8NQYcHl8VhE",
   "metadata": {
    "executionInfo": {
     "elapsed": 3,
     "status": "ok",
     "timestamp": 1682989353957,
     "user": {
      "displayName": "César Mosqueira",
      "userId": "11705195256143475621"
     },
     "user_tz": 300
    },
    "id": "J8NQYcHl8VhE"
   },
   "outputs": [],
   "source": [
    "fpr, tpr, thresholds = roc_curve(y_test, y_pred)\n",
    "\n",
    "# calculate area under the curve (AUC)\n",
    "roc_auc = auc(fpr, tpr)\n",
    "\n",
    "benchmark['svm']['roc_auc'] = roc_auc\n",
    "benchmark['svm']['fpr'] = fpr\n",
    "benchmark['svm']['tpr'] = tpr"
   ]
  },
  {
   "cell_type": "markdown",
   "id": "Rk_LX4KW8c_F",
   "metadata": {
    "id": "Rk_LX4KW8c_F"
   },
   "source": [
    "### Logistic regresion\n",
    "\n",
    "logistic regression shouldn't be an approach to classify offer types but is often used for binary classification as well."
   ]
  },
  {
   "cell_type": "code",
   "execution_count": 119,
   "id": "Bg1tAMtJ8dI_",
   "metadata": {
    "executionInfo": {
     "elapsed": 1414,
     "status": "ok",
     "timestamp": 1682989355369,
     "user": {
      "displayName": "César Mosqueira",
      "userId": "11705195256143475621"
     },
     "user_tz": 300
    },
    "id": "Bg1tAMtJ8dI_"
   },
   "outputs": [],
   "source": [
    "lr_model = LogisticRegression(random_state=42, max_iter=1000)\n",
    "\n",
    "lr_model.fit(X_train, y_train)\n",
    "\n",
    "y_pred = lr_model.predict(X_test)"
   ]
  },
  {
   "cell_type": "code",
   "execution_count": 120,
   "id": "N2EW2BRr90LU",
   "metadata": {
    "colab": {
     "base_uri": "https://localhost:8080/",
     "height": 388
    },
    "executionInfo": {
     "elapsed": 5,
     "status": "ok",
     "timestamp": 1682989355370,
     "user": {
      "displayName": "César Mosqueira",
      "userId": "11705195256143475621"
     },
     "user_tz": 300
    },
    "id": "N2EW2BRr90LU",
    "outputId": "95b0ed4d-fb07-41b6-9507-5f119701ba83"
   },
   "outputs": [
    {
     "data": {
      "image/png": "[encoded data removed]",
      "text/plain": [
       "<Figure size 600x400 with 2 Axes>"
      ]
     },
     "metadata": {},
     "output_type": "display_data"
    }
   ],
   "source": [
    "fig, ax = plt.subplots(figsize=(6,4))\n",
    "cm = confusion_matrix(y_test, y_pred, normalize='true')\n",
    "disp = ConfusionMatrixDisplay(confusion_matrix=cm, display_labels=['bogo', 'discount'])\n",
    "disp.plot(ax=ax)\n",
    "plt.show()"
   ]
  },
  {
   "cell_type": "code",
   "execution_count": 121,
   "id": "xwSESdlG8wB0",
   "metadata": {
    "executionInfo": {
     "elapsed": 4,
     "status": "ok",
     "timestamp": 1682989355370,
     "user": {
      "displayName": "César Mosqueira",
      "userId": "11705195256143475621"
     },
     "user_tz": 300
    },
    "id": "xwSESdlG8wB0"
   },
   "outputs": [],
   "source": [
    "fpr, tpr, thresholds = roc_curve(y_test, y_pred)\n",
    "\n",
    "# calculate area under the curve (AUC)\n",
    "roc_auc = auc(fpr, tpr)\n",
    "\n",
    "benchmark['lr']['roc_auc'] = roc_auc\n",
    "benchmark['lr']['fpr'] = fpr\n",
    "benchmark['lr']['tpr'] = tpr"
   ]
  },
  {
   "cell_type": "markdown",
   "id": "ISkJcJqW_W0k",
   "metadata": {
    "id": "ISkJcJqW_W0k"
   },
   "source": [
    "### KNN\n",
    "\n",
    "Knn is a very lazy algorithm in this case im only gonna try it with 5 neighbors because im thinking that the decision tree algorithms will perform better."
   ]
  },
  {
   "cell_type": "code",
   "execution_count": 129,
   "id": "lJEj9W95_WFx",
   "metadata": {
    "executionInfo": {
     "elapsed": 1177,
     "status": "ok",
     "timestamp": 1682989582953,
     "user": {
      "displayName": "César Mosqueira",
      "userId": "11705195256143475621"
     },
     "user_tz": 300
    },
    "id": "lJEj9W95_WFx"
   },
   "outputs": [],
   "source": [
    "knn = KNeighborsClassifier(n_neighbors=5)\n",
    "knn.fit(X_train, y_train)\n",
    "y_pred = knn.predict(X_test)"
   ]
  },
  {
   "cell_type": "code",
   "execution_count": 130,
   "id": "sL7JolXW_ku2",
   "metadata": {
    "colab": {
     "base_uri": "https://localhost:8080/",
     "height": 388
    },
    "executionInfo": {
     "elapsed": 515,
     "status": "ok",
     "timestamp": 1682989584333,
     "user": {
      "displayName": "César Mosqueira",
      "userId": "11705195256143475621"
     },
     "user_tz": 300
    },
    "id": "sL7JolXW_ku2",
    "outputId": "a7f07762-dbcc-4af2-ccf3-df582445ee43"
   },
   "outputs": [
    {
     "data": {
      "image/png": "[encoded data removed]",
      "text/plain": [
       "<Figure size 600x400 with 2 Axes>"
      ]
     },
     "metadata": {},
     "output_type": "display_data"
    }
   ],
   "source": [
    "fig, ax = plt.subplots(figsize=(6,4))\n",
    "cm = confusion_matrix(y_test, y_pred, normalize='true')\n",
    "disp = ConfusionMatrixDisplay(confusion_matrix=cm, display_labels=['bogo', 'discount'])\n",
    "disp.plot(ax=ax)\n",
    "plt.show()"
   ]
  },
  {
   "cell_type": "code",
   "execution_count": 132,
   "id": "E8w4UE4S_yov",
   "metadata": {
    "executionInfo": {
     "elapsed": 267,
     "status": "ok",
     "timestamp": 1682989635531,
     "user": {
      "displayName": "César Mosqueira",
      "userId": "11705195256143475621"
     },
     "user_tz": 300
    },
    "id": "E8w4UE4S_yov"
   },
   "outputs": [],
   "source": [
    "fpr, tpr, thresholds = roc_curve(y_test, y_pred)\n",
    "\n",
    "# calculate area under the curve (AUC)\n",
    "roc_auc = auc(fpr, tpr)\n",
    "benchmark['knn'] = {}\n",
    "benchmark['knn']['roc_auc'] = roc_auc\n",
    "benchmark['knn']['fpr'] = fpr\n",
    "benchmark['knn']['tpr'] = tpr"
   ]
  },
  {
   "cell_type": "markdown",
   "id": "24qk_qGv_Zsr",
   "metadata": {
    "id": "24qk_qGv_Zsr"
   },
   "source": [
    "## Decision trees  Algorithms\n",
    "\n",
    "Since random forest got the best performance so far im gonna try these two other decision tree algorithms, cart and id3. They're both suitable for regression and classification tasks."
   ]
  },
  {
   "cell_type": "markdown",
   "id": "w3_Q0_raCcH1",
   "metadata": {
    "id": "w3_Q0_raCcH1"
   },
   "source": [
    "### CART Algorithm\n",
    " Classification and Regression Trees. Its a binary tree algorithm, is prone to overfitting but can give good results."
   ]
  },
  {
   "cell_type": "code",
   "execution_count": 135,
   "id": "RIaLJiVr_xyD",
   "metadata": {
    "executionInfo": {
     "elapsed": 867,
     "status": "ok",
     "timestamp": 1682989700963,
     "user": {
      "displayName": "César Mosqueira",
      "userId": "11705195256143475621"
     },
     "user_tz": 300
    },
    "id": "RIaLJiVr_xyD"
   },
   "outputs": [],
   "source": [
    "cart = DecisionTreeClassifier(criterion='gini')\n",
    "cart.fit(X_train, y_train)\n",
    "y_pred = cart.predict(X_test)\n"
   ]
  },
  {
   "cell_type": "code",
   "execution_count": 136,
   "id": "CVyVFuSlAOkL",
   "metadata": {
    "colab": {
     "base_uri": "https://localhost:8080/",
     "height": 393
    },
    "executionInfo": {
     "elapsed": 689,
     "status": "ok",
     "timestamp": 1682989708352,
     "user": {
      "displayName": "César Mosqueira",
      "userId": "11705195256143475621"
     },
     "user_tz": 300
    },
    "id": "CVyVFuSlAOkL",
    "outputId": "40d9f906-22c0-4b72-e722-ad3e3535b1d9"
   },
   "outputs": [
    {
     "data": {
      "image/png": "[encoded data removed]",
      "text/plain": [
       "<Figure size 600x400 with 2 Axes>"
      ]
     },
     "metadata": {},
     "output_type": "display_data"
    }
   ],
   "source": [
    "fig, ax = plt.subplots(figsize=(6,4))\n",
    "cm = confusion_matrix(y_test, y_pred, normalize='true')\n",
    "disp = ConfusionMatrixDisplay(confusion_matrix=cm, display_labels=['bogo', 'discount'])\n",
    "disp.plot(ax=ax)\n",
    "plt.show()"
   ]
  },
  {
   "cell_type": "code",
   "execution_count": 137,
   "id": "514MPTXAAR3A",
   "metadata": {
    "executionInfo": {
     "elapsed": 278,
     "status": "ok",
     "timestamp": 1682989748913,
     "user": {
      "displayName": "César Mosqueira",
      "userId": "11705195256143475621"
     },
     "user_tz": 300
    },
    "id": "514MPTXAAR3A"
   },
   "outputs": [],
   "source": [
    "fpr, tpr, thresholds = roc_curve(y_test, y_pred)\n",
    "\n",
    "# calculate area under the curve (AUC)\n",
    "roc_auc = auc(fpr, tpr)\n",
    "benchmark['cart'] = {}\n",
    "benchmark['cart']['roc_auc'] = roc_auc\n",
    "benchmark['cart']['fpr'] = fpr\n",
    "benchmark['cart']['tpr'] = tpr"
   ]
  },
  {
   "cell_type": "markdown",
   "id": "4jbd9mrx_Zme",
   "metadata": {
    "id": "4jbd9mrx_Zme"
   },
   "source": [
    "###  ID3 algorithm\n",
    "Iterative Dichotomiser 3, is faster than cart even though is a decision tree algorithm rather than binary tree."
   ]
  },
  {
   "cell_type": "code",
   "execution_count": 138,
   "id": "N8c2AEs9_ZRH",
   "metadata": {
    "executionInfo": {
     "elapsed": 1642,
     "status": "ok",
     "timestamp": 1682989760304,
     "user": {
      "displayName": "César Mosqueira",
      "userId": "11705195256143475621"
     },
     "user_tz": 300
    },
    "id": "N8c2AEs9_ZRH"
   },
   "outputs": [],
   "source": [
    "id3 = DecisionTreeClassifier(criterion='entropy')\n",
    "id3.fit(X_train, y_train)\n",
    "y_pred = id3.predict(X_test)"
   ]
  },
  {
   "cell_type": "code",
   "execution_count": 139,
   "id": "Qs86-hT4AcwD",
   "metadata": {
    "colab": {
     "base_uri": "https://localhost:8080/",
     "height": 388
    },
    "executionInfo": {
     "elapsed": 845,
     "status": "ok",
     "timestamp": 1682989766721,
     "user": {
      "displayName": "César Mosqueira",
      "userId": "11705195256143475621"
     },
     "user_tz": 300
    },
    "id": "Qs86-hT4AcwD",
    "outputId": "933ff896-6a9c-48d2-df01-dfae2b9e69b8"
   },
   "outputs": [
    {
     "data": {
      "image/png": "[encoded data removed]",
      "text/plain": [
       "<Figure size 600x400 with 2 Axes>"
      ]
     },
     "metadata": {},
     "output_type": "display_data"
    }
   ],
   "source": [
    "fig, ax = plt.subplots(figsize=(6,4))\n",
    "cm = confusion_matrix(y_test, y_pred, normalize='true')\n",
    "disp = ConfusionMatrixDisplay(confusion_matrix=cm, display_labels=['bogo', 'discount'])\n",
    "disp.plot(ax=ax)\n",
    "plt.show()"
   ]
  },
  {
   "cell_type": "code",
   "execution_count": 140,
   "id": "vlphiVh7AfTC",
   "metadata": {
    "executionInfo": {
     "elapsed": 253,
     "status": "ok",
     "timestamp": 1682989783597,
     "user": {
      "displayName": "César Mosqueira",
      "userId": "11705195256143475621"
     },
     "user_tz": 300
    },
    "id": "vlphiVh7AfTC"
   },
   "outputs": [],
   "source": [
    "fpr, tpr, thresholds = roc_curve(y_test, y_pred)\n",
    "\n",
    "# calculate area under the curve (AUC)\n",
    "roc_auc = auc(fpr, tpr)\n",
    "benchmark['id3'] = {}\n",
    "benchmark['id3']['roc_auc'] = roc_auc\n",
    "benchmark['id3']['fpr'] = fpr\n",
    "benchmark['id3']['tpr'] = tpr"
   ]
  },
  {
   "cell_type": "markdown",
   "id": "uj0qDxa6As8W",
   "metadata": {
    "id": "uj0qDxa6As8W"
   },
   "source": [
    "### Comparing roc curves"
   ]
  },
  {
   "cell_type": "code",
   "execution_count": 142,
   "id": "tQOiELkasdyR",
   "metadata": {
    "colab": {
     "base_uri": "https://localhost:8080/",
     "height": 472
    },
    "executionInfo": {
     "elapsed": 1740,
     "status": "ok",
     "timestamp": 1682989815003,
     "user": {
      "displayName": "César Mosqueira",
      "userId": "11705195256143475621"
     },
     "user_tz": 300
    },
    "id": "tQOiELkasdyR",
    "outputId": "a48ee11d-0424-4ffc-bee6-2bbf69eb98be"
   },
   "outputs": [
    {
     "data": {
      "image/png": "[encoded data removed]",
      "text/plain": [
       "<Figure size 640x480 with 1 Axes>"
      ]
     },
     "metadata": {},
     "output_type": "display_data"
    }
   ],
   "source": [
    "\n",
    "def plot_line(algo):\n",
    "    plt.plot( benchmark[algo]['fpr'], benchmark[algo]['tpr'],\n",
    "             label=algo +' curve (area = %0.2f)' %  benchmark[algo]['roc_auc'])\n",
    "\n",
    "plot_line('rfc')\n",
    "plot_line('cart')\n",
    "plot_line('id3')\n",
    "plot_line('lr')\n",
    "plot_line('svm')\n",
    "plot_line('knn')\n",
    "plt.plot([0, 1], [0, 1], 'k--', label='Random guess')\n",
    "plt.xlim([0.0, 1.0])\n",
    "plt.ylim([0.0, 1.0])\n",
    "plt.xlabel('False Positive Rate')\n",
    "plt.ylabel('True Positive Rate')\n",
    "plt.title('Receiver operating characteristic (ROC) curve')\n",
    "plt.legend(loc=\"lower right\")\n",
    "plt.show()"
   ]
  },
  {
   "cell_type": "markdown",
   "id": "6HJFnJ0zDTd5",
   "metadata": {
    "id": "6HJFnJ0zDTd5"
   },
   "source": [
    "## Conclusion\n",
    "The goal was to define which demographic sector responds best to which type of offer. First thing I tried was clusterization so I could compare different groups of users. Then I realized the quality of the clusters wasn't very good so I tried to group the transcript data so I could compare groups of transactions. The best silhouette score I got was 0.49 after trying different approaches. So I concluded that the dataset is not very clusterable because the distances between the data cannot be measured easily. I could've created my own distance function in order to give more or less importance to certain features. I tried dimensionality reduction algorithms like PCA but the output was the same. \n",
    "\n",
    "So I decided to just classify the offer type. The best model was the random forest and other tree algorithms like id3 and cart. I used the dataset after merging the three dataset. I also tried many different ways to merge and clean the data."
   ]
  }
 ],
 "metadata": {
  "colab": {
   "provenance": []
  },
  "kernelspec": {
   "display_name": "Python 3 (ipykernel)",
   "language": "python",
   "name": "python3"
  },
  "language_info": {
   "codemirror_mode": {
    "name": "ipython",
    "version": 3
   },
   "file_extension": ".py",
   "mimetype": "text/x-python",
   "name": "python",
   "nbconvert_exporter": "python",
   "pygments_lexer": "ipython3",
   "version": "3.10.10"
  }
 },
 "nbformat": 4,
 "nbformat_minor": 5
}
